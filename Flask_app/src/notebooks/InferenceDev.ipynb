{
 "cells": [
  {
   "cell_type": "code",
   "execution_count": 28,
   "id": "e033a5f6",
   "metadata": {},
   "outputs": [
    {
     "name": "stderr",
     "output_type": "stream",
     "text": [
      "[nltk_data] Downloading package punkt to /Users/kaushik/nltk_data...\n",
      "[nltk_data]   Package punkt is already up-to-date!\n"
     ]
    }
   ],
   "source": [
    "import numpy as np\n",
    "import pandas as pd\n",
    "import scipy\n",
    "import skmultilearn\n",
    "import os\n",
    "import nltk\n",
    "from nltk.corpus import stopwords, twitter_samples\n",
    "from nltk.stem import PorterStemmer\n",
    "from nltk.tokenize import TweetTokenizer\n",
    "import re\n",
    "import gensim\n",
    "import glob\n",
    "from bs4 import BeautifulSoup\n",
    "from urllib.request import urlopen\n",
    "import urllib\n",
    "import random\n",
    "import torch\n",
    "import torch.nn as nn\n",
    "nltk.download(\"punkt\");\n",
    "from argparse import Namespace\n",
    "import json\n",
    "from numpyencoder import NumpyEncoder\n",
    "import pickle"
   ]
  },
  {
   "cell_type": "code",
   "execution_count": 29,
   "id": "02f5be13",
   "metadata": {},
   "outputs": [],
   "source": [
    "import sys\n",
    "sys.path.insert(0, \"/Users/kaushik/MyStuff/Workspace/NEU/DS5500/Project/DS5500_CapstoneProject\")\n",
    "import os"
   ]
  },
  {
   "cell_type": "code",
   "execution_count": 30,
   "id": "d8cf00dc",
   "metadata": {},
   "outputs": [],
   "source": [
    "from src.config import cfg\n",
    "from src.data import prepOPPCorpus\n",
    "from src.data import preprocess\n",
    "\n",
    "from src.models import CNN\n",
    "from src import models\n",
    "\n",
    "from src.main import main\n",
    "from src.main import driver\n",
    "\n",
    "from src.utils import gen\n",
    "from src.utils import metrics\n",
    "from src.utils import embeddings\n",
    "\n",
    "import itertools\n",
    "import numpy as np\n",
    "import pandas as pd"
   ]
  },
  {
   "cell_type": "code",
   "execution_count": 31,
   "id": "a248bd49",
   "metadata": {},
   "outputs": [],
   "source": [
    "# Define experiment name\n",
    "experiment_name = \"CNN_W_FE_U_MF5_50\"\n",
    "#experiment_name = \"CNN_W_FE_M\""
   ]
  },
  {
   "cell_type": "code",
   "execution_count": 32,
   "id": "0fd30b49",
   "metadata": {},
   "outputs": [],
   "source": [
    "experiment_dpath = os.path.join(cfg.PARAM.BEST_PARAM_DPATH, \"best_params_\" + experiment_name)\n",
    "run_id = gen.loadID(os.path.join(experiment_dpath, \"run_ID.txt\"))"
   ]
  },
  {
   "cell_type": "code",
   "execution_count": 33,
   "id": "8149892c",
   "metadata": {},
   "outputs": [],
   "source": [
    "param_dict = gen.loadParams(os.path.join(experiment_dpath, \"best_param_dict.json\"))\n",
    "params = Namespace(**param_dict)"
   ]
  },
  {
   "cell_type": "code",
   "execution_count": 34,
   "id": "9b101e6c",
   "metadata": {},
   "outputs": [
    {
     "data": {
      "text/plain": [
       "'741d584255d04d6baa70b0c7839124aa'"
      ]
     },
     "execution_count": 34,
     "metadata": {},
     "output_type": "execute_result"
    }
   ],
   "source": [
    "run_id"
   ]
  },
  {
   "cell_type": "code",
   "execution_count": 35,
   "id": "a19ec358",
   "metadata": {},
   "outputs": [],
   "source": [
    "text = [\"When You access the Service by or through a mobile device, We may collect certain information automatically, \" \\\n",
    "\"including, but not limited to, the type of mobile device You use, Your mobile device unique ID, the IP address of\" \\\n",
    "\" Your mobile device, Your mobile operating system, the type of mobile Internet browser You use, unique device identifiers \" \\\n",
    "\"and other diagnostic data.\", \"When You access the Service by or through a mobile device, We may collect certain information automatically, \" \\\n",
    "\"including, but not limited to, the type of mobile device You use, Your mobile device unique ID, the IP address of\" \\\n",
    "\" Your mobile device, Your mobile operating system, the type of mobile Internet browser You use, unique device identifiers \" \\\n",
    "\"and other diagnostic data.\", \"When You access the Service by or through a mobile device, We may collect certain information automatically, \" \\\n",
    "\"including, but not limited to, the type of mobile device You use, Your mobile device unique ID, the IP address of\" \\\n",
    "\" Your mobile device, Your mobile operating system, the type of mobile Internet browser You use, unique device identifiers \" \\\n",
    "\"and other diagnostic data.\"]"
   ]
  },
  {
   "cell_type": "code",
   "execution_count": 37,
   "id": "66e89ef9",
   "metadata": {},
   "outputs": [],
   "source": [
    "import mlflow"
   ]
  },
  {
   "cell_type": "code",
   "execution_count": 38,
   "id": "a8deb37a",
   "metadata": {},
   "outputs": [],
   "source": [
    "experiment_id = mlflow.get_run(run_id=run_id).info.experiment_id\n",
    "artifacts_dir = os.path.join(cfg.MLFLOW.MODEL_REGISTRY, experiment_id, run_id, \"artifacts\")"
   ]
  },
  {
   "cell_type": "code",
   "execution_count": 39,
   "id": "4156ad21",
   "metadata": {},
   "outputs": [
    {
     "data": {
      "text/plain": [
       "'/Users/kaushik/MyStuff/Workspace/NEU/DS5500/Project/DS5500_CapstoneProject/mlflow_registry/5/741d584255d04d6baa70b0c7839124aa/artifacts'"
      ]
     },
     "execution_count": 39,
     "metadata": {},
     "output_type": "execute_result"
    }
   ],
   "source": [
    "artifacts_dir"
   ]
  },
  {
   "cell_type": "markdown",
   "id": "308d6cc1",
   "metadata": {},
   "source": [
    "# Get optimal thresholds"
   ]
  },
  {
   "cell_type": "code",
   "execution_count": 9,
   "id": "254539ba",
   "metadata": {},
   "outputs": [],
   "source": [
    "artifacts = driver.loadRunArtifacts(run_id=run_id)"
   ]
  },
  {
   "cell_type": "code",
   "execution_count": 10,
   "id": "8f3856b1",
   "metadata": {},
   "outputs": [],
   "source": [
    "gen.setSeeds(seed=params.seed)"
   ]
  },
  {
   "cell_type": "code",
   "execution_count": 11,
   "id": "d4fca1d3",
   "metadata": {},
   "outputs": [],
   "source": [
    "device = gen.setDevice(cuda=params.cuda)"
   ]
  },
  {
   "cell_type": "code",
   "execution_count": 12,
   "id": "3afc07af",
   "metadata": {},
   "outputs": [],
   "source": [
    "params = artifacts[\"params\"]\n",
    "model = artifacts[\"model\"]\n",
    "tokenizer = artifacts[\"tokenizer\"]\n",
    "label_encoder = artifacts[\"label_encoder\"]\n",
    "model = model.to(device)\n",
    "classes = label_encoder.classes"
   ]
  },
  {
   "cell_type": "code",
   "execution_count": 13,
   "id": "9550b52f",
   "metadata": {},
   "outputs": [
    {
     "name": "stdout",
     "output_type": "stream",
     "text": [
      "🟢 Dataset loaded!\n"
     ]
    }
   ],
   "source": [
    "df = gen.loadDataset(cfg)"
   ]
  },
  {
   "cell_type": "code",
   "execution_count": 14,
   "id": "6069bb2c",
   "metadata": {},
   "outputs": [],
   "source": [
    "df.segment_text = df.segment_text.apply(preprocess.cleanText, lower=params.lower, stem=params.stem)"
   ]
  },
  {
   "cell_type": "code",
   "execution_count": 15,
   "id": "a9337db3",
   "metadata": {},
   "outputs": [],
   "source": [
    "cats = df.category\n",
    "y = label_encoder.encode(df.category)"
   ]
  },
  {
   "cell_type": "code",
   "execution_count": 16,
   "id": "9568b14d",
   "metadata": {},
   "outputs": [],
   "source": [
    "cats_list = list(itertools.chain.from_iterable(cats.values))\n",
    "counts = np.bincount([label_encoder.class_to_index[cat_] for cat_ in cats_list])\n",
    "cat_weights = {i: 1.0 / count for i, count in enumerate(counts)}"
   ]
  },
  {
   "cell_type": "code",
   "execution_count": 17,
   "id": "d57e85f0",
   "metadata": {},
   "outputs": [],
   "source": [
    "gen.setSeeds(seed=params.seed)"
   ]
  },
  {
   "cell_type": "code",
   "execution_count": 18,
   "id": "1a9059cb",
   "metadata": {},
   "outputs": [],
   "source": [
    "X = df.segment_text.to_numpy()\n",
    "X_train, X_, y_train, y_ = preprocess.train_test_split_multilabel(\n",
    "X=X, y=y, train_size=params.train_size\n",
    ")\n",
    "X_val, X_test, y_val, y_test = preprocess.train_test_split_multilabel(X=X_, y=y_, train_size=0.5)\n",
    "test_df = pd.DataFrame({\"segment_text\": X_test, \"category\": label_encoder.decode(y_test)})"
   ]
  },
  {
   "cell_type": "code",
   "execution_count": 19,
   "id": "72858687",
   "metadata": {},
   "outputs": [
    {
     "name": "stdout",
     "output_type": "stream",
     "text": [
      "------------------------------------------------------------\n",
      "Successfully split the dataset into 70% train, 15% val and 15% test!\n",
      "Number of unique segments in total: 3471\n",
      "TRAIN SET\n",
      "Number of unique segments: 2422\n",
      "Percentage of segments containing each of the following categories:\n",
      "                                      Counts Percentage\n",
      "Data Retention                            55      1.91%\n",
      "Data Security                            147       5.1%\n",
      "Do Not Track                              22      0.76%\n",
      "First Party Collection/Use               845      29.3%\n",
      "International and Specific Audiences     211      7.32%\n",
      "Introductory/Generic                     273      9.47%\n",
      "Policy Change                             83      2.88%\n",
      "Practice not covered                      90      3.12%\n",
      "Privacy contact information              142      4.92%\n",
      "Third Party Sharing/Collection           661     22.92%\n",
      "User Access, Edit and Deletion           104      3.61%\n",
      "User Choice/Control                      251       8.7%\n",
      "------------------------------------------------------------\n",
      "DEV SET\n",
      "Number of unique segments: 522\n",
      "Percentage of segments containing each of the following categories:\n",
      "                                      Counts Percentage\n",
      "Data Retention                            11      1.79%\n",
      "Data Security                             32      5.19%\n",
      "Do Not Track                               4      0.65%\n",
      "First Party Collection/Use               181     29.38%\n",
      "International and Specific Audiences      45      7.31%\n",
      "Introductory/Generic                      58      9.42%\n",
      "Policy Change                             18      2.92%\n",
      "Practice not covered                      19      3.08%\n",
      "Privacy contact information               31      5.03%\n",
      "Third Party Sharing/Collection           142     23.05%\n",
      "User Access, Edit and Deletion            22      3.57%\n",
      "User Choice/Control                       53       8.6%\n",
      "------------------------------------------------------------\n",
      "TEST SET\n",
      "Number of unique segments: 527\n",
      "Percentage of segments containing each of the following categories:\n",
      "                                      Counts Percentage\n",
      "Data Retention                            12      1.94%\n",
      "Data Security                             31       5.0%\n",
      "Do Not Track                               5      0.81%\n",
      "First Party Collection/Use               181     29.19%\n",
      "International and Specific Audiences      45      7.26%\n",
      "Introductory/Generic                      59      9.52%\n",
      "Policy Change                             18       2.9%\n",
      "Practice not covered                      20      3.23%\n",
      "Privacy contact information               30      4.84%\n",
      "Third Party Sharing/Collection           142      22.9%\n",
      "User Access, Edit and Deletion            23      3.71%\n",
      "User Choice/Control                       54      8.71%\n",
      "------------------------------------------------------------\n"
     ]
    }
   ],
   "source": [
    "print(\"-\" * 60)\n",
    "print(\"Successfully split the dataset into {:g}% train, {:g}% val and {:g}% test!\".format((params.train_size)*100, (1-params.train_size)/2*100, (1-params.train_size)/2*100))\n",
    "print(\"Number of unique segments in total: {}\".format(X.shape[0]))\n",
    "metrics.splitStatistics(splitlist=[X_train, X_val, X_test, y_train, y_val, y_test])"
   ]
  },
  {
   "cell_type": "code",
   "execution_count": 20,
   "id": "55b1ed95",
   "metadata": {},
   "outputs": [],
   "source": [
    "X_train = np.array(tokenizer.texts_to_sequences(X_train), dtype=object)\n",
    "X_val = np.array(tokenizer.texts_to_sequences(X_val), dtype=object)\n",
    "X_test = np.array(tokenizer.texts_to_sequences(X_test), dtype=object)"
   ]
  },
  {
   "cell_type": "code",
   "execution_count": 21,
   "id": "60de2fb6",
   "metadata": {},
   "outputs": [],
   "source": [
    "train_dataset = CNN.CNNDataset(X=X_train, y=y_train, max_filter_size=params.max_filter_size)\n",
    "val_dataset = CNN.CNNDataset(X=X_val, y=y_val, max_filter_size=params.max_filter_size)\n",
    "train_dataloader = train_dataset.create_dataloader(batch_size=params.batch_size)\n",
    "val_dataloader = val_dataset.create_dataloader(batch_size=params.batch_size)"
   ]
  },
  {
   "cell_type": "code",
   "execution_count": 22,
   "id": "dbb2b462",
   "metadata": {},
   "outputs": [
    {
     "name": "stdout",
     "output_type": "stream",
     "text": [
      "Parameters: {\n",
      "  \"dataset\": \"majority\",\n",
      "  \"seed\": 2021,\n",
      "  \"cuda\": true,\n",
      "  \"lower\": true,\n",
      "  \"stem\": false,\n",
      "  \"train_size\": 0.7,\n",
      "  \"char_level\": false,\n",
      "  \"max_filter_size\": 5,\n",
      "  \"batch_size\": 128,\n",
      "  \"embedding_dim\": 204,\n",
      "  \"num_filters\": 209,\n",
      "  \"hidden_dim\": 484,\n",
      "  \"dropout_p\": 0.7482758802337606,\n",
      "  \"lr\": 0.0003189955986529326,\n",
      "  \"num_epochs\": 200,\n",
      "  \"embed\": null,\n",
      "  \"freeze_embed\": false,\n",
      "  \"patience\": 10,\n",
      "  \"threshold\": 0.4383414089679718,\n",
      "  \"num_samples\": 3471\n",
      "}\n"
     ]
    }
   ],
   "source": [
    "print(f\"Parameters: {json.dumps(params.__dict__, indent=2, cls=NumpyEncoder)}\")\n",
    "cat_weights_tensor = torch.Tensor(np.array(list(cat_weights.values())))\n",
    "loss_fn = nn.BCEWithLogitsLoss(weight=cat_weights_tensor)\n",
    "optimizer = torch.optim.Adam(model.parameters(), lr=params.lr)\n",
    "scheduler = torch.optim.lr_scheduler.ReduceLROnPlateau(optimizer, mode=\"min\", factor=0.05, patience=5)"
   ]
  },
  {
   "cell_type": "code",
   "execution_count": 23,
   "id": "44383770",
   "metadata": {},
   "outputs": [],
   "source": [
    "trainer = models.Trainer(model=model, device=device, loss_fn=loss_fn, optimizer=optimizer, scheduler=scheduler, trial=None)"
   ]
  },
  {
   "cell_type": "code",
   "execution_count": 24,
   "id": "6829aa8f",
   "metadata": {},
   "outputs": [],
   "source": [
    "_, y_true, y_prob = trainer.eval_step(dataloader=train_dataloader)"
   ]
  },
  {
   "cell_type": "code",
   "execution_count": 25,
   "id": "fadfe15c",
   "metadata": {},
   "outputs": [],
   "source": [
    "thresholds, multi_thresholds = metrics.getOptimalTreshold(y_true=y_true, y_prob=y_prob)"
   ]
  },
  {
   "cell_type": "code",
   "execution_count": 26,
   "id": "e22eac7d",
   "metadata": {},
   "outputs": [
    {
     "data": {
      "text/plain": [
       "[0.3721136,\n",
       " 0.39934087,\n",
       " 0.74468327,\n",
       " 0.3627222,\n",
       " 0.27153248,\n",
       " 0.19452152,\n",
       " 0.15533948,\n",
       " 0.09685168,\n",
       " 0.1824223,\n",
       " 0.2859817,\n",
       " 0.42126584,\n",
       " 0.24379988]"
      ]
     },
     "execution_count": 26,
     "metadata": {},
     "output_type": "execute_result"
    }
   ],
   "source": [
    "multi_thresholds"
   ]
  },
  {
   "cell_type": "code",
   "execution_count": 27,
   "id": "804e60ef",
   "metadata": {},
   "outputs": [],
   "source": [
    "with open(\"{}.pkl\".format(experiment_name), \"wb\") as f:\n",
    "    pickle.dump(multi_thresholds, f)"
   ]
  },
  {
   "cell_type": "code",
   "execution_count": 44,
   "id": "86183d58",
   "metadata": {},
   "outputs": [],
   "source": [
    "segments_processed = [\"If you use a Microsoft product with an account provided by an organization you are affiliated with, such as your work or school account, that organization can\",\n",
    "\"Control and administer your Microsoft product and product account, including controlling privacy-related settings of the product or product account.\",\n",
    "\"Access and process your data, including the interaction data, diagnostic data, and the contents of your communications and files associated with your Microsoft product and product accounts.\",\n",
    "\"If you lose access to your work or school account (in event of change of employment, for example), you may lose access to products and the content associated with those products, including those you acquired on your own behalf, if you used your work or school account to sign in to such products.\",\n",
    "\"Many Microsoft products are intended for use by organizations, such as schools and businesses. Please see the Enterprise and developer products section of this privacy statement. If your organization provides you with access to Microsoft products, your use of the Microsoft products is subject to your organization's policies, if any. You should direct your privacy inquiries, including any requests to exercise your data protection rights, to your organization’s administrator. When you use social features in Microsoft products, other users in your network may see some of your activity. To learn more about the social features and other functionality, please review documentation or help content specific to the Microsoft product. Microsoft is not responsible for the privacy or security practices of our customers, which may differ from those set forth in this privacy statement.\",\n",
    "\"When you use a Microsoft product provided by your organization, Microsoft’s processing of your personal data in connection with that product is governed by a contract between Microsoft and your organization. Microsoft processes your personal data to provide the product to your organization and you, and in some cases for Microsoft’s business operations related to providing the product as described in the Enterprise and developer products section. As mentioned above, if you have questions about Microsoft’s processing of your personal data in connection with providing products to your organization, please contact your organization. If you have questions about Microsoft’s business operations in connection with providing products to your organization as provided in the Product Terms, please contact Microsoft as described in the How to contact us section. For more information on our business operations, please see the Enterprise and developer products section.\",\"For Microsoft products provided by your K-12 school, including Microsoft 365 Education, Microsoft will:\"]"
   ]
  },
  {
   "cell_type": "code",
   "execution_count": 45,
   "id": "f9252b16",
   "metadata": {},
   "outputs": [
    {
     "ename": "IndexError",
     "evalue": "index 7 is out of bounds for axis 0 with size 7",
     "output_type": "error",
     "traceback": [
      "\u001b[0;31m---------------------------------------------------------------------------\u001b[0m",
      "\u001b[0;31mIndexError\u001b[0m                                Traceback (most recent call last)",
      "\u001b[0;32m/var/folders/2f/q69b6fl55lvg59_5t400qn1w0000gn/T/ipykernel_86210/308368506.py\u001b[0m in \u001b[0;36m<module>\u001b[0;34m\u001b[0m\n\u001b[0;32m----> 1\u001b[0;31m \u001b[0mdriver\u001b[0m\u001b[0;34m.\u001b[0m\u001b[0mproductionPredict\u001b[0m\u001b[0;34m(\u001b[0m\u001b[0msegments_processed\u001b[0m\u001b[0;34m,\u001b[0m \u001b[0mrun_id\u001b[0m\u001b[0;34m,\u001b[0m \u001b[0mmulti_threshold\u001b[0m \u001b[0;34m=\u001b[0m \u001b[0;32mTrue\u001b[0m\u001b[0;34m)\u001b[0m\u001b[0;34m\u001b[0m\u001b[0;34m\u001b[0m\u001b[0m\n\u001b[0m",
      "\u001b[0;32m~/MyStuff/Workspace/NEU/DS5500/Project/DS5500_CapstoneProject/src/main/driver.py\u001b[0m in \u001b[0;36mproductionPredict\u001b[0;34m(segments, run_id, multi_threshold)\u001b[0m\n\u001b[1;32m    195\u001b[0m     \u001b[0mcategories\u001b[0m \u001b[0;34m=\u001b[0m \u001b[0mlabel_encoder\u001b[0m\u001b[0;34m.\u001b[0m\u001b[0mdecode\u001b[0m\u001b[0;34m(\u001b[0m\u001b[0my_pred\u001b[0m\u001b[0;34m)\u001b[0m\u001b[0;34m\u001b[0m\u001b[0;34m\u001b[0m\u001b[0m\n\u001b[1;32m    196\u001b[0m     \u001b[0mpredictions\u001b[0m \u001b[0;34m=\u001b[0m \u001b[0;34m[\u001b[0m\u001b[0;34m{\u001b[0m\u001b[0;34m\"input_text\"\u001b[0m\u001b[0;34m:\u001b[0m \u001b[0msegments\u001b[0m\u001b[0;34m[\u001b[0m\u001b[0mi\u001b[0m\u001b[0;34m]\u001b[0m\u001b[0;34m,\u001b[0m \u001b[0;34m\"preprocessed_text\"\u001b[0m\u001b[0;34m:\u001b[0m \u001b[0mpreprocessed_segments\u001b[0m\u001b[0;34m[\u001b[0m\u001b[0mi\u001b[0m\u001b[0;34m]\u001b[0m\u001b[0;34m,\u001b[0m \u001b[0;34m\"predicted_tags\"\u001b[0m\u001b[0;34m:\u001b[0m \u001b[0mcategories\u001b[0m\u001b[0;34m[\u001b[0m\u001b[0mi\u001b[0m\u001b[0;34m]\u001b[0m\u001b[0;34m}\u001b[0m \u001b[0;32mfor\u001b[0m \u001b[0mi\u001b[0m \u001b[0;32min\u001b[0m \u001b[0mrange\u001b[0m\u001b[0;34m(\u001b[0m\u001b[0mlen\u001b[0m\u001b[0;34m(\u001b[0m\u001b[0mcategories\u001b[0m\u001b[0;34m)\u001b[0m\u001b[0;34m)\u001b[0m\u001b[0;34m]\u001b[0m\u001b[0;34m\u001b[0m\u001b[0;34m\u001b[0m\u001b[0m\n\u001b[0;32m--> 197\u001b[0;31m \u001b[0;34m\u001b[0m\u001b[0m\n\u001b[0m\u001b[1;32m    198\u001b[0m     \u001b[0;32mreturn\u001b[0m \u001b[0mpredictions\u001b[0m\u001b[0;34m\u001b[0m\u001b[0;34m\u001b[0m\u001b[0m\n\u001b[1;32m    199\u001b[0m \u001b[0;34m\u001b[0m\u001b[0m\n",
      "\u001b[0;31mIndexError\u001b[0m: index 7 is out of bounds for axis 0 with size 7"
     ]
    }
   ],
   "source": [
    "driver.productionPredict(segments_processed, run_id, multi_threshold = True)"
   ]
  },
  {
   "cell_type": "code",
   "execution_count": 50,
   "id": "b5d40620",
   "metadata": {},
   "outputs": [
    {
     "data": {
      "text/html": [
       "<div>\n",
       "<style scoped>\n",
       "    .dataframe tbody tr th:only-of-type {\n",
       "        vertical-align: middle;\n",
       "    }\n",
       "\n",
       "    .dataframe tbody tr th {\n",
       "        vertical-align: top;\n",
       "    }\n",
       "\n",
       "    .dataframe thead th {\n",
       "        text-align: right;\n",
       "    }\n",
       "</style>\n",
       "<table border=\"1\" class=\"dataframe\">\n",
       "  <thead>\n",
       "    <tr style=\"text-align: right;\">\n",
       "      <th></th>\n",
       "      <th>a</th>\n",
       "      <th>b</th>\n",
       "      <th>c</th>\n",
       "    </tr>\n",
       "  </thead>\n",
       "  <tbody>\n",
       "    <tr>\n",
       "      <th>0</th>\n",
       "      <td>100</td>\n",
       "      <td>400</td>\n",
       "      <td>700</td>\n",
       "    </tr>\n",
       "    <tr>\n",
       "      <th>1</th>\n",
       "      <td>200</td>\n",
       "      <td>500</td>\n",
       "      <td>800</td>\n",
       "    </tr>\n",
       "    <tr>\n",
       "      <th>2</th>\n",
       "      <td>300</td>\n",
       "      <td>600</td>\n",
       "      <td>900</td>\n",
       "    </tr>\n",
       "  </tbody>\n",
       "</table>\n",
       "</div>"
      ],
      "text/plain": [
       "     a    b    c\n",
       "0  100  400  700\n",
       "1  200  500  800\n",
       "2  300  600  900"
      ]
     },
     "execution_count": 50,
     "metadata": {},
     "output_type": "execute_result"
    }
   ],
   "source": [
    "a = pd.DataFrame({'a':[1, 2, 3], 'b':[4,5,6], 'c':[7,8,9]})*100\n",
    "a"
   ]
  },
  {
   "cell_type": "code",
   "execution_count": 58,
   "id": "27ba743d",
   "metadata": {},
   "outputs": [
    {
     "data": {
      "text/html": [
       "<div>\n",
       "<style scoped>\n",
       "    .dataframe tbody tr th:only-of-type {\n",
       "        vertical-align: middle;\n",
       "    }\n",
       "\n",
       "    .dataframe tbody tr th {\n",
       "        vertical-align: top;\n",
       "    }\n",
       "\n",
       "    .dataframe thead th {\n",
       "        text-align: right;\n",
       "    }\n",
       "</style>\n",
       "<table border=\"1\" class=\"dataframe\">\n",
       "  <thead>\n",
       "    <tr style=\"text-align: right;\">\n",
       "      <th></th>\n",
       "      <th>a</th>\n",
       "      <th>b</th>\n",
       "    </tr>\n",
       "  </thead>\n",
       "  <tbody>\n",
       "    <tr>\n",
       "      <th>0</th>\n",
       "      <td>104.536005</td>\n",
       "      <td>452.464526</td>\n",
       "    </tr>\n",
       "    <tr>\n",
       "      <th>1</th>\n",
       "      <td>256.453625</td>\n",
       "      <td>554.621536</td>\n",
       "    </tr>\n",
       "    <tr>\n",
       "      <th>2</th>\n",
       "      <td>352.625345</td>\n",
       "      <td>625.346134</td>\n",
       "    </tr>\n",
       "  </tbody>\n",
       "</table>\n",
       "</div>"
      ],
      "text/plain": [
       "            a           b\n",
       "0  104.536005  452.464526\n",
       "1  256.453625  554.621536\n",
       "2  352.625345  625.346134"
      ]
     },
     "execution_count": 58,
     "metadata": {},
     "output_type": "execute_result"
    }
   ],
   "source": [
    "b = pd.DataFrame({'a':[1.04536005, 2.564536245, 3.5262534524], 'b':[4.524645262525,5.54621536354,6.253461343645]})*100\n",
    "b"
   ]
  },
  {
   "cell_type": "code",
   "execution_count": 53,
   "id": "e6b7bc0f",
   "metadata": {},
   "outputs": [
    {
     "data": {
      "text/plain": [
       "[100]"
      ]
     },
     "execution_count": 53,
     "metadata": {},
     "output_type": "execute_result"
    }
   ],
   "source": [
    "list(b[a['a'] == 100]['a'])"
   ]
  },
  {
   "cell_type": "code",
   "execution_count": 54,
   "id": "7ec05db0",
   "metadata": {},
   "outputs": [],
   "source": [
    "list1 = [3,2,4,1, 1]\n",
    "list2 = ['three', 'two', 'four', 'one', 'one2']\n",
    "list1, list2 = zip(*sorted(zip(list1, list2)))"
   ]
  },
  {
   "cell_type": "code",
   "execution_count": 57,
   "id": "083a1376",
   "metadata": {},
   "outputs": [
    {
     "data": {
      "text/plain": [
       "['one', 'one2', 'two', 'three', 'four']"
      ]
     },
     "execution_count": 57,
     "metadata": {},
     "output_type": "execute_result"
    }
   ],
   "source": [
    "list(list2)"
   ]
  },
  {
   "cell_type": "code",
   "execution_count": 61,
   "id": "eb1c9af9",
   "metadata": {},
   "outputs": [
    {
     "data": {
      "text/html": [
       "<div>\n",
       "<style scoped>\n",
       "    .dataframe tbody tr th:only-of-type {\n",
       "        vertical-align: middle;\n",
       "    }\n",
       "\n",
       "    .dataframe tbody tr th {\n",
       "        vertical-align: top;\n",
       "    }\n",
       "\n",
       "    .dataframe thead th {\n",
       "        text-align: right;\n",
       "    }\n",
       "</style>\n",
       "<table border=\"1\" class=\"dataframe\">\n",
       "  <thead>\n",
       "    <tr style=\"text-align: right;\">\n",
       "      <th></th>\n",
       "      <th>a</th>\n",
       "      <th>b</th>\n",
       "    </tr>\n",
       "  </thead>\n",
       "  <tbody>\n",
       "    <tr>\n",
       "      <th>0</th>\n",
       "      <td>104.54</td>\n",
       "      <td>452.46</td>\n",
       "    </tr>\n",
       "    <tr>\n",
       "      <th>1</th>\n",
       "      <td>256.45</td>\n",
       "      <td>554.62</td>\n",
       "    </tr>\n",
       "    <tr>\n",
       "      <th>2</th>\n",
       "      <td>352.63</td>\n",
       "      <td>625.35</td>\n",
       "    </tr>\n",
       "  </tbody>\n",
       "</table>\n",
       "</div>"
      ],
      "text/plain": [
       "        a       b\n",
       "0  104.54  452.46\n",
       "1  256.45  554.62\n",
       "2  352.63  625.35"
      ]
     },
     "execution_count": 61,
     "metadata": {},
     "output_type": "execute_result"
    }
   ],
   "source": [
    "round(b,2)"
   ]
  },
  {
   "cell_type": "code",
   "execution_count": 64,
   "id": "458e812e",
   "metadata": {},
   "outputs": [],
   "source": [
    "p,q = zip(*sorted(zip([1], ['a'])))"
   ]
  },
  {
   "cell_type": "code",
   "execution_count": 75,
   "id": "d2bbfc51",
   "metadata": {},
   "outputs": [],
   "source": [
    "list1 = [1,2,3,4,5]"
   ]
  },
  {
   "cell_type": "code",
   "execution_count": 76,
   "id": "8d05f30b",
   "metadata": {},
   "outputs": [
    {
     "data": {
      "text/plain": [
       "[1, 2]"
      ]
     },
     "execution_count": 76,
     "metadata": {},
     "output_type": "execute_result"
    }
   ],
   "source": [
    "list1[0:2]"
   ]
  },
  {
   "cell_type": "code",
   "execution_count": 78,
   "id": "9b4ce626",
   "metadata": {},
   "outputs": [
    {
     "data": {
      "text/plain": [
       "[4, 5]"
      ]
     },
     "execution_count": 78,
     "metadata": {},
     "output_type": "execute_result"
    }
   ],
   "source": [
    "list1[::-1][0:2][::-1]"
   ]
  },
  {
   "cell_type": "code",
   "execution_count": 81,
   "id": "ef70a71d",
   "metadata": {},
   "outputs": [],
   "source": [
    "a= 1\n",
    "b=1\n",
    "c=2"
   ]
  },
  {
   "cell_type": "code",
   "execution_count": 82,
   "id": "57e44473",
   "metadata": {},
   "outputs": [
    {
     "data": {
      "text/plain": [
       "False"
      ]
     },
     "execution_count": 82,
     "metadata": {},
     "output_type": "execute_result"
    }
   ],
   "source": [
    "a==b==c"
   ]
  },
  {
   "cell_type": "code",
   "execution_count": null,
   "id": "932b7ef6",
   "metadata": {},
   "outputs": [],
   "source": []
  }
 ],
 "metadata": {
  "kernelspec": {
   "display_name": "DS5500CapstoneProject",
   "language": "python",
   "name": "ds5500capstoneproject"
  },
  "language_info": {
   "codemirror_mode": {
    "name": "ipython",
    "version": 3
   },
   "file_extension": ".py",
   "mimetype": "text/x-python",
   "name": "python",
   "nbconvert_exporter": "python",
   "pygments_lexer": "ipython3",
   "version": "3.8.12"
  }
 },
 "nbformat": 4,
 "nbformat_minor": 5
}
