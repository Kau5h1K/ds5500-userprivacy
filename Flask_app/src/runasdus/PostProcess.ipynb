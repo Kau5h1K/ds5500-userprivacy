{
 "cells": [
  {
   "cell_type": "code",
   "execution_count": null,
   "id": "10cd5213",
   "metadata": {},
   "outputs": [],
   "source": [
    "import pandas as pd\n",
    "import numpy as np\n",
    "import glob\n",
    "import warnings\n",
    "from bs4 import BeautifulSoup\n",
    "from urllib.request import urlopen\n",
    "import matplotlib.pyplot as plt\n",
    "import seaborn as sns\n",
    "warnings.filterwarnings('ignore')\n",
    "%matplotlib inline\n",
    "import os\n",
    "import json\n",
    "import re"
   ]
  },
  {
   "cell_type": "code",
   "execution_count": null,
   "id": "850dcab1",
   "metadata": {},
   "outputs": [],
   "source": [
    "data_path = \"/Users/kaushik/Desktop/runasdus/src/com/lab/data/\""
   ]
  },
  {
   "cell_type": "code",
   "execution_count": null,
   "id": "1a3d8d35",
   "metadata": {},
   "outputs": [],
   "source": [
    "for fname in glob.glob(r\"{}/*\".format(data_path)):\n",
    "    pol = os.path.join(fname, \"priv.html\")\n",
    "    try:\n",
    "        html = open(pol, \"r\").read()\n",
    "        soup = BeautifulSoup(html, features=\"html.parser\")\n",
    "        soup_text = soup.get_text()\n",
    "        print(soup_text)\n",
    "    except:\n",
    "        print(\"Exception occurred!\")\n",
    "        continue"
   ]
  },
  {
   "cell_type": "code",
   "execution_count": null,
   "id": "e28e814e",
   "metadata": {},
   "outputs": [],
   "source": [
    "for dirname in os.listdir(\"/Users/kaushik/Desktop/runasdus/src/com/lab/data/\"):\n",
    "    pol = os.path.abspath(os.path.join(dirname, \"dom_ind.html\"))\n",
    "    print(pol)\n",
    "    try:\n",
    "        html = open(pol, \"r\").read()\n",
    "        soup = BeautifulSoup(html, features=\"html.parser\")\n",
    "        soup_text = soup.get_text()\n",
    "        print(soup_text)\n",
    "    except:\n",
    "        continue\n",
    "    "
   ]
  },
  {
   "cell_type": "code",
   "execution_count": null,
   "id": "ff2a2bb8",
   "metadata": {},
   "outputs": [],
   "source": [
    "for fname in glob.glob(r\"{}/*.csv\".format(annot_dpath)):   \n",
    "    \n",
    "    #Extract path basename\n",
    "    basename = os.path.basename(fname)\n",
    "\n",
    "    #Create directories if they don't exist\n",
    "    os.makedirs(op_annotations_dpath, exist_ok = True)\n",
    "    os.makedirs(op_segments_dpath, exist_ok = True)\n",
    "    \n",
    "    #Extract policyID from basename\n",
    "    policy_id = basename.split('_')[0]\n",
    "    policy_df = pd.read_csv(fname, header=None, usecols=[0, 4, 5, 6], names=['annotation_ID', 'segment_ID', 'category', 'attr_val'])\n",
    "    \n",
    "    #Set policyID in each table\n",
    "    policy_df.loc[:,\"policy_ID\"] = policy_id\n",
    "    \n",
    "    #Replace extension\n",
    "    santized_policy_fpath = os.path.splitext(basename)[0]+'.html'\n",
    "    \n",
    "    # Parse html text\n",
    "    html = open(os.path.join(sanitized_pol_dpath, santized_policy_fpath), \"r\").read()\n",
    "    soup = BeautifulSoup(html, features=\"html.parser\")\n",
    "    soup_text = soup.get_text()"
   ]
  }
 ],
 "metadata": {
  "kernelspec": {
   "display_name": "base",
   "language": "python",
   "name": "base"
  },
  "language_info": {
   "codemirror_mode": {
    "name": "ipython",
    "version": 3
   },
   "file_extension": ".py",
   "mimetype": "text/x-python",
   "name": "python",
   "nbconvert_exporter": "python",
   "pygments_lexer": "ipython3",
   "version": "3.7.3"
  }
 },
 "nbformat": 4,
 "nbformat_minor": 5
}
