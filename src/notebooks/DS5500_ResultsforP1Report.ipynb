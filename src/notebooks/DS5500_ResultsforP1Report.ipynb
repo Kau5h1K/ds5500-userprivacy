{
  "nbformat": 4,
  "nbformat_minor": 0,
  "metadata": {
    "colab": {
      "name": "DS5500-ResultsforP1Report.ipynb",
      "provenance": []
    },
    "kernelspec": {
      "name": "python3",
      "display_name": "Python 3"
    },
    "language_info": {
      "name": "python"
    },
    "accelerator": "GPU",
    "widgets": {
      "application/vnd.jupyter.widget-state+json": {
        "fc152540571c45b798404dbef28995cf": {
          "model_module": "@jupyter-widgets/controls",
          "model_name": "VBoxModel",
          "model_module_version": "1.5.0",
          "state": {
            "_view_name": "VBoxView",
            "_dom_classes": [
              "widget-interact"
            ],
            "_model_name": "VBoxModel",
            "_view_module": "@jupyter-widgets/controls",
            "_model_module_version": "1.5.0",
            "_view_count": null,
            "_view_module_version": "1.5.0",
            "box_style": "",
            "layout": "IPY_MODEL_4ab95c37185a40e28c04a6237a8c0fc3",
            "_model_module": "@jupyter-widgets/controls",
            "children": [
              "IPY_MODEL_3023f18232ed4782a93df58a3b21a60b",
              "IPY_MODEL_87fa825fd3f94c33a28da6f8f93522bf"
            ]
          }
        },
        "4ab95c37185a40e28c04a6237a8c0fc3": {
          "model_module": "@jupyter-widgets/base",
          "model_name": "LayoutModel",
          "model_module_version": "1.2.0",
          "state": {
            "_view_name": "LayoutView",
            "grid_template_rows": null,
            "right": null,
            "justify_content": null,
            "_view_module": "@jupyter-widgets/base",
            "overflow": null,
            "_model_module_version": "1.2.0",
            "_view_count": null,
            "flex_flow": null,
            "width": null,
            "min_width": null,
            "border": null,
            "align_items": null,
            "bottom": null,
            "_model_module": "@jupyter-widgets/base",
            "top": null,
            "grid_column": null,
            "overflow_y": null,
            "overflow_x": null,
            "grid_auto_flow": null,
            "grid_area": null,
            "grid_template_columns": null,
            "flex": null,
            "_model_name": "LayoutModel",
            "justify_items": null,
            "grid_row": null,
            "max_height": null,
            "align_content": null,
            "visibility": null,
            "align_self": null,
            "height": null,
            "min_height": null,
            "padding": null,
            "grid_auto_rows": null,
            "grid_gap": null,
            "max_width": null,
            "order": null,
            "_view_module_version": "1.2.0",
            "grid_template_areas": null,
            "object_position": null,
            "object_fit": null,
            "grid_auto_columns": null,
            "margin": null,
            "display": null,
            "left": null
          }
        },
        "3023f18232ed4782a93df58a3b21a60b": {
          "model_module": "@jupyter-widgets/controls",
          "model_name": "DropdownModel",
          "model_module_version": "1.5.0",
          "state": {
            "_options_labels": [
              "International and Specific Audiences",
              "First Party Collection/Use",
              "Privacy contact information",
              "Third Party Sharing/Collection",
              "Policy Change",
              "User Choice/Control",
              "Do Not Track",
              "User Access, Edit and Deletion",
              "Data Security",
              "Introductory/Generic",
              "Practice not covered",
              "Data Retention"
            ],
            "_view_name": "DropdownView",
            "style": "IPY_MODEL_251793285e414b2aa482ccfeee9c6ffb",
            "_dom_classes": [],
            "description": "tag",
            "_model_name": "DropdownModel",
            "index": 1,
            "_view_module": "@jupyter-widgets/controls",
            "_model_module_version": "1.5.0",
            "_view_count": null,
            "disabled": false,
            "_view_module_version": "1.5.0",
            "description_tooltip": null,
            "_model_module": "@jupyter-widgets/controls",
            "layout": "IPY_MODEL_747be66413524fbbaea0b3511f9151ac"
          }
        },
        "87fa825fd3f94c33a28da6f8f93522bf": {
          "model_module": "@jupyter-widgets/output",
          "model_name": "OutputModel",
          "model_module_version": "1.0.0",
          "state": {
            "_view_name": "OutputView",
            "msg_id": "",
            "_dom_classes": [],
            "_model_name": "OutputModel",
            "outputs": [
              {
                "output_type": "stream",
                "name": "stdout",
                "text": [
                  "{\n",
                  "  \"precision\": 0.7195571955719557,\n",
                  "  \"recall\": 0.8552631578947368,\n",
                  "  \"f1\": 0.781563126252505,\n",
                  "  \"num_samples\": 228.0\n",
                  "}\n",
                  "\n",
                  "=== True positives ===\n",
                  "  information sci news com may collect online sci news com may collect process following data information provide filling forms site including names e mail website addresses may also ask information purposes example report problem site\n",
                  "    true: ['First Party Collection/Use']\n",
                  "    pred: ['First Party Collection/Use']\n",
                  "\n",
                  "  course visit sci news com website pages see along cookie downloaded device website cookies enable publisher find whether device visited website done repeat visit checking see finding cookie left last visit\n",
                  "    true: ['First Party Collection/Use', 'Practice not covered']\n",
                  "    pred: ['First Party Collection/Use']\n",
                  "\n",
                  "  information collection use information collection redorbit inc sole owner information collected redorbit com redorbit inc collects information users several different points web site\n",
                  "    true: ['First Party Collection/Use', 'Introductory/Generic', 'Practice not covered']\n",
                  "    pred: ['First Party Collection/Use', 'Introductory/Generic']\n",
                  "\n",
                  "\n",
                  "=== False positives ===\n",
                  "  aggregate information non personally identifiable share aggregated demographic information partners advertisers linked personally identifiable information\n",
                  "    true: ['Third Party Sharing/Collection']\n",
                  "    pred: ['First Party Collection/Use', 'Third Party Sharing/Collection']\n",
                  "\n",
                  "  course serving advertisements site third party advertiser may place recognize unique cookie browser\n",
                  "    true: ['Third Party Sharing/Collection']\n",
                  "    pred: ['First Party Collection/Use', 'Third Party Sharing/Collection']\n",
                  "\n",
                  "  services aol search netscape isp example may also offer ability manage control information collected used use services\n",
                  "    true: ['User Choice/Control']\n",
                  "    pred: ['First Party Collection/Use']\n",
                  "\n",
                  "\n",
                  "=== False negatives ===\n",
                  "  newsletter user wishes subscribe newsletter ask contact information name email address respect users privacy provide way opt communications please see choice opt sections\n",
                  "    true: ['First Party Collection/Use']\n",
                  "    pred: ['User Choice/Control']\n",
                  "\n",
                  "  privacy policy apply information choose publicly post display site please note provided terms service grant us license publicly posted content syndicated third party sites content partners\n",
                  "    true: ['First Party Collection/Use', 'Introductory/Generic', 'Practice not covered', 'Third Party Sharing/Collection']\n",
                  "    pred: ['Introductory/Generic', 'Practice not covered', 'Third Party Sharing/Collection']\n",
                  "\n",
                  "  childrenprivacy statement site intended children age 13 knowingly collect personal information child 13 become aware inadvertently received personally identifiable information user age 13 part site delete information records\n",
                  "    true: ['First Party Collection/Use', 'International and Specific Audiences']\n",
                  "    pred: ['International and Specific Audiences']\n",
                  "\n"
                ]
              }
            ],
            "_view_module": "@jupyter-widgets/output",
            "_model_module_version": "1.0.0",
            "_view_count": null,
            "_view_module_version": "1.0.0",
            "layout": "IPY_MODEL_87dcc8bddd3742649ef1f9fcfbd943a1",
            "_model_module": "@jupyter-widgets/output"
          }
        },
        "251793285e414b2aa482ccfeee9c6ffb": {
          "model_module": "@jupyter-widgets/controls",
          "model_name": "DescriptionStyleModel",
          "model_module_version": "1.5.0",
          "state": {
            "_view_name": "StyleView",
            "_model_name": "DescriptionStyleModel",
            "description_width": "",
            "_view_module": "@jupyter-widgets/base",
            "_model_module_version": "1.5.0",
            "_view_count": null,
            "_view_module_version": "1.2.0",
            "_model_module": "@jupyter-widgets/controls"
          }
        },
        "747be66413524fbbaea0b3511f9151ac": {
          "model_module": "@jupyter-widgets/base",
          "model_name": "LayoutModel",
          "model_module_version": "1.2.0",
          "state": {
            "_view_name": "LayoutView",
            "grid_template_rows": null,
            "right": null,
            "justify_content": null,
            "_view_module": "@jupyter-widgets/base",
            "overflow": null,
            "_model_module_version": "1.2.0",
            "_view_count": null,
            "flex_flow": null,
            "width": null,
            "min_width": null,
            "border": null,
            "align_items": null,
            "bottom": null,
            "_model_module": "@jupyter-widgets/base",
            "top": null,
            "grid_column": null,
            "overflow_y": null,
            "overflow_x": null,
            "grid_auto_flow": null,
            "grid_area": null,
            "grid_template_columns": null,
            "flex": null,
            "_model_name": "LayoutModel",
            "justify_items": null,
            "grid_row": null,
            "max_height": null,
            "align_content": null,
            "visibility": null,
            "align_self": null,
            "height": null,
            "min_height": null,
            "padding": null,
            "grid_auto_rows": null,
            "grid_gap": null,
            "max_width": null,
            "order": null,
            "_view_module_version": "1.2.0",
            "grid_template_areas": null,
            "object_position": null,
            "object_fit": null,
            "grid_auto_columns": null,
            "margin": null,
            "display": null,
            "left": null
          }
        },
        "87dcc8bddd3742649ef1f9fcfbd943a1": {
          "model_module": "@jupyter-widgets/base",
          "model_name": "LayoutModel",
          "model_module_version": "1.2.0",
          "state": {
            "_view_name": "LayoutView",
            "grid_template_rows": null,
            "right": null,
            "justify_content": null,
            "_view_module": "@jupyter-widgets/base",
            "overflow": null,
            "_model_module_version": "1.2.0",
            "_view_count": null,
            "flex_flow": null,
            "width": null,
            "min_width": null,
            "border": null,
            "align_items": null,
            "bottom": null,
            "_model_module": "@jupyter-widgets/base",
            "top": null,
            "grid_column": null,
            "overflow_y": null,
            "overflow_x": null,
            "grid_auto_flow": null,
            "grid_area": null,
            "grid_template_columns": null,
            "flex": null,
            "_model_name": "LayoutModel",
            "justify_items": null,
            "grid_row": null,
            "max_height": null,
            "align_content": null,
            "visibility": null,
            "align_self": null,
            "height": null,
            "min_height": null,
            "padding": null,
            "grid_auto_rows": null,
            "grid_gap": null,
            "max_width": null,
            "order": null,
            "_view_module_version": "1.2.0",
            "grid_template_areas": null,
            "object_position": null,
            "object_fit": null,
            "grid_auto_columns": null,
            "margin": null,
            "display": null,
            "left": null
          }
        }
      }
    }
  },
  "cells": [
    {
      "cell_type": "code",
      "metadata": {
        "id": "x68NLyOxMw88"
      },
      "source": [
        "from collections import Counter, OrderedDict\n",
        "import ipywidgets as widgets\n",
        "import itertools\n",
        "import json\n",
        "import pandas as pd\n",
        "from urllib.request import urlopen\n",
        "import numpy as np"
      ],
      "execution_count": null,
      "outputs": []
    },
    {
      "cell_type": "code",
      "metadata": {
        "colab": {
          "base_uri": "https://localhost:8080/",
          "height": 204
        },
        "id": "J9l2tTp2M0hN",
        "outputId": "4afaaf97-d309-4c8f-c848-f45c9eb54e95"
      },
      "source": [
        "union_df = pd.read_csv(\"master_catmodel_dataset_union_decoded.csv\")\n",
        "#majority_df = pd.read_csv(\"master_catmodel_dataset_majority_decoded.csv\")\n",
        "df = union_df\n",
        "df['category'] = df['category'].apply(lambda x: eval(x))\n",
        "df.head()"
      ],
      "execution_count": null,
      "outputs": [
        {
          "output_type": "execute_result",
          "data": {
            "text/html": [
              "<div>\n",
              "<style scoped>\n",
              "    .dataframe tbody tr th:only-of-type {\n",
              "        vertical-align: middle;\n",
              "    }\n",
              "\n",
              "    .dataframe tbody tr th {\n",
              "        vertical-align: top;\n",
              "    }\n",
              "\n",
              "    .dataframe thead th {\n",
              "        text-align: right;\n",
              "    }\n",
              "</style>\n",
              "<table border=\"1\" class=\"dataframe\">\n",
              "  <thead>\n",
              "    <tr style=\"text-align: right;\">\n",
              "      <th></th>\n",
              "      <th>segment_text</th>\n",
              "      <th>category</th>\n",
              "    </tr>\n",
              "  </thead>\n",
              "  <tbody>\n",
              "    <tr>\n",
              "      <th>0</th>\n",
              "      <td>Privacy Policy   Sci-News.com is committed to ...</td>\n",
              "      <td>[Policy Change, Introductory/Generic]</td>\n",
              "    </tr>\n",
              "    <tr>\n",
              "      <th>1</th>\n",
              "      <td>Information that Sci-News.com May Collect Onli...</td>\n",
              "      <td>[First Party Collection/Use]</td>\n",
              "    </tr>\n",
              "    <tr>\n",
              "      <th>2</th>\n",
              "      <td>- if you contact us, we may keep a record of t...</td>\n",
              "      <td>[First Party Collection/Use, Data Retention]</td>\n",
              "    </tr>\n",
              "    <tr>\n",
              "      <th>3</th>\n",
              "      <td>- details of your visits to our site including...</td>\n",
              "      <td>[First Party Collection/Use]</td>\n",
              "    </tr>\n",
              "    <tr>\n",
              "      <th>4</th>\n",
              "      <td>Sci-News.com does not knowingly collect or sol...</td>\n",
              "      <td>[International and Specific Audiences, Privacy...</td>\n",
              "    </tr>\n",
              "  </tbody>\n",
              "</table>\n",
              "</div>"
            ],
            "text/plain": [
              "                                        segment_text                                           category\n",
              "0  Privacy Policy   Sci-News.com is committed to ...              [Policy Change, Introductory/Generic]\n",
              "1  Information that Sci-News.com May Collect Onli...                       [First Party Collection/Use]\n",
              "2  - if you contact us, we may keep a record of t...       [First Party Collection/Use, Data Retention]\n",
              "3  - details of your visits to our site including...                       [First Party Collection/Use]\n",
              "4  Sci-News.com does not knowingly collect or sol...  [International and Specific Audiences, Privacy..."
            ]
          },
          "metadata": {},
          "execution_count": 5
        }
      ]
    },
    {
      "cell_type": "code",
      "metadata": {
        "id": "dWTRe2WLNEbW"
      },
      "source": [
        "import nltk\n",
        "from nltk.corpus import stopwords\n",
        "from nltk.stem import PorterStemmer\n",
        "import re"
      ],
      "execution_count": null,
      "outputs": []
    },
    {
      "cell_type": "code",
      "metadata": {
        "colab": {
          "base_uri": "https://localhost:8080/"
        },
        "id": "G5e2k30QAVZS",
        "outputId": "c9f5cd15-05e7-4b59-83d4-044e83bf4a22"
      },
      "source": [
        "nltk.download('stopwords')\n",
        "STOPWORDS = stopwords.words('english')\n",
        "porter = PorterStemmer()"
      ],
      "execution_count": null,
      "outputs": [
        {
          "output_type": "stream",
          "name": "stdout",
          "text": [
            "[nltk_data] Downloading package stopwords to /root/nltk_data...\n",
            "[nltk_data]   Unzipping corpora/stopwords.zip.\n"
          ]
        }
      ]
    },
    {
      "cell_type": "code",
      "metadata": {
        "id": "gfGtO00vNHQx"
      },
      "source": [
        "def preprocess(text, lower=True, stem=False, \n",
        "               filters=\"[!\\\"'#$%&()*\\+,-./:;<=>?@\\\\\\[\\]^_`{|}~]\", \n",
        "               stopwords=STOPWORDS):\n",
        "    \"\"\"Conditional preprocessing on our text unique to our task.\"\"\"\n",
        "    # Lower\n",
        "    if lower: \n",
        "        text = text.lower()\n",
        "\n",
        "    # Remove stopwords\n",
        "    pattern = re.compile(r'\\b(' + r'|'.join(stopwords) + r')\\b\\s*')\n",
        "    text = pattern.sub('', text)\n",
        "\n",
        "    # Spacing and filters\n",
        "    text = re.sub(r\"([-;;.,!?<=>])\", r\" \\1 \", text)\n",
        "    text = re.sub(filters, r\"\", text)\n",
        "    text = re.sub('[^A-Za-z0-9]+', ' ', text) # remove non alphanumeric chars\n",
        "    text = re.sub(' +', ' ', text)  # remove multiple spaces\n",
        "    text = text.strip()\n",
        "\n",
        "    # Remove links\n",
        "    text = re.sub(r'http\\S+', '', text)\n",
        "\n",
        "    # Stemming\n",
        "    if stem:\n",
        "        text = \" \".join([porter.stem(word) for word in text.split(' ')])\n",
        "\n",
        "    return text"
      ],
      "execution_count": null,
      "outputs": []
    },
    {
      "cell_type": "code",
      "metadata": {
        "colab": {
          "base_uri": "https://localhost:8080/"
        },
        "id": "M0sdZME2NiXb",
        "outputId": "3cfdfbbb-8810-4807-f531-242c84d5a17e"
      },
      "source": [
        "# Apply to dataframe\n",
        "original_df = df.copy()\n",
        "df.segment_text = df.segment_text.apply(preprocess, lower=True, stem=False)\n",
        "print (f\"{original_df.segment_text.values[0]}\\n{df.segment_text.values[0]}\")"
      ],
      "execution_count": null,
      "outputs": [
        {
          "output_type": "stream",
          "name": "stdout",
          "text": [
            "Privacy Policy   Sci-News.com is committed to protecting and respecting your privacy. To better inform you of our policy concerning user privacy, we have adopted the following terms. Please note that these terms are subject to change, and any such changes will be included on this page.  \n",
            "privacy policy sci news com committed protecting respecting privacy better inform policy concerning user privacy adopted following terms please note terms subject change changes included page\n"
          ]
        }
      ]
    },
    {
      "cell_type": "code",
      "metadata": {
        "id": "iJkbZgaONkpv"
      },
      "source": [
        "import numpy as np\n",
        "import random"
      ],
      "execution_count": null,
      "outputs": []
    },
    {
      "cell_type": "code",
      "metadata": {
        "id": "SoxCIBCeNmi4"
      },
      "source": [
        "# Set seeds for reproducibility\n",
        "seed = 42\n",
        "np.random.seed(seed)\n",
        "random.seed(seed)"
      ],
      "execution_count": null,
      "outputs": []
    },
    {
      "cell_type": "code",
      "metadata": {
        "id": "qhZDpRpHNoDg"
      },
      "source": [
        "# Get data\n",
        "X = df.segment_text.to_numpy()\n",
        "y = df.category"
      ],
      "execution_count": null,
      "outputs": []
    },
    {
      "cell_type": "code",
      "metadata": {
        "id": "U2oWIV-3NplY"
      },
      "source": [
        "class LabelEncoder(object):\n",
        "    \"\"\"Label encoder for tag labels.\"\"\"\n",
        "    def __init__(self, class_to_index={}):\n",
        "        self.class_to_index = class_to_index\n",
        "        self.index_to_class = {v: k for k, v in self.class_to_index.items()}\n",
        "        self.classes = list(self.class_to_index.keys())\n",
        "\n",
        "    def __len__(self):\n",
        "        return len(self.class_to_index)\n",
        "\n",
        "    def __str__(self):\n",
        "        return f\"<LabelEncoder(num_classes={len(self)})>\"\n",
        "\n",
        "    def fit(self, y):\n",
        "        classes = np.unique(list(itertools.chain.from_iterable(y)))\n",
        "        for i, class_ in enumerate(classes):\n",
        "            self.class_to_index[class_] = i\n",
        "        self.index_to_class = {v: k for k, v in self.class_to_index.items()}\n",
        "        self.classes = list(self.class_to_index.keys())\n",
        "        return self\n",
        "\n",
        "    def encode(self, y):\n",
        "        y_one_hot = np.zeros((len(y), len(self.class_to_index)), dtype=int)\n",
        "        for i, item in enumerate(y):\n",
        "            for class_ in item:\n",
        "                y_one_hot[i][self.class_to_index[class_]] = 1\n",
        "        return y_one_hot\n",
        "\n",
        "    def decode(self, y):\n",
        "        classes = []\n",
        "        for i, item in enumerate(y):\n",
        "            indices = np.where(item == 1)[0]\n",
        "            classes.append([self.index_to_class[index] for index in indices])\n",
        "        return classes\n",
        "\n",
        "    def save(self, fp):\n",
        "        with open(fp, 'w') as fp:\n",
        "            contents = {'class_to_index': self.class_to_index}\n",
        "            json.dump(contents, fp, indent=4, sort_keys=False)\n",
        "\n",
        "    @classmethod\n",
        "    def load(cls, fp):\n",
        "        with open(fp, 'r') as fp:\n",
        "            kwargs = json.load(fp=fp)\n",
        "        return cls(**kwargs)"
      ],
      "execution_count": null,
      "outputs": []
    },
    {
      "cell_type": "code",
      "metadata": {
        "id": "4M4jJgk5Nq_i"
      },
      "source": [
        "# Encode\n",
        "label_encoder = LabelEncoder()\n",
        "label_encoder.fit(y)\n",
        "num_classes = len(label_encoder)"
      ],
      "execution_count": null,
      "outputs": []
    },
    {
      "cell_type": "code",
      "metadata": {
        "colab": {
          "base_uri": "https://localhost:8080/"
        },
        "id": "ycQkr9IdNtFW",
        "outputId": "e282d34e-befe-454b-e3dd-99275ac5e457"
      },
      "source": [
        "label_encoder.class_to_index"
      ],
      "execution_count": null,
      "outputs": [
        {
          "output_type": "execute_result",
          "data": {
            "text/plain": [
              "{'Data Retention': 0,\n",
              " 'Data Security': 1,\n",
              " 'Do Not Track': 2,\n",
              " 'First Party Collection/Use': 3,\n",
              " 'International and Specific Audiences': 4,\n",
              " 'Introductory/Generic': 5,\n",
              " 'Policy Change': 6,\n",
              " 'Practice not covered': 7,\n",
              " 'Privacy contact information': 8,\n",
              " 'Third Party Sharing/Collection': 9,\n",
              " 'User Access, Edit and Deletion': 10,\n",
              " 'User Choice/Control': 11}"
            ]
          },
          "metadata": {},
          "execution_count": 15
        }
      ]
    },
    {
      "cell_type": "code",
      "metadata": {
        "colab": {
          "base_uri": "https://localhost:8080/"
        },
        "id": "K2N83CuyNukw",
        "outputId": "20f9e64e-1c98-4b83-b113-87beee8f8a2f"
      },
      "source": [
        "# Sample\n",
        "label_encoder.encode([[\"Data Retention\", \"International and Specific Audiences\"]])"
      ],
      "execution_count": null,
      "outputs": [
        {
          "output_type": "execute_result",
          "data": {
            "text/plain": [
              "array([[1, 0, 0, 0, 1, 0, 0, 0, 0, 0, 0, 0]])"
            ]
          },
          "metadata": {},
          "execution_count": 16
        }
      ]
    },
    {
      "cell_type": "code",
      "metadata": {
        "colab": {
          "base_uri": "https://localhost:8080/"
        },
        "id": "OxH8B4A1NxTY",
        "outputId": "c8006f64-d2f2-42e2-bc58-7e802c146228"
      },
      "source": [
        "# Encode all our labels\n",
        "y = label_encoder.encode(y)\n",
        "print (y.shape)"
      ],
      "execution_count": null,
      "outputs": [
        {
          "output_type": "stream",
          "name": "stdout",
          "text": [
            "(3776, 12)\n"
          ]
        }
      ]
    },
    {
      "cell_type": "code",
      "metadata": {
        "colab": {
          "base_uri": "https://localhost:8080/"
        },
        "id": "e_TPQjDqN0CY",
        "outputId": "d2b4f356-98e2-4bee-e133-5d334cbbaf59"
      },
      "source": [
        "!pip install scikit-multilearn==0.2.0 -q"
      ],
      "execution_count": null,
      "outputs": [
        {
          "output_type": "stream",
          "name": "stdout",
          "text": [
            "\u001b[?25l\r\u001b[K     |███▊                            | 10 kB 26.0 MB/s eta 0:00:01\r\u001b[K     |███████▍                        | 20 kB 27.3 MB/s eta 0:00:01\r\u001b[K     |███████████                     | 30 kB 22.0 MB/s eta 0:00:01\r\u001b[K     |██████████████▊                 | 40 kB 18.1 MB/s eta 0:00:01\r\u001b[K     |██████████████████▍             | 51 kB 14.9 MB/s eta 0:00:01\r\u001b[K     |██████████████████████          | 61 kB 12.8 MB/s eta 0:00:01\r\u001b[K     |█████████████████████████▊      | 71 kB 12.6 MB/s eta 0:00:01\r\u001b[K     |█████████████████████████████▍  | 81 kB 13.5 MB/s eta 0:00:01\r\u001b[K     |████████████████████████████████| 89 kB 5.6 MB/s \n",
            "\u001b[?25h"
          ]
        }
      ]
    },
    {
      "cell_type": "code",
      "metadata": {
        "id": "psKDNtKGN1c_"
      },
      "source": [
        "from sklearn.model_selection import train_test_split\n",
        "from skmultilearn.model_selection.measures import get_combination_wise_output_matrix"
      ],
      "execution_count": null,
      "outputs": []
    },
    {
      "cell_type": "code",
      "metadata": {
        "id": "5I_sp0DjN3sA"
      },
      "source": [
        "# Split sizes\n",
        "train_size = 0.7\n",
        "val_size = 0.15\n",
        "test_size = 0.15"
      ],
      "execution_count": null,
      "outputs": []
    },
    {
      "cell_type": "code",
      "metadata": {
        "id": "MiJ5cxvfN5Ck"
      },
      "source": [
        "# Split (train)\n",
        "X_train, X_, y_train, y_ = train_test_split(X, y, train_size=train_size)"
      ],
      "execution_count": null,
      "outputs": []
    },
    {
      "cell_type": "code",
      "metadata": {
        "colab": {
          "base_uri": "https://localhost:8080/"
        },
        "id": "LjXOOHtrN6aT",
        "outputId": "0e7746b6-e25c-4a50-c221-0254f3b8b10e"
      },
      "source": [
        "print (f\"train: {len(X_train)} ({(len(X_train) / len(X)):.2f})\\n\"\n",
        "       f\"remaining: {len(X_)} ({(len(X_) / len(X)):.2f})\")"
      ],
      "execution_count": null,
      "outputs": [
        {
          "output_type": "stream",
          "name": "stdout",
          "text": [
            "train: 2643 (0.70)\n",
            "remaining: 1133 (0.30)\n"
          ]
        }
      ]
    },
    {
      "cell_type": "code",
      "metadata": {
        "id": "oXQDbk17N745"
      },
      "source": [
        "# Split (test)\n",
        "X_val, X_test, y_val, y_test = train_test_split(\n",
        "    X_, y_, train_size=0.5)"
      ],
      "execution_count": null,
      "outputs": []
    },
    {
      "cell_type": "code",
      "metadata": {
        "colab": {
          "base_uri": "https://localhost:8080/"
        },
        "id": "cDobAxBKN9ia",
        "outputId": "34ed65b5-a4a2-4450-8b0c-548add1a082e"
      },
      "source": [
        "print(f\"train: {len(X_train)} ({len(X_train)/len(X):.2f})\\n\"\n",
        "      f\"val: {len(X_val)} ({len(X_val)/len(X):.2f})\\n\"\n",
        "      f\"test: {len(X_test)} ({len(X_test)/len(X):.2f})\")"
      ],
      "execution_count": null,
      "outputs": [
        {
          "output_type": "stream",
          "name": "stdout",
          "text": [
            "train: 2643 (0.70)\n",
            "val: 566 (0.15)\n",
            "test: 567 (0.15)\n"
          ]
        }
      ]
    },
    {
      "cell_type": "code",
      "metadata": {
        "id": "9rZr-qniN_BB"
      },
      "source": [
        "# Get counts for each class\n",
        "counts = {}\n",
        "counts['train_counts'] = Counter(str(combination) for row in get_combination_wise_output_matrix(\n",
        "    y_train, order=1) for combination in row)\n",
        "counts['val_counts'] = Counter(str(combination) for row in get_combination_wise_output_matrix(\n",
        "    y_val, order=1) for combination in row)\n",
        "counts['test_counts'] = Counter(str(combination) for row in get_combination_wise_output_matrix(\n",
        "    y_test, order=1) for combination in row)"
      ],
      "execution_count": null,
      "outputs": []
    },
    {
      "cell_type": "code",
      "metadata": {
        "colab": {
          "base_uri": "https://localhost:8080/",
          "height": 142
        },
        "id": "TdAY-tQ5OAiD",
        "outputId": "31c34a1f-b311-46f7-b5ba-4b21a7bf2ef4"
      },
      "source": [
        "# View distributions\n",
        "pd.DataFrame({\n",
        "    \"Train\": counts[\"train_counts\"],\n",
        "    \"Val\": counts[\"val_counts\"],\n",
        "    \"Test\": counts[\"test_counts\"]\n",
        "}).T.fillna(0)"
      ],
      "execution_count": null,
      "outputs": [
        {
          "output_type": "execute_result",
          "data": {
            "text/html": [
              "<div>\n",
              "<style scoped>\n",
              "    .dataframe tbody tr th:only-of-type {\n",
              "        vertical-align: middle;\n",
              "    }\n",
              "\n",
              "    .dataframe tbody tr th {\n",
              "        vertical-align: top;\n",
              "    }\n",
              "\n",
              "    .dataframe thead th {\n",
              "        text-align: right;\n",
              "    }\n",
              "</style>\n",
              "<table border=\"1\" class=\"dataframe\">\n",
              "  <thead>\n",
              "    <tr style=\"text-align: right;\">\n",
              "      <th></th>\n",
              "      <th>(9,)</th>\n",
              "      <th>(4,)</th>\n",
              "      <th>(5,)</th>\n",
              "      <th>(11,)</th>\n",
              "      <th>(6,)</th>\n",
              "      <th>(10,)</th>\n",
              "      <th>(8,)</th>\n",
              "      <th>(1,)</th>\n",
              "      <th>(7,)</th>\n",
              "      <th>(3,)</th>\n",
              "      <th>(0,)</th>\n",
              "      <th>(2,)</th>\n",
              "    </tr>\n",
              "  </thead>\n",
              "  <tbody>\n",
              "    <tr>\n",
              "      <th>Train</th>\n",
              "      <td>850</td>\n",
              "      <td>233</td>\n",
              "      <td>576</td>\n",
              "      <td>450</td>\n",
              "      <td>138</td>\n",
              "      <td>157</td>\n",
              "      <td>216</td>\n",
              "      <td>257</td>\n",
              "      <td>460</td>\n",
              "      <td>1062</td>\n",
              "      <td>106</td>\n",
              "      <td>23</td>\n",
              "    </tr>\n",
              "    <tr>\n",
              "      <th>Val</th>\n",
              "      <td>180</td>\n",
              "      <td>69</td>\n",
              "      <td>127</td>\n",
              "      <td>80</td>\n",
              "      <td>29</td>\n",
              "      <td>35</td>\n",
              "      <td>49</td>\n",
              "      <td>57</td>\n",
              "      <td>88</td>\n",
              "      <td>218</td>\n",
              "      <td>21</td>\n",
              "      <td>4</td>\n",
              "    </tr>\n",
              "    <tr>\n",
              "      <th>Test</th>\n",
              "      <td>156</td>\n",
              "      <td>51</td>\n",
              "      <td>110</td>\n",
              "      <td>102</td>\n",
              "      <td>25</td>\n",
              "      <td>38</td>\n",
              "      <td>58</td>\n",
              "      <td>61</td>\n",
              "      <td>94</td>\n",
              "      <td>239</td>\n",
              "      <td>29</td>\n",
              "      <td>5</td>\n",
              "    </tr>\n",
              "  </tbody>\n",
              "</table>\n",
              "</div>"
            ],
            "text/plain": [
              "       (9,)  (4,)  (5,)  (11,)  (6,)  (10,)  (8,)  (1,)  (7,)  (3,)  (0,)  (2,)\n",
              "Train   850   233   576    450   138    157   216   257   460  1062   106    23\n",
              "Val     180    69   127     80    29     35    49    57    88   218    21     4\n",
              "Test    156    51   110    102    25     38    58    61    94   239    29     5"
            ]
          },
          "metadata": {},
          "execution_count": 26
        }
      ]
    },
    {
      "cell_type": "code",
      "metadata": {
        "id": "pQoyT8atOCF4"
      },
      "source": [
        "# Adjust counts across splits\n",
        "for k in counts[\"val_counts\"].keys():\n",
        "    counts[\"val_counts\"][k] = int(counts[\"val_counts\"][k] * \\\n",
        "        (train_size/val_size))\n",
        "for k in counts[\"test_counts\"].keys():\n",
        "    counts[\"test_counts\"][k] = int(counts[\"test_counts\"][k] * \\\n",
        "        (train_size/test_size))"
      ],
      "execution_count": null,
      "outputs": []
    },
    {
      "cell_type": "code",
      "metadata": {
        "colab": {
          "base_uri": "https://localhost:8080/",
          "height": 142
        },
        "id": "PR5k39BlODwn",
        "outputId": "ec8ece7f-1501-410d-9762-3c039a94b83f"
      },
      "source": [
        "dist_df = pd.DataFrame({\n",
        "    \"Train\": counts[\"train_counts\"],\n",
        "    \"Val\": counts[\"val_counts\"],\n",
        "    \"Test\": counts[\"test_counts\"]\n",
        "}).T.fillna(0)\n",
        "dist_df"
      ],
      "execution_count": null,
      "outputs": [
        {
          "output_type": "execute_result",
          "data": {
            "text/html": [
              "<div>\n",
              "<style scoped>\n",
              "    .dataframe tbody tr th:only-of-type {\n",
              "        vertical-align: middle;\n",
              "    }\n",
              "\n",
              "    .dataframe tbody tr th {\n",
              "        vertical-align: top;\n",
              "    }\n",
              "\n",
              "    .dataframe thead th {\n",
              "        text-align: right;\n",
              "    }\n",
              "</style>\n",
              "<table border=\"1\" class=\"dataframe\">\n",
              "  <thead>\n",
              "    <tr style=\"text-align: right;\">\n",
              "      <th></th>\n",
              "      <th>(9,)</th>\n",
              "      <th>(4,)</th>\n",
              "      <th>(5,)</th>\n",
              "      <th>(11,)</th>\n",
              "      <th>(6,)</th>\n",
              "      <th>(10,)</th>\n",
              "      <th>(8,)</th>\n",
              "      <th>(1,)</th>\n",
              "      <th>(7,)</th>\n",
              "      <th>(3,)</th>\n",
              "      <th>(0,)</th>\n",
              "      <th>(2,)</th>\n",
              "    </tr>\n",
              "  </thead>\n",
              "  <tbody>\n",
              "    <tr>\n",
              "      <th>Train</th>\n",
              "      <td>850</td>\n",
              "      <td>233</td>\n",
              "      <td>576</td>\n",
              "      <td>450</td>\n",
              "      <td>138</td>\n",
              "      <td>157</td>\n",
              "      <td>216</td>\n",
              "      <td>257</td>\n",
              "      <td>460</td>\n",
              "      <td>1062</td>\n",
              "      <td>106</td>\n",
              "      <td>23</td>\n",
              "    </tr>\n",
              "    <tr>\n",
              "      <th>Val</th>\n",
              "      <td>840</td>\n",
              "      <td>322</td>\n",
              "      <td>592</td>\n",
              "      <td>373</td>\n",
              "      <td>135</td>\n",
              "      <td>163</td>\n",
              "      <td>228</td>\n",
              "      <td>266</td>\n",
              "      <td>410</td>\n",
              "      <td>1017</td>\n",
              "      <td>98</td>\n",
              "      <td>18</td>\n",
              "    </tr>\n",
              "    <tr>\n",
              "      <th>Test</th>\n",
              "      <td>728</td>\n",
              "      <td>238</td>\n",
              "      <td>513</td>\n",
              "      <td>476</td>\n",
              "      <td>116</td>\n",
              "      <td>177</td>\n",
              "      <td>270</td>\n",
              "      <td>284</td>\n",
              "      <td>438</td>\n",
              "      <td>1115</td>\n",
              "      <td>135</td>\n",
              "      <td>23</td>\n",
              "    </tr>\n",
              "  </tbody>\n",
              "</table>\n",
              "</div>"
            ],
            "text/plain": [
              "       (9,)  (4,)  (5,)  (11,)  (6,)  (10,)  (8,)  (1,)  (7,)  (3,)  (0,)  (2,)\n",
              "Train   850   233   576    450   138    157   216   257   460  1062   106    23\n",
              "Val     840   322   592    373   135    163   228   266   410  1017    98    18\n",
              "Test    728   238   513    476   116    177   270   284   438  1115   135    23"
            ]
          },
          "metadata": {},
          "execution_count": 28
        }
      ]
    },
    {
      "cell_type": "code",
      "metadata": {
        "colab": {
          "base_uri": "https://localhost:8080/"
        },
        "id": "6GscNRa9OFbQ",
        "outputId": "e402d4c4-b99d-4786-8f44-7018001e5675"
      },
      "source": [
        "# Standard deviation\n",
        "np.mean(np.std(dist_df.to_numpy(), axis=0))"
      ],
      "execution_count": null,
      "outputs": [
        {
          "output_type": "execute_result",
          "data": {
            "text/plain": [
              "25.436014824564612"
            ]
          },
          "metadata": {},
          "execution_count": 29
        }
      ]
    },
    {
      "cell_type": "code",
      "metadata": {
        "id": "qm2RMCNLOHNL"
      },
      "source": [
        "from skmultilearn.model_selection import IterativeStratification"
      ],
      "execution_count": null,
      "outputs": []
    },
    {
      "cell_type": "code",
      "metadata": {
        "id": "aae3ivotOI3e"
      },
      "source": [
        "def iterative_train_test_split(X, y, train_size):\n",
        "    \"\"\"Custom iterative train test split which \n",
        "    'maintains balanced representation with respect \n",
        "    to order-th label combinations.'\n",
        "    \"\"\"\n",
        "    stratifier = IterativeStratification(\n",
        "        n_splits=2, order=1, sample_distribution_per_fold=[1.0-train_size, train_size, ])\n",
        "    train_indices, test_indices = next(stratifier.split(X, y))\n",
        "    X_train, y_train = X[train_indices], y[train_indices]\n",
        "    X_test, y_test = X[test_indices], y[test_indices]\n",
        "    return X_train, X_test, y_train, y_test"
      ],
      "execution_count": null,
      "outputs": []
    },
    {
      "cell_type": "code",
      "metadata": {
        "id": "zf5lppoMOKQA"
      },
      "source": [
        "# Get data\n",
        "X = df.segment_text.to_numpy()\n",
        "y = df.category"
      ],
      "execution_count": null,
      "outputs": []
    },
    {
      "cell_type": "code",
      "metadata": {
        "id": "gFo0GnUVOL3f"
      },
      "source": [
        "# Binarize y\n",
        "label_encoder = LabelEncoder()\n",
        "label_encoder.fit(y)\n",
        "y = label_encoder.encode(y)"
      ],
      "execution_count": null,
      "outputs": []
    },
    {
      "cell_type": "code",
      "metadata": {
        "id": "GVfn1xihONUD"
      },
      "source": [
        "# Split\n",
        "X_train, X_, y_train, y_ = iterative_train_test_split(\n",
        "    X, y, train_size=train_size)\n",
        "X_val, X_test, y_val, y_test = iterative_train_test_split(\n",
        "    X_, y_, train_size=0.5)"
      ],
      "execution_count": null,
      "outputs": []
    },
    {
      "cell_type": "code",
      "metadata": {
        "colab": {
          "base_uri": "https://localhost:8080/"
        },
        "id": "Wxm9hfnaOOkg",
        "outputId": "0be23ca5-537e-4c24-ec4e-6548bc6911e7"
      },
      "source": [
        "print(f\"train: {len(X_train)} ({len(X_train)/len(X):.2f})\\n\"\n",
        "      f\"val: {len(X_val)} ({len(X_val)/len(X):.2f})\\n\"\n",
        "      f\"test: {len(X_test)} ({len(X_test)/len(X):.2f})\")"
      ],
      "execution_count": null,
      "outputs": [
        {
          "output_type": "stream",
          "name": "stdout",
          "text": [
            "train: 2645 (0.70)\n",
            "val: 574 (0.15)\n",
            "test: 557 (0.15)\n"
          ]
        }
      ]
    },
    {
      "cell_type": "code",
      "metadata": {
        "id": "gZzrMbeKOP3b"
      },
      "source": [
        "# Get counts for each class\n",
        "counts = {}\n",
        "counts[\"train_counts\"] = Counter(str(combination) for row in get_combination_wise_output_matrix(\n",
        "    y_train, order=1) for combination in row)\n",
        "counts[\"val_counts\"] = Counter(str(combination) for row in get_combination_wise_output_matrix(\n",
        "    y_val, order=1) for combination in row)\n",
        "counts[\"test_counts\"] = Counter(str(combination) for row in get_combination_wise_output_matrix(\n",
        "    y_test, order=1) for combination in row)"
      ],
      "execution_count": null,
      "outputs": []
    },
    {
      "cell_type": "code",
      "metadata": {
        "id": "moRa_ilXORml"
      },
      "source": [
        "# Adjust counts across splits\n",
        "for k in counts[\"val_counts\"].keys():\n",
        "    counts[\"val_counts\"][k] = int(counts[\"val_counts\"][k] * \\\n",
        "        (train_size/val_size))\n",
        "for k in counts[\"test_counts\"].keys():\n",
        "    counts[\"test_counts\"][k] = int(counts[\"test_counts\"][k] * \\\n",
        "        (train_size/test_size))"
      ],
      "execution_count": null,
      "outputs": []
    },
    {
      "cell_type": "code",
      "metadata": {
        "colab": {
          "base_uri": "https://localhost:8080/",
          "height": 142
        },
        "id": "tDvfzv6TOTM3",
        "outputId": "3affba79-78fd-47f5-e286-298391ab4c71"
      },
      "source": [
        "# View distributions\n",
        "pd.DataFrame({\n",
        "    \"Train\": counts[\"train_counts\"],\n",
        "    \"Val\": counts[\"val_counts\"],\n",
        "    \"Test\": counts[\"test_counts\"]\n",
        "}).T.fillna(0)"
      ],
      "execution_count": null,
      "outputs": [
        {
          "output_type": "execute_result",
          "data": {
            "text/html": [
              "<div>\n",
              "<style scoped>\n",
              "    .dataframe tbody tr th:only-of-type {\n",
              "        vertical-align: middle;\n",
              "    }\n",
              "\n",
              "    .dataframe tbody tr th {\n",
              "        vertical-align: top;\n",
              "    }\n",
              "\n",
              "    .dataframe thead th {\n",
              "        text-align: right;\n",
              "    }\n",
              "</style>\n",
              "<table border=\"1\" class=\"dataframe\">\n",
              "  <thead>\n",
              "    <tr style=\"text-align: right;\">\n",
              "      <th></th>\n",
              "      <th>(0,)</th>\n",
              "      <th>(3,)</th>\n",
              "      <th>(5,)</th>\n",
              "      <th>(11,)</th>\n",
              "      <th>(8,)</th>\n",
              "      <th>(7,)</th>\n",
              "      <th>(9,)</th>\n",
              "      <th>(6,)</th>\n",
              "      <th>(1,)</th>\n",
              "      <th>(10,)</th>\n",
              "      <th>(2,)</th>\n",
              "      <th>(4,)</th>\n",
              "    </tr>\n",
              "  </thead>\n",
              "  <tbody>\n",
              "    <tr>\n",
              "      <th>Train</th>\n",
              "      <td>109</td>\n",
              "      <td>1063</td>\n",
              "      <td>569</td>\n",
              "      <td>442</td>\n",
              "      <td>226</td>\n",
              "      <td>449</td>\n",
              "      <td>830</td>\n",
              "      <td>134</td>\n",
              "      <td>262</td>\n",
              "      <td>161</td>\n",
              "      <td>22</td>\n",
              "      <td>247</td>\n",
              "    </tr>\n",
              "    <tr>\n",
              "      <th>Val</th>\n",
              "      <td>116</td>\n",
              "      <td>1064</td>\n",
              "      <td>569</td>\n",
              "      <td>443</td>\n",
              "      <td>228</td>\n",
              "      <td>448</td>\n",
              "      <td>830</td>\n",
              "      <td>135</td>\n",
              "      <td>266</td>\n",
              "      <td>163</td>\n",
              "      <td>32</td>\n",
              "      <td>247</td>\n",
              "    </tr>\n",
              "    <tr>\n",
              "      <th>Test</th>\n",
              "      <td>102</td>\n",
              "      <td>1064</td>\n",
              "      <td>569</td>\n",
              "      <td>443</td>\n",
              "      <td>224</td>\n",
              "      <td>452</td>\n",
              "      <td>830</td>\n",
              "      <td>135</td>\n",
              "      <td>261</td>\n",
              "      <td>158</td>\n",
              "      <td>14</td>\n",
              "      <td>247</td>\n",
              "    </tr>\n",
              "  </tbody>\n",
              "</table>\n",
              "</div>"
            ],
            "text/plain": [
              "       (0,)  (3,)  (5,)  (11,)  (8,)  (7,)  (9,)  (6,)  (1,)  (10,)  (2,)  (4,)\n",
              "Train   109  1063   569    442   226   449   830   134   262    161    22   247\n",
              "Val     116  1064   569    443   228   448   830   135   266    163    32   247\n",
              "Test    102  1064   569    443   224   452   830   135   261    158    14   247"
            ]
          },
          "metadata": {},
          "execution_count": 38
        }
      ]
    },
    {
      "cell_type": "code",
      "metadata": {
        "id": "dwOR9Iq1OUyu"
      },
      "source": [
        "dist_df = pd.DataFrame({\n",
        "    'train': counts['train_counts'],\n",
        "    'val': counts['val_counts'],\n",
        "    'test': counts['test_counts']\n",
        "}).T.fillna(0)"
      ],
      "execution_count": null,
      "outputs": []
    },
    {
      "cell_type": "code",
      "metadata": {
        "colab": {
          "base_uri": "https://localhost:8080/"
        },
        "id": "vci6Rj22OWkv",
        "outputId": "30e8bc6f-f6e5-40ec-fec3-19235bc38d04"
      },
      "source": [
        "# Standard deviation\n",
        "np.mean(np.std(dist_df.to_numpy(), axis=0))"
      ],
      "execution_count": null,
      "outputs": [
        {
          "output_type": "execute_result",
          "data": {
            "text/plain": [
              "1.8367484617086676"
            ]
          },
          "metadata": {},
          "execution_count": 40
        }
      ]
    },
    {
      "cell_type": "code",
      "metadata": {
        "colab": {
          "base_uri": "https://localhost:8080/",
          "height": 204
        },
        "id": "mzKLeV-ZOaPH",
        "outputId": "fd6a2b3a-4c0e-4807-e1e0-495d8471795d"
      },
      "source": [
        "# Split DataFrames\n",
        "train_df = pd.DataFrame({\"segment_text\": X_train, \"category\": label_encoder.decode(y_train)})\n",
        "val_df = pd.DataFrame({\"segment_text\": X_val, \"category\": label_encoder.decode(y_val)})\n",
        "test_df = pd.DataFrame({\"segment_text\": X_test, \"category\": label_encoder.decode(y_test)})\n",
        "train_df.head()"
      ],
      "execution_count": null,
      "outputs": [
        {
          "output_type": "execute_result",
          "data": {
            "text/html": [
              "<div>\n",
              "<style scoped>\n",
              "    .dataframe tbody tr th:only-of-type {\n",
              "        vertical-align: middle;\n",
              "    }\n",
              "\n",
              "    .dataframe tbody tr th {\n",
              "        vertical-align: top;\n",
              "    }\n",
              "\n",
              "    .dataframe thead th {\n",
              "        text-align: right;\n",
              "    }\n",
              "</style>\n",
              "<table border=\"1\" class=\"dataframe\">\n",
              "  <thead>\n",
              "    <tr style=\"text-align: right;\">\n",
              "      <th></th>\n",
              "      <th>segment_text</th>\n",
              "      <th>category</th>\n",
              "    </tr>\n",
              "  </thead>\n",
              "  <tbody>\n",
              "    <tr>\n",
              "      <th>0</th>\n",
              "      <td>contact us may keep record correspondence</td>\n",
              "      <td>[Data Retention, First Party Collection/Use]</td>\n",
              "    </tr>\n",
              "    <tr>\n",
              "      <th>1</th>\n",
              "      <td>use cookies sci news com uses cookie technolog...</td>\n",
              "      <td>[First Party Collection/Use]</td>\n",
              "    </tr>\n",
              "    <tr>\n",
              "      <th>2</th>\n",
              "      <td>consent rights using sci news com consent coll...</td>\n",
              "      <td>[Introductory/Generic, User Choice/Control]</td>\n",
              "    </tr>\n",
              "    <tr>\n",
              "      <th>3</th>\n",
              "      <td>contact us inquiries privacy policy implementa...</td>\n",
              "      <td>[Privacy contact information]</td>\n",
              "    </tr>\n",
              "    <tr>\n",
              "      <th>4</th>\n",
              "      <td>privacy statement covers site new www redorbit...</td>\n",
              "      <td>[Introductory/Generic]</td>\n",
              "    </tr>\n",
              "  </tbody>\n",
              "</table>\n",
              "</div>"
            ],
            "text/plain": [
              "                                        segment_text                                      category\n",
              "0          contact us may keep record correspondence  [Data Retention, First Party Collection/Use]\n",
              "1  use cookies sci news com uses cookie technolog...                  [First Party Collection/Use]\n",
              "2  consent rights using sci news com consent coll...   [Introductory/Generic, User Choice/Control]\n",
              "3  contact us inquiries privacy policy implementa...                 [Privacy contact information]\n",
              "4  privacy statement covers site new www redorbit...                        [Introductory/Generic]"
            ]
          },
          "metadata": {},
          "execution_count": 41
        }
      ]
    },
    {
      "cell_type": "code",
      "metadata": {
        "colab": {
          "base_uri": "https://localhost:8080/"
        },
        "id": "OUw6Lxn6Obm2",
        "outputId": "aab48a87-5b32-4dc4-ebb9-8068e90e1ea7"
      },
      "source": [
        "!pip install nlpaug==1.1.0 transformers==3.0.2 -q\n",
        "!pip install snorkel==0.9.7 -q"
      ],
      "execution_count": null,
      "outputs": [
        {
          "output_type": "stream",
          "name": "stdout",
          "text": [
            "\u001b[K     |████████████████████████████████| 380 kB 11.7 MB/s \n",
            "\u001b[K     |████████████████████████████████| 769 kB 46.0 MB/s \n",
            "\u001b[K     |████████████████████████████████| 895 kB 45.2 MB/s \n",
            "\u001b[K     |████████████████████████████████| 1.2 MB 43.4 MB/s \n",
            "\u001b[K     |████████████████████████████████| 3.0 MB 43.9 MB/s \n",
            "\u001b[K     |████████████████████████████████| 145 kB 11.1 MB/s \n",
            "\u001b[K     |████████████████████████████████| 3.8 MB 48.1 MB/s \n",
            "\u001b[K     |████████████████████████████████| 1.7 MB 41.5 MB/s \n",
            "\u001b[?25h  Building wheel for networkx (setup.py) ... \u001b[?25l\u001b[?25hdone\n",
            "\u001b[31mERROR: pip's dependency resolver does not currently take into account all the packages that are installed. This behaviour is the source of the following dependency conflicts.\n",
            "tensorflow 2.6.0 requires tensorboard~=2.6, but you have tensorboard 1.15.0 which is incompatible.\n",
            "albumentations 0.1.12 requires imgaug<0.2.7,>=0.2.5, but you have imgaug 0.2.9 which is incompatible.\u001b[0m\n"
          ]
        }
      ]
    },
    {
      "cell_type": "code",
      "metadata": {
        "id": "dKqh4oe1BpGC"
      },
      "source": [
        ""
      ],
      "execution_count": null,
      "outputs": []
    },
    {
      "cell_type": "code",
      "metadata": {
        "id": "XD5cMQ9NBpDk"
      },
      "source": [
        ""
      ],
      "execution_count": null,
      "outputs": []
    },
    {
      "cell_type": "code",
      "metadata": {
        "id": "3cZOZTfoBpAp"
      },
      "source": [
        ""
      ],
      "execution_count": null,
      "outputs": []
    },
    {
      "cell_type": "code",
      "metadata": {
        "id": "Yff4ZdDdBo9k"
      },
      "source": [
        ""
      ],
      "execution_count": null,
      "outputs": []
    },
    {
      "cell_type": "code",
      "metadata": {
        "id": "bxrf6Cp4Bo7o"
      },
      "source": [
        ""
      ],
      "execution_count": null,
      "outputs": []
    },
    {
      "cell_type": "code",
      "metadata": {
        "id": "R_f6dIAGBo4X"
      },
      "source": [
        ""
      ],
      "execution_count": null,
      "outputs": []
    },
    {
      "cell_type": "code",
      "metadata": {
        "id": "HAtUU13EBo1O"
      },
      "source": [
        ""
      ],
      "execution_count": null,
      "outputs": []
    },
    {
      "cell_type": "code",
      "metadata": {
        "id": "qU-O26QCOdIS"
      },
      "source": [
        "from sklearn.ensemble import RandomForestClassifier\n",
        "from sklearn.ensemble import GradientBoostingClassifier\n",
        "from sklearn.linear_model import LogisticRegression\n",
        "from sklearn.multiclass import OneVsRestClassifier\n",
        "from sklearn.neighbors import KNeighborsClassifier\n",
        "from sklearn.svm import LinearSVC"
      ],
      "execution_count": null,
      "outputs": []
    },
    {
      "cell_type": "code",
      "metadata": {
        "id": "sR1TwHavOhvT"
      },
      "source": [
        "from sklearn import metrics\n",
        "from sklearn.feature_extraction.text import TfidfVectorizer\n",
        "from sklearn.metrics import accuracy_score, precision_score, recall_score\n",
        "from sklearn.metrics import precision_recall_curve\n",
        "from sklearn.preprocessing import MultiLabelBinarizer"
      ],
      "execution_count": null,
      "outputs": []
    },
    {
      "cell_type": "code",
      "metadata": {
        "id": "LfljLd8ePF_-"
      },
      "source": [
        "from sklearn.metrics import precision_recall_fscore_support\n",
        "import torch"
      ],
      "execution_count": null,
      "outputs": []
    },
    {
      "cell_type": "code",
      "metadata": {
        "id": "F2boqTcyO3Ky"
      },
      "source": [
        "def set_seeds(seed=1234):\n",
        "    \"\"\"Set seeds for reproducibility.\"\"\"\n",
        "    np.random.seed(seed)\n",
        "    random.seed(seed)\n",
        "    torch.manual_seed(seed)\n",
        "    torch.cuda.manual_seed(seed)\n",
        "    torch.cuda.manual_seed_all(seed) # multi-GPU"
      ],
      "execution_count": null,
      "outputs": []
    },
    {
      "cell_type": "code",
      "metadata": {
        "id": "wB0FWqMBO6HM"
      },
      "source": [
        "def get_data_splits(df, train_size=0.7):\n",
        "    \"\"\"\"\"\"\n",
        "    # Get data\n",
        "    X = df.segment_text.to_numpy()\n",
        "    y = df.category\n",
        "\n",
        "    # Binarize y\n",
        "    label_encoder = LabelEncoder()\n",
        "    label_encoder.fit(y)\n",
        "    y = label_encoder.encode(y)\n",
        "\n",
        "    # Split\n",
        "    X_train, X_, y_train, y_ = iterative_train_test_split(\n",
        "        X, y, train_size=train_size)\n",
        "    X_val, X_test, y_val, y_test = iterative_train_test_split(\n",
        "        X_, y_, train_size=0.5)\n",
        "    \n",
        "    return X_train, X_val, X_test, y_train, y_val, y_test, label_encoder"
      ],
      "execution_count": null,
      "outputs": []
    },
    {
      "cell_type": "code",
      "metadata": {
        "id": "OaG9wvlEO6CK"
      },
      "source": [
        "class Trainer(object):\n",
        "    def __init__(self, model, device, loss_fn=None, optimizer=None, scheduler=None):\n",
        "\n",
        "        # Set params\n",
        "        self.model = model\n",
        "        self.device = device\n",
        "        self.loss_fn = loss_fn\n",
        "        self.optimizer = optimizer\n",
        "        self.scheduler = scheduler\n",
        "\n",
        "    def train_step(self, dataloader):\n",
        "        \"\"\"Train step.\"\"\"\n",
        "        # Set model to train mode\n",
        "        self.model.train()\n",
        "        loss = 0.0\n",
        "\n",
        "        # Iterate over train batches\n",
        "        for i, batch in enumerate(dataloader):\n",
        "\n",
        "            # Step\n",
        "            batch = [item.to(self.device) for item in batch]  # Set device\n",
        "            inputs, targets = batch[:-1], batch[-1]\n",
        "            self.optimizer.zero_grad()  # Reset gradients\n",
        "            z = self.model(inputs)  # Forward pass\n",
        "            J = self.loss_fn(z, targets)  # Define loss\n",
        "            J.backward()  # Backward pass\n",
        "            self.optimizer.step()  # Update weights\n",
        "\n",
        "            # Cumulative Metrics\n",
        "            loss += (J.detach().item() - loss) / (i + 1)\n",
        "\n",
        "        return loss\n",
        "\n",
        "    def eval_step(self, dataloader):\n",
        "        \"\"\"Validation or test step.\"\"\"\n",
        "        # Set model to eval mode\n",
        "        self.model.eval()\n",
        "        loss = 0.0\n",
        "        y_trues, y_probs = [], []\n",
        "\n",
        "        # Iterate over val batches\n",
        "        with torch.inference_mode():\n",
        "            for i, batch in enumerate(dataloader):\n",
        "\n",
        "                # Step\n",
        "                batch = [item.to(self.device) for item in batch]  # Set device\n",
        "                inputs, y_true = batch[:-1], batch[-1]\n",
        "                z = self.model(inputs)  # Forward pass\n",
        "                J = self.loss_fn(z, y_true).item()\n",
        "\n",
        "                # Cumulative Metrics\n",
        "                loss += (J - loss) / (i + 1)\n",
        "\n",
        "                # Store outputs\n",
        "                y_prob = torch.sigmoid(z).cpu().numpy()\n",
        "                y_probs.extend(y_prob)\n",
        "                y_trues.extend(y_true.cpu().numpy())\n",
        "\n",
        "        return loss, np.vstack(y_trues), np.vstack(y_probs)\n",
        "\n",
        "    def predict_step(self, dataloader):\n",
        "        \"\"\"Prediction step.\"\"\"\n",
        "        # Set model to eval mode\n",
        "        self.model.eval()\n",
        "        y_probs = []\n",
        "\n",
        "        # Iterate over val batches\n",
        "        with torch.inference_mode():\n",
        "            for i, batch in enumerate(dataloader):\n",
        "\n",
        "                # Forward pass w/ inputs\n",
        "                inputs, targets = batch[:-1], batch[-1]\n",
        "                z = self.model(inputs)\n",
        "\n",
        "                # Store outputs\n",
        "                y_prob = torch.sigmoid(z).cpu().numpy()\n",
        "                y_probs.extend(y_prob)\n",
        "\n",
        "        return np.vstack(y_probs)\n",
        "    \n",
        "    def train(self, num_epochs, patience, train_dataloader, val_dataloader, \n",
        "              tolerance=1e-5):\n",
        "        best_val_loss = np.inf\n",
        "        for epoch in range(num_epochs):\n",
        "            # Steps\n",
        "            train_loss = self.train_step(dataloader=train_dataloader)\n",
        "            val_loss, _, _ = self.eval_step(dataloader=val_dataloader)\n",
        "            self.scheduler.step(val_loss)\n",
        "\n",
        "            # Early stopping\n",
        "            if val_loss < best_val_loss - tolerance:\n",
        "                best_val_loss = val_loss\n",
        "                best_model = self.model\n",
        "                _patience = patience  # reset _patience\n",
        "            else:\n",
        "                _patience -= 1\n",
        "            if not _patience:  # 0\n",
        "                print(\"Stopping early!\")\n",
        "                break\n",
        "\n",
        "            # Logging\n",
        "            print(\n",
        "                f\"Epoch: {epoch+1} | \"\n",
        "                f\"train_loss: {train_loss:.5f}, \"\n",
        "                f\"val_loss: {val_loss:.5f}, \"\n",
        "                f\"lr: {self.optimizer.param_groups[0]['lr']:.2E}, \"\n",
        "                f\"_patience: {_patience}\"\n",
        "            )\n",
        "        return best_model"
      ],
      "execution_count": null,
      "outputs": []
    },
    {
      "cell_type": "code",
      "metadata": {
        "id": "CyCPG2l_OjGR"
      },
      "source": [
        "# Set seeds\n",
        "set_seeds()"
      ],
      "execution_count": null,
      "outputs": []
    },
    {
      "cell_type": "code",
      "metadata": {
        "id": "twyOEIycOnt1"
      },
      "source": [
        "# Get data splits\n",
        "preprocessed_df = df.copy()\n",
        "preprocessed_df.segment_text = preprocessed_df.segment_text.apply(preprocess, lower=True, stem=True)\n",
        "X_train, X_val, X_test, y_train, y_val, y_test, label_encoder = get_data_splits(preprocessed_df)"
      ],
      "execution_count": null,
      "outputs": []
    },
    {
      "cell_type": "code",
      "metadata": {
        "colab": {
          "base_uri": "https://localhost:8080/"
        },
        "id": "oAtv-kKHOo7J",
        "outputId": "744dfb2b-8b31-4b55-da1a-f398447e596f"
      },
      "source": [
        "# Tf-idf\n",
        "vectorizer = TfidfVectorizer()\n",
        "print (X_train[0])\n",
        "X_train = vectorizer.fit_transform(X_train)\n",
        "X_val = vectorizer.transform(X_val)\n",
        "X_test = vectorizer.transform(X_test)\n",
        "print (X_train.shape)\n",
        "print (X_train[0]) # scipy.sparse.csr_matrix"
      ],
      "execution_count": null,
      "outputs": [
        {
          "output_type": "stream",
          "name": "stdout",
          "text": [
            "contact us may keep record correspond\n",
            "(2645, 3951)\n",
            "  (0, 1075)\t0.6252027038132683\n",
            "  (0, 2955)\t0.45641397661986727\n",
            "  (0, 2059)\t0.4731453820827312\n",
            "  (0, 2252)\t0.17105281702859856\n",
            "  (0, 3711)\t0.2322101765874832\n",
            "  (0, 1032)\t0.306203651480832\n"
          ]
        }
      ]
    },
    {
      "cell_type": "code",
      "metadata": {
        "id": "k9n1HfgUOrDs"
      },
      "source": [
        "def fit_and_evaluate(model):\n",
        "    \"\"\"Fit and evaluate each model.\"\"\"\n",
        "    model.fit(X_train, y_train)\n",
        "    y_pred = model.predict(X_test)\n",
        "    metrics = precision_recall_fscore_support(y_test, y_pred, average=\"weighted\")\n",
        "    return {\"precision\": metrics[0], \"recall\": metrics[1], \"f1\": metrics[2]}"
      ],
      "execution_count": null,
      "outputs": []
    },
    {
      "cell_type": "code",
      "metadata": {
        "colab": {
          "base_uri": "https://localhost:8080/"
        },
        "id": "j93Vq4mKOsvQ",
        "outputId": "3f0f4670-dd8c-49fc-84ed-afcb3e8ad067"
      },
      "source": [
        "# Models\n",
        "performance = {}\n",
        "performance[\"logistic-regression\"] = fit_and_evaluate(OneVsRestClassifier(\n",
        "    LogisticRegression(), n_jobs=1))\n",
        "performance[\"k-nearest-neighbors\"] = fit_and_evaluate(\n",
        "    KNeighborsClassifier())\n",
        "performance[\"random-forest\"] = fit_and_evaluate(\n",
        "    RandomForestClassifier(n_jobs=-1))\n",
        "performance[\"gradient-boosting-machine\"] = fit_and_evaluate(OneVsRestClassifier(\n",
        "    GradientBoostingClassifier()))\n",
        "performance[\"support-vector-machine\"] = fit_and_evaluate(OneVsRestClassifier(\n",
        "    LinearSVC(), n_jobs=-1))\n",
        "print (json.dumps(performance, indent=2))"
      ],
      "execution_count": null,
      "outputs": [
        {
          "output_type": "stream",
          "name": "stderr",
          "text": [
            "/usr/local/lib/python3.7/dist-packages/sklearn/metrics/_classification.py:1272: UndefinedMetricWarning: Precision and F-score are ill-defined and being set to 0.0 in labels with no predicted samples. Use `zero_division` parameter to control this behavior.\n",
            "  _warn_prf(average, modifier, msg_start, len(result))\n",
            "/usr/local/lib/python3.7/dist-packages/sklearn/metrics/_classification.py:1272: UndefinedMetricWarning: Precision and F-score are ill-defined and being set to 0.0 in labels with no predicted samples. Use `zero_division` parameter to control this behavior.\n",
            "  _warn_prf(average, modifier, msg_start, len(result))\n"
          ]
        },
        {
          "output_type": "stream",
          "name": "stdout",
          "text": [
            "{\n",
            "  \"logistic-regression\": {\n",
            "    \"precision\": 0.8231629875553147,\n",
            "    \"recall\": 0.4840041279669763,\n",
            "    \"f1\": 0.5774641858092064\n",
            "  },\n",
            "  \"k-nearest-neighbors\": {\n",
            "    \"precision\": 0.7065588796297275,\n",
            "    \"recall\": 0.5376676986584107,\n",
            "    \"f1\": 0.5969746431695283\n",
            "  },\n",
            "  \"random-forest\": {\n",
            "    \"precision\": 0.8234288900533516,\n",
            "    \"recall\": 0.44272445820433437,\n",
            "    \"f1\": 0.5438723041094697\n",
            "  },\n",
            "  \"gradient-boosting-machine\": {\n",
            "    \"precision\": 0.7739622179381892,\n",
            "    \"recall\": 0.5510835913312694,\n",
            "    \"f1\": 0.6275918306971963\n",
            "  },\n",
            "  \"support-vector-machine\": {\n",
            "    \"precision\": 0.7556479929439904,\n",
            "    \"recall\": 0.6140350877192983,\n",
            "    \"f1\": 0.6679964511467538\n",
            "  }\n",
            "}\n"
          ]
        }
      ]
    },
    {
      "cell_type": "markdown",
      "metadata": {
        "id": "VYTHG_7pPM_t"
      },
      "source": [
        "# CNN"
      ]
    },
    {
      "cell_type": "code",
      "metadata": {
        "id": "85KFu7u1OuIQ"
      },
      "source": [
        "import math\n",
        "import torch\n",
        "import torch.nn as nn\n",
        "import torch.nn.functional as F"
      ],
      "execution_count": null,
      "outputs": []
    },
    {
      "cell_type": "code",
      "metadata": {
        "id": "kdHZBSbKPP9x"
      },
      "source": [
        "# Set seeds\n",
        "set_seeds()"
      ],
      "execution_count": null,
      "outputs": []
    },
    {
      "cell_type": "code",
      "metadata": {
        "id": "UH2eV8hyPRLb"
      },
      "source": [
        "# Get data splits\n",
        "preprocessed_df = df.copy()\n",
        "preprocessed_df.segment_text = preprocessed_df.segment_text.apply(preprocess, lower=True)\n",
        "X_train, X_val, X_test, y_train, y_val, y_test, label_encoder = get_data_splits(preprocessed_df)\n",
        "X_test_raw = X_test  # use for later"
      ],
      "execution_count": null,
      "outputs": []
    },
    {
      "cell_type": "code",
      "metadata": {
        "id": "uW5TVwa-PSPZ"
      },
      "source": [
        "# Split DataFrames\n",
        "train_df = pd.DataFrame({\"segment_text\": X_train, \"category\": label_encoder.decode(y_train)})\n",
        "val_df = pd.DataFrame({\"segment_text\": X_val, \"category\": label_encoder.decode(y_val)})\n",
        "test_df = pd.DataFrame({\"segment_text\": X_test, \"category\": label_encoder.decode(y_test)})"
      ],
      "execution_count": null,
      "outputs": []
    },
    {
      "cell_type": "code",
      "metadata": {
        "colab": {
          "base_uri": "https://localhost:8080/"
        },
        "id": "nykT_l46PTdG",
        "outputId": "c18545a7-1a32-4ba6-bf57-6972075af45e"
      },
      "source": [
        "# Set device\n",
        "cuda = True\n",
        "device = torch.device(\"cuda\" if (\n",
        "    torch.cuda.is_available() and cuda) else \"cpu\")\n",
        "torch.set_default_tensor_type(\"torch.FloatTensor\")\n",
        "if device.type == \"cuda\":\n",
        "    torch.set_default_tensor_type(\"torch.cuda.FloatTensor\")\n",
        "print (device)"
      ],
      "execution_count": null,
      "outputs": [
        {
          "output_type": "stream",
          "name": "stdout",
          "text": [
            "cuda\n"
          ]
        }
      ]
    },
    {
      "cell_type": "code",
      "metadata": {
        "id": "n3xZOaLtPU2h"
      },
      "source": [
        "class Tokenizer(object):\n",
        "    def __init__(self, char_level, num_tokens=None, \n",
        "                 pad_token=\"<PAD>\", oov_token=\"<UNK>\",\n",
        "                 token_to_index=None):\n",
        "        self.char_level = char_level\n",
        "        self.separator = '' if self.char_level else ' '\n",
        "        if num_tokens: num_tokens -= 2 # pad + unk tokens\n",
        "        self.num_tokens = num_tokens\n",
        "        self.pad_token = pad_token\n",
        "        self.oov_token = oov_token\n",
        "        if not token_to_index:\n",
        "            token_to_index = {pad_token: 0, oov_token: 1}\n",
        "        self.token_to_index = token_to_index\n",
        "        self.index_to_token = {v: k for k, v in self.token_to_index.items()}\n",
        "\n",
        "    def __len__(self):\n",
        "        return len(self.token_to_index)\n",
        "\n",
        "    def __str__(self):\n",
        "        return f\"<Tokenizer(num_tokens={len(self)})>\"\n",
        "\n",
        "    def fit_on_texts(self, texts):\n",
        "        if not self.char_level:\n",
        "            texts = [text.split(\" \") for text in texts]\n",
        "        all_tokens = [token for text in texts for token in text]\n",
        "        counts = Counter(all_tokens).most_common(self.num_tokens)\n",
        "        self.min_token_freq = counts[-1][1]\n",
        "        for token, count in counts:\n",
        "            index = len(self)\n",
        "            self.token_to_index[token] = index\n",
        "            self.index_to_token[index] = token\n",
        "        return self\n",
        "\n",
        "    def texts_to_sequences(self, texts):\n",
        "        sequences = []\n",
        "        for text in texts:\n",
        "            if not self.char_level:\n",
        "                text = text.split(' ')\n",
        "            sequence = []\n",
        "            for token in text:\n",
        "                sequence.append(self.token_to_index.get(\n",
        "                    token, self.token_to_index[self.oov_token]))\n",
        "            sequences.append(np.asarray(sequence))\n",
        "        return sequences\n",
        "\n",
        "    def sequences_to_texts(self, sequences):\n",
        "        texts = []\n",
        "        for sequence in sequences:\n",
        "            text = []\n",
        "            for index in sequence:\n",
        "                text.append(self.index_to_token.get(index, self.oov_token))\n",
        "            texts.append(self.separator.join([token for token in text]))\n",
        "        return texts\n",
        "\n",
        "    def save(self, fp):\n",
        "        with open(fp, \"w\") as fp:\n",
        "            contents = {\n",
        "                \"char_level\": self.char_level,\n",
        "                \"oov_token\": self.oov_token,\n",
        "                \"token_to_index\": self.token_to_index\n",
        "            }\n",
        "            json.dump(contents, fp, indent=4, sort_keys=False)\n",
        "\n",
        "    @classmethod\n",
        "    def load(cls, fp):\n",
        "        with open(fp, \"r\") as fp:\n",
        "            kwargs = json.load(fp=fp)\n",
        "        return cls(**kwargs)"
      ],
      "execution_count": null,
      "outputs": []
    },
    {
      "cell_type": "code",
      "metadata": {
        "colab": {
          "base_uri": "https://localhost:8080/"
        },
        "id": "BfzQwFPePWVh",
        "outputId": "51a4e5ca-2544-4dc6-be66-c89bd3630c58"
      },
      "source": [
        "# Tokenize\n",
        "char_level = True\n",
        "tokenizer = Tokenizer(char_level=char_level)\n",
        "tokenizer.fit_on_texts(texts=X_train)\n",
        "vocab_size = len(tokenizer)\n",
        "print (tokenizer)"
      ],
      "execution_count": null,
      "outputs": [
        {
          "output_type": "stream",
          "name": "stdout",
          "text": [
            "<Tokenizer(num_tokens=39)>\n"
          ]
        }
      ]
    },
    {
      "cell_type": "code",
      "metadata": {
        "colab": {
          "base_uri": "https://localhost:8080/"
        },
        "id": "oVuDnCUgPYK4",
        "outputId": "5024aa17-47f6-44d6-f257-c772210e5cb7"
      },
      "source": [
        "tokenizer.token_to_index"
      ],
      "execution_count": null,
      "outputs": [
        {
          "output_type": "execute_result",
          "data": {
            "text/plain": [
              "{' ': 2,\n",
              " '0': 30,\n",
              " '1': 28,\n",
              " '2': 31,\n",
              " '3': 32,\n",
              " '4': 35,\n",
              " '5': 33,\n",
              " '6': 38,\n",
              " '7': 37,\n",
              " '8': 34,\n",
              " '9': 36,\n",
              " '<PAD>': 0,\n",
              " '<UNK>': 1,\n",
              " 'a': 6,\n",
              " 'b': 22,\n",
              " 'c': 11,\n",
              " 'd': 13,\n",
              " 'e': 3,\n",
              " 'f': 17,\n",
              " 'g': 18,\n",
              " 'h': 21,\n",
              " 'i': 4,\n",
              " 'j': 29,\n",
              " 'k': 24,\n",
              " 'l': 12,\n",
              " 'm': 15,\n",
              " 'n': 10,\n",
              " 'o': 9,\n",
              " 'p': 14,\n",
              " 'q': 25,\n",
              " 'r': 8,\n",
              " 's': 5,\n",
              " 't': 7,\n",
              " 'u': 16,\n",
              " 'v': 20,\n",
              " 'w': 23,\n",
              " 'x': 26,\n",
              " 'y': 19,\n",
              " 'z': 27}"
            ]
          },
          "metadata": {},
          "execution_count": 62
        }
      ]
    },
    {
      "cell_type": "code",
      "metadata": {
        "colab": {
          "base_uri": "https://localhost:8080/"
        },
        "id": "86TZDnK1PZ4d",
        "outputId": "6f034ef6-8fd9-47c4-a5b1-829269962473"
      },
      "source": [
        "# Convert texts to sequences of indices\n",
        "X_train = np.array(tokenizer.texts_to_sequences(X_train))\n",
        "X_val = np.array(tokenizer.texts_to_sequences(X_val))\n",
        "X_test = np.array(tokenizer.texts_to_sequences(X_test))\n",
        "preprocessed_text = tokenizer.sequences_to_texts([X_train[0]])[0]\n",
        "print (\"Text to indices:\\n\"\n",
        "    f\"  (preprocessed) → {preprocessed_text}\\n\"\n",
        "    f\"  (tokenized) → {X_train[0]}\")"
      ],
      "execution_count": null,
      "outputs": [
        {
          "output_type": "stream",
          "name": "stdout",
          "text": [
            "Text to indices:\n",
            "  (preprocessed) → contact us may keep record correspondence\n",
            "  (tokenized) → [11  9 10  7  6 11  7  2 16  5  2 15  6 19  2 24  3  3 14  2  8  3 11  9\n",
            "  8 13  2 11  9  8  8  3  5 14  9 10 13  3 10 11  3]\n"
          ]
        },
        {
          "output_type": "stream",
          "name": "stderr",
          "text": [
            "/usr/local/lib/python3.7/dist-packages/ipykernel_launcher.py:2: VisibleDeprecationWarning: Creating an ndarray from ragged nested sequences (which is a list-or-tuple of lists-or-tuples-or ndarrays with different lengths or shapes) is deprecated. If you meant to do this, you must specify 'dtype=object' when creating the ndarray\n",
            "  \n",
            "/usr/local/lib/python3.7/dist-packages/ipykernel_launcher.py:3: VisibleDeprecationWarning: Creating an ndarray from ragged nested sequences (which is a list-or-tuple of lists-or-tuples-or ndarrays with different lengths or shapes) is deprecated. If you meant to do this, you must specify 'dtype=object' when creating the ndarray\n",
            "  This is separate from the ipykernel package so we can avoid doing imports until\n",
            "/usr/local/lib/python3.7/dist-packages/ipykernel_launcher.py:4: VisibleDeprecationWarning: Creating an ndarray from ragged nested sequences (which is a list-or-tuple of lists-or-tuples-or ndarrays with different lengths or shapes) is deprecated. If you meant to do this, you must specify 'dtype=object' when creating the ndarray\n",
            "  after removing the cwd from sys.path.\n"
          ]
        }
      ]
    },
    {
      "cell_type": "code",
      "metadata": {
        "colab": {
          "base_uri": "https://localhost:8080/"
        },
        "id": "wp8htC7XPbs6",
        "outputId": "4263945d-209b-4b3f-ae63-abb6d89e5ba1"
      },
      "source": [
        "# Class weights\n",
        "train_cats = list(itertools.chain.from_iterable(train_df.category.values))\n",
        "counts = np.bincount([label_encoder.class_to_index[class_] for class_ in train_cats])\n",
        "class_weights = {i: 1.0/count for i, count in enumerate(counts)}\n",
        "print (f\"class counts: {counts},\\nclass weights: {class_weights}\")"
      ],
      "execution_count": null,
      "outputs": [
        {
          "output_type": "stream",
          "name": "stdout",
          "text": [
            "class counts: [ 109  262   22 1063  247  569  134  449  226  830  161  442],\n",
            "class weights: {0: 0.009174311926605505, 1: 0.003816793893129771, 2: 0.045454545454545456, 3: 0.0009407337723424271, 4: 0.004048582995951417, 5: 0.0017574692442882249, 6: 0.007462686567164179, 7: 0.0022271714922048997, 8: 0.004424778761061947, 9: 0.0012048192771084338, 10: 0.006211180124223602, 11: 0.0022624434389140274}\n"
          ]
        }
      ]
    },
    {
      "cell_type": "code",
      "metadata": {
        "id": "d-d828iZPdl0"
      },
      "source": [
        "def pad_sequences(sequences, max_seq_len=0):\n",
        "    \"\"\"Pad sequences to max length in sequence.\"\"\"\n",
        "    max_seq_len = max(max_seq_len, max(len(sequence) for sequence in sequences))\n",
        "    padded_sequences = np.zeros((len(sequences), max_seq_len))\n",
        "    for i, sequence in enumerate(sequences):\n",
        "        padded_sequences[i][:len(sequence)] = sequence\n",
        "    return padded_sequences"
      ],
      "execution_count": null,
      "outputs": []
    },
    {
      "cell_type": "code",
      "metadata": {
        "id": "gOASToz4PfKg"
      },
      "source": [
        "class CNNTextDataset(torch.utils.data.Dataset):\n",
        "    def __init__(self, X, y, max_filter_size):\n",
        "        self.X = X\n",
        "        self.y = y\n",
        "        self.max_filter_size = max_filter_size\n",
        "\n",
        "    def __len__(self):\n",
        "        return len(self.y)\n",
        "\n",
        "    def __str__(self):\n",
        "        return f\"<Dataset(N={len(self)})>\"\n",
        "\n",
        "    def __getitem__(self, index):\n",
        "        X = self.X[index]\n",
        "        y = self.y[index]\n",
        "        return [X, y]\n",
        "\n",
        "    def collate_fn(self, batch):\n",
        "        \"\"\"Processing on a batch.\"\"\"\n",
        "        # Get inputs\n",
        "        batch = np.array(batch, dtype=object)\n",
        "        X = batch[:, 0]\n",
        "        y = np.stack(batch[:, 1], axis=0)\n",
        "\n",
        "        # Pad inputs\n",
        "        X = pad_sequences(sequences=X, max_seq_len=self.max_filter_size)\n",
        "\n",
        "        # Cast\n",
        "        X = torch.LongTensor(X.astype(np.int32))\n",
        "        y = torch.FloatTensor(y.astype(np.int32))\n",
        "\n",
        "        return X, y\n",
        "\n",
        "    def create_dataloader(self, batch_size, shuffle=False, drop_last=False):\n",
        "        return torch.utils.data.DataLoader(\n",
        "            dataset=self,\n",
        "            batch_size=batch_size,\n",
        "            collate_fn=self.collate_fn,\n",
        "            shuffle=shuffle,\n",
        "            drop_last=drop_last,\n",
        "            pin_memory=True)"
      ],
      "execution_count": null,
      "outputs": []
    },
    {
      "cell_type": "code",
      "metadata": {
        "colab": {
          "base_uri": "https://localhost:8080/"
        },
        "id": "g8XZcdCqPgn8",
        "outputId": "0b542adf-ed7a-4a3b-f68d-7177aaa7e239"
      },
      "source": [
        "# Create datasets\n",
        "filter_sizes = list(range(1, 11))\n",
        "train_dataset = CNNTextDataset(\n",
        "    X=X_train, y=y_train, max_filter_size=max(filter_sizes))\n",
        "val_dataset = CNNTextDataset(\n",
        "    X=X_val, y=y_val, max_filter_size=max(filter_sizes))\n",
        "test_dataset = CNNTextDataset(\n",
        "    X=X_test, y=y_test, max_filter_size=max(filter_sizes))\n",
        "print (\"Data splits:\\n\"\n",
        "    f\"  Train dataset:{train_dataset.__str__()}\\n\"\n",
        "    f\"  Val dataset: {val_dataset.__str__()}\\n\"\n",
        "    f\"  Test dataset: {test_dataset.__str__()}\\n\"\n",
        "    \"Sample point:\\n\"\n",
        "    f\"  X: {train_dataset[0][0]}\\n\"\n",
        "    f\"  y: {train_dataset[0][1]}\")"
      ],
      "execution_count": null,
      "outputs": [
        {
          "output_type": "stream",
          "name": "stdout",
          "text": [
            "Data splits:\n",
            "  Train dataset:<Dataset(N=2645)>\n",
            "  Val dataset: <Dataset(N=568)>\n",
            "  Test dataset: <Dataset(N=563)>\n",
            "Sample point:\n",
            "  X: [11  9 10  7  6 11  7  2 16  5  2 15  6 19  2 24  3  3 14  2  8  3 11  9\n",
            "  8 13  2 11  9  8  8  3  5 14  9 10 13  3 10 11  3]\n",
            "  y: [1 0 0 1 0 0 0 0 0 0 0 0]\n"
          ]
        }
      ]
    },
    {
      "cell_type": "code",
      "metadata": {
        "colab": {
          "base_uri": "https://localhost:8080/"
        },
        "id": "S7Mh8-McPiOm",
        "outputId": "8d72f28b-fba5-4835-b489-bc4f75c7ace4"
      },
      "source": [
        "# Create dataloaders\n",
        "batch_size = 128\n",
        "train_dataloader = train_dataset.create_dataloader(\n",
        "    batch_size=batch_size)\n",
        "val_dataloader = val_dataset.create_dataloader(\n",
        "    batch_size=batch_size)\n",
        "test_dataloader = test_dataset.create_dataloader(\n",
        "    batch_size=batch_size)\n",
        "batch_X, batch_y = next(iter(train_dataloader))\n",
        "print (\"Sample batch:\\n\"\n",
        "    f\"  X: {list(batch_X.size())}\\n\"\n",
        "    f\"  y: {list(batch_y.size())}\")"
      ],
      "execution_count": null,
      "outputs": [
        {
          "output_type": "stream",
          "name": "stdout",
          "text": [
            "Sample batch:\n",
            "  X: [128, 1118]\n",
            "  y: [128, 12]\n"
          ]
        }
      ]
    },
    {
      "cell_type": "code",
      "metadata": {
        "id": "58PQn3k5Pjy4"
      },
      "source": [
        "# Arguments\n",
        "embedding_dim = 504\n",
        "num_filters = 472\n",
        "hidden_dim = 387\n",
        "dropout_p = 0.6065003167861672"
      ],
      "execution_count": null,
      "outputs": []
    },
    {
      "cell_type": "code",
      "metadata": {
        "id": "4Q_gxeszPljS"
      },
      "source": [
        "class CNN(nn.Module):\n",
        "    def __init__(self, embedding_dim, vocab_size, num_filters, filter_sizes,\n",
        "                 hidden_dim, dropout_p, num_classes, padding_idx=0):\n",
        "        super(CNN, self).__init__()\n",
        "\n",
        "        # Initialize embeddings\n",
        "        self.embeddings = nn.Embedding(\n",
        "                embedding_dim=embedding_dim, num_embeddings=vocab_size,\n",
        "                padding_idx=padding_idx)\n",
        "\n",
        "        # Conv weights\n",
        "        self.filter_sizes = filter_sizes\n",
        "        self.conv = nn.ModuleList(\n",
        "            [nn.Conv1d(in_channels=embedding_dim,\n",
        "                       out_channels=num_filters,\n",
        "                       kernel_size=f) for f in filter_sizes])\n",
        "\n",
        "        # FC weights\n",
        "        self.dropout = nn.Dropout(dropout_p)\n",
        "        self.fc1 = nn.Linear(num_filters*len(filter_sizes), hidden_dim)\n",
        "        self.fc2 = nn.Linear(hidden_dim, num_classes)\n",
        "\n",
        "    def forward(self, inputs, channel_first=False):\n",
        "\n",
        "        # Embed\n",
        "        x_in, = inputs\n",
        "        x_in = self.embeddings(x_in)\n",
        "        if not channel_first:\n",
        "            x_in = x_in.transpose(1, 2)  # (N, channels, sequence length)\n",
        "\n",
        "        z = []\n",
        "        max_seq_len = x_in.shape[2]\n",
        "        for i, f in enumerate(self.filter_sizes):\n",
        "\n",
        "            # `SAME` padding\n",
        "            padding_left = int(\n",
        "                (self.conv[i].stride[0]*(max_seq_len-1) - max_seq_len + self.filter_sizes[i])/2)\n",
        "            padding_right = int(math.ceil(\n",
        "                (self.conv[i].stride[0]*(max_seq_len-1) - max_seq_len + self.filter_sizes[i])/2))\n",
        "\n",
        "            # Conv\n",
        "            _z = self.conv[i](F.pad(x_in, (padding_left, padding_right)))\n",
        "\n",
        "            # Pool\n",
        "            _z = F.max_pool1d(_z, _z.size(2)).squeeze(2)\n",
        "            z.append(_z)\n",
        "\n",
        "        # Concat outputs\n",
        "        z = torch.cat(z, 1)\n",
        "\n",
        "        # FC\n",
        "        z = self.fc1(z)\n",
        "        z = self.dropout(z)\n",
        "        z = self.fc2(z)\n",
        "\n",
        "        return z"
      ],
      "execution_count": null,
      "outputs": []
    },
    {
      "cell_type": "code",
      "metadata": {
        "colab": {
          "base_uri": "https://localhost:8080/"
        },
        "id": "54wUYC80Pm28",
        "outputId": "d92e52a4-42ac-4c60-b79b-e48de61fa5dd"
      },
      "source": [
        "# Initialize model\n",
        "model = CNN(\n",
        "    embedding_dim=embedding_dim, vocab_size=vocab_size,\n",
        "    num_filters=num_filters, filter_sizes=filter_sizes,\n",
        "    hidden_dim=hidden_dim, dropout_p=dropout_p,\n",
        "    num_classes=num_classes)\n",
        "model = model.to(device)\n",
        "print (model.named_parameters)"
      ],
      "execution_count": null,
      "outputs": [
        {
          "output_type": "stream",
          "name": "stdout",
          "text": [
            "<bound method Module.named_parameters of CNN(\n",
            "  (embeddings): Embedding(39, 504, padding_idx=0)\n",
            "  (conv): ModuleList(\n",
            "    (0): Conv1d(504, 472, kernel_size=(1,), stride=(1,))\n",
            "    (1): Conv1d(504, 472, kernel_size=(2,), stride=(1,))\n",
            "    (2): Conv1d(504, 472, kernel_size=(3,), stride=(1,))\n",
            "    (3): Conv1d(504, 472, kernel_size=(4,), stride=(1,))\n",
            "    (4): Conv1d(504, 472, kernel_size=(5,), stride=(1,))\n",
            "    (5): Conv1d(504, 472, kernel_size=(6,), stride=(1,))\n",
            "    (6): Conv1d(504, 472, kernel_size=(7,), stride=(1,))\n",
            "    (7): Conv1d(504, 472, kernel_size=(8,), stride=(1,))\n",
            "    (8): Conv1d(504, 472, kernel_size=(9,), stride=(1,))\n",
            "    (9): Conv1d(504, 472, kernel_size=(10,), stride=(1,))\n",
            "  )\n",
            "  (dropout): Dropout(p=0.6065003167861672, inplace=False)\n",
            "  (fc1): Linear(in_features=4720, out_features=387, bias=True)\n",
            "  (fc2): Linear(in_features=387, out_features=12, bias=True)\n",
            ")>\n"
          ]
        }
      ]
    },
    {
      "cell_type": "code",
      "metadata": {
        "id": "KukE0mfOPogG"
      },
      "source": [
        "# Arguments\n",
        "lr = 0.0002656053142937365\n",
        "num_epochs = 100\n",
        "patience = 10"
      ],
      "execution_count": null,
      "outputs": []
    },
    {
      "cell_type": "code",
      "metadata": {
        "id": "DXGNLAyAPqYf"
      },
      "source": [
        "# Define loss\n",
        "class_weights_tensor = torch.Tensor(np.array(list(class_weights.values())))\n",
        "loss_fn = nn.BCEWithLogitsLoss(weight=class_weights_tensor)"
      ],
      "execution_count": null,
      "outputs": []
    },
    {
      "cell_type": "code",
      "metadata": {
        "id": "rqSCUJ08Prqm"
      },
      "source": [
        "# Define optimizer & scheduler\n",
        "optimizer = torch.optim.Adam(model.parameters(), lr=lr)\n",
        "scheduler = torch.optim.lr_scheduler.ReduceLROnPlateau(\n",
        "    optimizer, mode=\"min\", factor=0.1, patience=5)"
      ],
      "execution_count": null,
      "outputs": []
    },
    {
      "cell_type": "code",
      "metadata": {
        "id": "2vTyNhQRPtYF"
      },
      "source": [
        "# Trainer module\n",
        "trainer = Trainer(\n",
        "    model=model, device=device, loss_fn=loss_fn, \n",
        "    optimizer=optimizer, scheduler=scheduler)"
      ],
      "execution_count": null,
      "outputs": []
    },
    {
      "cell_type": "code",
      "metadata": {
        "colab": {
          "base_uri": "https://localhost:8080/"
        },
        "id": "JrL6uj8WPu7K",
        "outputId": "8e826c97-3f92-4770-feb6-02b1e438e334"
      },
      "source": [
        "# Train\n",
        "best_model = trainer.train(\n",
        "    num_epochs, patience, train_dataloader, val_dataloader)"
      ],
      "execution_count": null,
      "outputs": [
        {
          "output_type": "stream",
          "name": "stderr",
          "text": [
            "/usr/local/lib/python3.7/dist-packages/torch/nn/functional.py:652: UserWarning: Named tensors and all their associated APIs are an experimental feature and subject to change. Please do not use them for anything important until they are released as stable. (Triggered internally at  /pytorch/c10/core/TensorImpl.h:1156.)\n",
            "  return torch.max_pool1d(input, kernel_size, stride, padding, dilation, ceil_mode)\n"
          ]
        },
        {
          "output_type": "stream",
          "name": "stdout",
          "text": [
            "Epoch: 1 | train_loss: 0.00410, val_loss: 0.00273, lr: 2.66E-04, _patience: 10\n",
            "Epoch: 2 | train_loss: 0.00181, val_loss: 0.00114, lr: 2.66E-04, _patience: 10\n",
            "Epoch: 3 | train_loss: 0.00109, val_loss: 0.00098, lr: 2.66E-04, _patience: 10\n",
            "Epoch: 4 | train_loss: 0.00089, val_loss: 0.00084, lr: 2.66E-04, _patience: 10\n",
            "Epoch: 5 | train_loss: 0.00076, val_loss: 0.00075, lr: 2.66E-04, _patience: 10\n",
            "Epoch: 6 | train_loss: 0.00068, val_loss: 0.00070, lr: 2.66E-04, _patience: 10\n",
            "Epoch: 7 | train_loss: 0.00061, val_loss: 0.00066, lr: 2.66E-04, _patience: 10\n",
            "Epoch: 8 | train_loss: 0.00056, val_loss: 0.00062, lr: 2.66E-04, _patience: 10\n",
            "Epoch: 9 | train_loss: 0.00050, val_loss: 0.00062, lr: 2.66E-04, _patience: 9\n",
            "Epoch: 10 | train_loss: 0.00046, val_loss: 0.00062, lr: 2.66E-04, _patience: 8\n",
            "Epoch: 11 | train_loss: 0.00042, val_loss: 0.00060, lr: 2.66E-04, _patience: 10\n",
            "Epoch: 12 | train_loss: 0.00038, val_loss: 0.00060, lr: 2.66E-04, _patience: 9\n",
            "Epoch: 13 | train_loss: 0.00037, val_loss: 0.00061, lr: 2.66E-04, _patience: 8\n",
            "Epoch: 14 | train_loss: 0.00036, val_loss: 0.00060, lr: 2.66E-04, _patience: 7\n",
            "Epoch: 15 | train_loss: 0.00034, val_loss: 0.00074, lr: 2.66E-04, _patience: 6\n",
            "Epoch: 16 | train_loss: 0.00034, val_loss: 0.00068, lr: 2.66E-04, _patience: 5\n",
            "Epoch: 17 | train_loss: 0.00035, val_loss: 0.00068, lr: 2.66E-04, _patience: 4\n",
            "Epoch: 18 | train_loss: 0.00031, val_loss: 0.00087, lr: 2.66E-05, _patience: 3\n",
            "Epoch: 19 | train_loss: 0.00027, val_loss: 0.00061, lr: 2.66E-05, _patience: 2\n",
            "Epoch: 20 | train_loss: 0.00021, val_loss: 0.00063, lr: 2.66E-05, _patience: 1\n",
            "Stopping early!\n"
          ]
        }
      ]
    },
    {
      "cell_type": "code",
      "metadata": {
        "id": "8I-tXJyzPxNd"
      },
      "source": [
        "from pathlib import Path\n",
        "from sklearn.metrics import precision_recall_curve"
      ],
      "execution_count": null,
      "outputs": []
    },
    {
      "cell_type": "code",
      "metadata": {
        "id": "-vn6G9xOP3AD"
      },
      "source": [
        "import matplotlib.pyplot as plt\n",
        "import seaborn as sns\n",
        "import warnings\n",
        "from wordcloud import WordCloud, STOPWORDS\n",
        "sns.set_theme()\n",
        "warnings.filterwarnings(\"ignore\")"
      ],
      "execution_count": null,
      "outputs": []
    },
    {
      "cell_type": "code",
      "metadata": {
        "colab": {
          "base_uri": "https://localhost:8080/",
          "height": 302
        },
        "id": "gpFGh0GnP7zR",
        "outputId": "aff962ab-3bf2-4170-ff0a-0c0e8a3daa86"
      },
      "source": [
        "# Threshold-PR curve\n",
        "train_loss, y_true, y_prob = trainer.eval_step(dataloader=train_dataloader)\n",
        "precisions, recalls, thresholds = precision_recall_curve(y_true.ravel(), y_prob.ravel())\n",
        "plt.plot(thresholds, precisions[:-1], \"r--\", label=\"Precision\")\n",
        "plt.plot(thresholds, recalls[:-1], \"b-\", label=\"Recall\")\n",
        "plt.ylabel(\"Performance\")\n",
        "plt.xlabel(\"Threshold\")\n",
        "plt.legend(loc=\"best\")"
      ],
      "execution_count": null,
      "outputs": [
        {
          "output_type": "execute_result",
          "data": {
            "text/plain": [
              "<matplotlib.legend.Legend at 0x7fc376347190>"
            ]
          },
          "metadata": {},
          "execution_count": 79
        },
        {
          "output_type": "display_data",
          "data": {
            "image/png": "[encoded data removed]",
            "text/plain": [
              "<Figure size 432x288 with 1 Axes>"
            ]
          },
          "metadata": {}
        }
      ]
    },
    {
      "cell_type": "code",
      "metadata": {
        "id": "wM0_ZhZyQGib"
      },
      "source": [
        "# Determining the best threshold\n",
        "def find_best_threshold(y_true, y_prob):\n",
        "    \"\"\"Find the best threshold for maximum F1.\"\"\"\n",
        "    precisions, recalls, thresholds = precision_recall_curve(y_true, y_prob)\n",
        "    f1s = (2 * precisions * recalls) / (precisions + recalls)\n",
        "    return thresholds[np.argmax(f1s)]"
      ],
      "execution_count": null,
      "outputs": []
    },
    {
      "cell_type": "code",
      "metadata": {
        "colab": {
          "base_uri": "https://localhost:8080/"
        },
        "id": "yteVv5u8QLbG",
        "outputId": "ad4a0138-8087-4f58-ae8b-fd2ee12f953c"
      },
      "source": [
        "# Best threshold for f1\n",
        "threshold = find_best_threshold(y_true.ravel(), y_prob.ravel())\n",
        "threshold"
      ],
      "execution_count": null,
      "outputs": [
        {
          "output_type": "execute_result",
          "data": {
            "text/plain": [
              "0.35685015"
            ]
          },
          "metadata": {},
          "execution_count": 81
        }
      ]
    },
    {
      "cell_type": "code",
      "metadata": {
        "id": "3L-N-IFjQNNP"
      },
      "source": [
        "# Determine predictions using threshold\n",
        "test_loss, y_true, y_prob = trainer.eval_step(dataloader=test_dataloader)\n",
        "y_pred = np.array([np.where(prob >= threshold, 1, 0) for prob in y_prob])"
      ],
      "execution_count": null,
      "outputs": []
    },
    {
      "cell_type": "code",
      "metadata": {
        "colab": {
          "base_uri": "https://localhost:8080/"
        },
        "id": "5RopxYJ4QO_a",
        "outputId": "9ebbe7bf-75a2-4173-c9d9-1f6ebb8c2cbf"
      },
      "source": [
        "# Evaluate\n",
        "metrics = precision_recall_fscore_support(y_test, y_pred, average=\"weighted\")\n",
        "performance = {\"precision\": metrics[0], \"recall\": metrics[1], \"f1\": metrics[2]}\n",
        "print (json.dumps(performance, indent=2))"
      ],
      "execution_count": null,
      "outputs": [
        {
          "output_type": "stream",
          "name": "stdout",
          "text": [
            "{\n",
            "  \"precision\": 0.723087173200577,\n",
            "  \"recall\": 0.6914344685242518,\n",
            "  \"f1\": 0.6994655315648542\n",
            "}\n"
          ]
        }
      ]
    },
    {
      "cell_type": "code",
      "metadata": {
        "id": "P6Po-3jdQSDx"
      },
      "source": [
        "# Save artifacts\n",
        "dir = Path(\"cnn\")\n",
        "dir.mkdir(parents=True, exist_ok=True)\n",
        "tokenizer.save(fp=Path(dir, \"tokenzier.json\"))\n",
        "label_encoder.save(fp=Path(dir, \"label_encoder.json\"))\n",
        "torch.save(best_model.state_dict(), Path(dir, \"model.pt\"))\n",
        "with open(Path(dir, \"performance.json\"), \"w\") as fp:\n",
        "    json.dump(performance, indent=2, sort_keys=False, fp=fp)"
      ],
      "execution_count": null,
      "outputs": []
    },
    {
      "cell_type": "code",
      "metadata": {
        "colab": {
          "base_uri": "https://localhost:8080/"
        },
        "id": "3shMv1IeQVam",
        "outputId": "9a061178-d36c-4152-c3e2-61a77609524a"
      },
      "source": [
        "# Load artifacts\n",
        "device = torch.device(\"cpu\")\n",
        "tokenizer = Tokenizer.load(fp=Path(dir, \"tokenzier.json\"))\n",
        "label_encoder = LabelEncoder.load(fp=Path(dir, \"label_encoder.json\"))\n",
        "model = CNN(\n",
        "    embedding_dim=embedding_dim, vocab_size=vocab_size,\n",
        "    num_filters=num_filters, filter_sizes=filter_sizes,\n",
        "    hidden_dim=hidden_dim, dropout_p=dropout_p,\n",
        "    num_classes=num_classes)\n",
        "model.load_state_dict(torch.load(Path(dir, \"model.pt\"), map_location=device))\n",
        "model.to(device)"
      ],
      "execution_count": null,
      "outputs": [
        {
          "output_type": "execute_result",
          "data": {
            "text/plain": [
              "CNN(\n",
              "  (embeddings): Embedding(39, 504, padding_idx=0)\n",
              "  (conv): ModuleList(\n",
              "    (0): Conv1d(504, 472, kernel_size=(1,), stride=(1,))\n",
              "    (1): Conv1d(504, 472, kernel_size=(2,), stride=(1,))\n",
              "    (2): Conv1d(504, 472, kernel_size=(3,), stride=(1,))\n",
              "    (3): Conv1d(504, 472, kernel_size=(4,), stride=(1,))\n",
              "    (4): Conv1d(504, 472, kernel_size=(5,), stride=(1,))\n",
              "    (5): Conv1d(504, 472, kernel_size=(6,), stride=(1,))\n",
              "    (6): Conv1d(504, 472, kernel_size=(7,), stride=(1,))\n",
              "    (7): Conv1d(504, 472, kernel_size=(8,), stride=(1,))\n",
              "    (8): Conv1d(504, 472, kernel_size=(9,), stride=(1,))\n",
              "    (9): Conv1d(504, 472, kernel_size=(10,), stride=(1,))\n",
              "  )\n",
              "  (dropout): Dropout(p=0.6065003167861672, inplace=False)\n",
              "  (fc1): Linear(in_features=4720, out_features=387, bias=True)\n",
              "  (fc2): Linear(in_features=387, out_features=12, bias=True)\n",
              ")"
            ]
          },
          "metadata": {},
          "execution_count": 85
        }
      ]
    },
    {
      "cell_type": "code",
      "metadata": {
        "id": "JNEQSkSJQWOo"
      },
      "source": [
        "# Trainer module\n",
        "trainer = Trainer(model=model, device=device)"
      ],
      "execution_count": null,
      "outputs": []
    },
    {
      "cell_type": "code",
      "metadata": {
        "id": "PwZduA8OQWIH"
      },
      "source": [
        "# Metrics\n",
        "metrics = {\"overall\": {}, \"class\": {}}"
      ],
      "execution_count": null,
      "outputs": []
    },
    {
      "cell_type": "code",
      "metadata": {
        "id": "ZbGbCnpXQWCH"
      },
      "source": [
        "# Data to evaluate\n",
        "device = torch.device(\"cuda\")\n",
        "loss_fn = nn.BCEWithLogitsLoss(weight=class_weights_tensor)\n",
        "trainer = Trainer(model=model.to(device), device=device, loss_fn=loss_fn)\n",
        "test_loss, y_true, y_prob = trainer.eval_step(dataloader=test_dataloader)\n",
        "y_pred = np.array([np.where(prob >= threshold, 1, 0) for prob in y_prob])"
      ],
      "execution_count": null,
      "outputs": []
    },
    {
      "cell_type": "code",
      "metadata": {
        "colab": {
          "base_uri": "https://localhost:8080/"
        },
        "id": "cr6wf3ktQmMR",
        "outputId": "7da1ba74-899b-45cd-b4a5-606ceb31674c"
      },
      "source": [
        "# Overall metrics\n",
        "overall_metrics = precision_recall_fscore_support(y_test, y_pred, average=\"weighted\")\n",
        "metrics[\"overall\"][\"precision\"] = overall_metrics[0]\n",
        "metrics[\"overall\"][\"recall\"] = overall_metrics[1]\n",
        "metrics[\"overall\"][\"f1\"] = overall_metrics[2]\n",
        "metrics[\"overall\"][\"num_samples\"] = np.float64(len(y_true))\n",
        "print (json.dumps(metrics[\"overall\"], indent=4))"
      ],
      "execution_count": null,
      "outputs": [
        {
          "output_type": "stream",
          "name": "stdout",
          "text": [
            "{\n",
            "    \"precision\": 0.723087173200577,\n",
            "    \"recall\": 0.6914344685242518,\n",
            "    \"f1\": 0.6994655315648542,\n",
            "    \"num_samples\": 563.0\n",
            "}\n"
          ]
        }
      ]
    },
    {
      "cell_type": "code",
      "metadata": {
        "id": "S_wqNNe5QmJU"
      },
      "source": [
        "# Per-class metrics\n",
        "class_metrics = precision_recall_fscore_support(y_test, y_pred, average=None)\n",
        "for i, _class in enumerate(label_encoder.classes):\n",
        "    metrics[\"class\"][_class] = {\n",
        "        \"precision\": class_metrics[0][i],\n",
        "        \"recall\": class_metrics[1][i],\n",
        "        \"f1\": class_metrics[2][i],\n",
        "        \"num_samples\": np.float64(class_metrics[3][i]),\n",
        "    }"
      ],
      "execution_count": null,
      "outputs": []
    },
    {
      "cell_type": "code",
      "metadata": {
        "colab": {
          "base_uri": "https://localhost:8080/"
        },
        "id": "x_RBismuQmGL",
        "outputId": "be06ca66-f8e4-4271-bbd6-9a23e898f099"
      },
      "source": [
        "# Metrics for a specific class\n",
        "tag = \"First Party Collection/Use\"\n",
        "print (json.dumps(metrics[\"class\"][tag], indent=2))"
      ],
      "execution_count": null,
      "outputs": [
        {
          "output_type": "stream",
          "name": "stdout",
          "text": [
            "{\n",
            "  \"precision\": 0.7195571955719557,\n",
            "  \"recall\": 0.8552631578947368,\n",
            "  \"f1\": 0.781563126252505,\n",
            "  \"num_samples\": 228.0\n",
            "}\n"
          ]
        }
      ]
    },
    {
      "cell_type": "code",
      "metadata": {
        "id": "UUI2V8qXQmCz"
      },
      "source": [
        "# Number of training samples per class\n",
        "num_samples = np.sum(y_train, axis=0).tolist()"
      ],
      "execution_count": null,
      "outputs": []
    },
    {
      "cell_type": "code",
      "metadata": {
        "id": "BWfh71PxQl_X"
      },
      "source": [
        "# Number of samples vs. performance (per class)\n",
        "f1s = [metrics[\"class\"][_class][\"f1\"]*100. for _class in label_encoder.classes]\n",
        "sorted_lists = sorted(zip(*[num_samples, f1s])) # sort\n",
        "num_samples, f1s = list(zip(*sorted_lists))"
      ],
      "execution_count": null,
      "outputs": []
    },
    {
      "cell_type": "code",
      "metadata": {
        "colab": {
          "base_uri": "https://localhost:8080/",
          "height": 299
        },
        "id": "glKOPPEGQl77",
        "outputId": "d59ffb16-2fe6-4468-e599-3a0c3150aa1c"
      },
      "source": [
        "# Plot\n",
        "n = 12 # num. top classes to label\n",
        "fig, ax = plt.subplots()\n",
        "ax.set_xlabel(\"# of training samples\")\n",
        "ax.set_ylabel(\"test performance (f1)\")\n",
        "fig.set_size_inches(25, 5)\n",
        "ax.plot(num_samples, f1s, \"bo-\")\n",
        "for x, y, label in zip(num_samples[-n:], f1s[-n:], label_encoder.classes[-n:]):\n",
        "    ax.annotate(label, xy=(x,y), xytext=(-5, 5), ha=\"right\", textcoords=\"offset points\")"
      ],
      "execution_count": null,
      "outputs": [
        {
          "output_type": "display_data",
          "data": {
            "image/png": "[encoded data removed]",
            "text/plain": [
              "<Figure size 1800x360 with 1 Axes>"
            ]
          },
          "metadata": {}
        }
      ]
    },
    {
      "cell_type": "code",
      "metadata": {
        "id": "0-lsy3XmQl4A"
      },
      "source": [
        "# TP, FP, FN samples\n",
        "index = label_encoder.class_to_index[tag]\n",
        "tp, fp, fn = [], [], []\n",
        "for i in range(len(y_test)):\n",
        "    true = y_test[i][index]\n",
        "    pred = y_pred[i][index]\n",
        "    if true and pred:\n",
        "        tp.append(i)\n",
        "    elif not true and pred:\n",
        "        fp.append(i)\n",
        "    elif true and not pred:\n",
        "        fn.append(i)"
      ],
      "execution_count": null,
      "outputs": []
    },
    {
      "cell_type": "code",
      "metadata": {
        "colab": {
          "base_uri": "https://localhost:8080/"
        },
        "id": "ujnsQZ04Q-sw",
        "outputId": "54880db3-6623-4a81-f222-9575df42248d"
      },
      "source": [
        "print (tp)\n",
        "print (fp)\n",
        "print (fn)"
      ],
      "execution_count": null,
      "outputs": [
        {
          "output_type": "stream",
          "name": "stdout",
          "text": [
            "[0, 2, 6, 7, 13, 17, 18, 19, 28, 29, 34, 36, 37, 41, 42, 43, 44, 45, 46, 48, 49, 53, 55, 56, 61, 68, 69, 73, 77, 82, 86, 99, 100, 101, 109, 111, 115, 116, 117, 119, 126, 127, 128, 130, 136, 139, 144, 146, 147, 148, 149, 150, 151, 153, 166, 167, 171, 172, 174, 179, 180, 186, 188, 193, 195, 200, 205, 206, 207, 209, 215, 217, 224, 225, 227, 228, 230, 235, 236, 242, 243, 244, 245, 262, 267, 272, 276, 277, 279, 280, 284, 285, 286, 287, 288, 292, 293, 294, 304, 305, 307, 308, 309, 310, 312, 318, 319, 320, 327, 328, 332, 335, 336, 337, 338, 346, 347, 349, 356, 357, 358, 367, 369, 372, 377, 378, 379, 380, 381, 389, 397, 398, 400, 402, 408, 409, 411, 417, 418, 419, 425, 426, 427, 428, 434, 438, 439, 443, 444, 446, 448, 452, 453, 454, 463, 468, 469, 472, 474, 476, 478, 483, 484, 487, 494, 498, 499, 503, 504, 507, 508, 513, 520, 521, 523, 525, 532, 533, 535, 536, 538, 539, 541, 543, 544, 545, 546, 548, 549, 552, 553, 554, 555, 557, 558]\n",
            "[9, 15, 23, 26, 33, 35, 40, 51, 60, 62, 63, 66, 67, 70, 72, 79, 81, 102, 106, 129, 131, 133, 134, 142, 143, 152, 156, 159, 161, 165, 173, 178, 187, 194, 204, 219, 231, 234, 248, 261, 263, 269, 278, 282, 289, 300, 306, 317, 324, 333, 348, 360, 368, 371, 374, 384, 386, 390, 394, 395, 405, 412, 422, 440, 445, 447, 449, 456, 459, 467, 470, 475, 531, 537, 542, 562]\n",
            "[8, 59, 75, 88, 110, 154, 208, 213, 251, 253, 257, 271, 290, 315, 323, 345, 362, 375, 399, 482, 486, 490, 491, 509, 510, 518, 522, 524, 526, 534, 547, 551, 559]\n"
          ]
        }
      ]
    },
    {
      "cell_type": "code",
      "metadata": {
        "colab": {
          "base_uri": "https://localhost:8080/"
        },
        "id": "IBpxH4UJRBi2",
        "outputId": "122c82a8-5143-4554-ae30-1119f2235e3e"
      },
      "source": [
        "index = tp[0]\n",
        "print (X_test_raw[index])\n",
        "print (f\"true: {label_encoder.decode([y_test[index]])[0]}\")\n",
        "print (f\"pred: {label_encoder.decode([y_pred[index]])[0]}\\n\")"
      ],
      "execution_count": null,
      "outputs": [
        {
          "output_type": "stream",
          "name": "stdout",
          "text": [
            "information sci news com may collect online sci news com may collect process following data information provide filling forms site including names e mail website addresses may also ask information purposes example report problem site\n",
            "true: ['First Party Collection/Use']\n",
            "pred: ['First Party Collection/Use']\n",
            "\n"
          ]
        }
      ]
    },
    {
      "cell_type": "code",
      "metadata": {
        "id": "bW9tXCwlRBf_"
      },
      "source": [
        "# Sorted tags\n",
        "sorted_tags_by_f1 = OrderedDict(sorted(\n",
        "        metrics[\"class\"].items(), key=lambda tag: tag[1][\"f1\"], reverse=True))"
      ],
      "execution_count": null,
      "outputs": []
    },
    {
      "cell_type": "code",
      "metadata": {
        "colab": {
          "base_uri": "https://localhost:8080/",
          "height": 865,
          "referenced_widgets": [
            "fc152540571c45b798404dbef28995cf",
            "4ab95c37185a40e28c04a6237a8c0fc3",
            "3023f18232ed4782a93df58a3b21a60b",
            "87fa825fd3f94c33a28da6f8f93522bf",
            "251793285e414b2aa482ccfeee9c6ffb",
            "747be66413524fbbaea0b3511f9151ac",
            "87dcc8bddd3742649ef1f9fcfbd943a1"
          ]
        },
        "id": "6p0CawtNRBdO",
        "outputId": "f4437bda-2f0c-40af-980e-2bc871987284"
      },
      "source": [
        "@widgets.interact(tag=list(sorted_tags_by_f1.keys()))\n",
        "def display_tag_analysis(tag=\"First Party Collection/Use\"):\n",
        "    # Performance\n",
        "    print (json.dumps(metrics[\"class\"][tag], indent=2))\n",
        "\n",
        "    # TP, FP, FN samples\n",
        "    index = label_encoder.class_to_index[tag]\n",
        "    tp, fp, fn = [], [], []\n",
        "    for i in range(len(y_test)):\n",
        "        true = y_test[i][index]\n",
        "        pred = y_pred[i][index]\n",
        "        if true and pred:\n",
        "            tp.append(i)\n",
        "        elif not true and pred:\n",
        "            fp.append(i)\n",
        "        elif true and not pred:\n",
        "            fn.append(i)\n",
        "\n",
        "    # Samples\n",
        "    num_samples = 3\n",
        "    cm = [(tp, \"True positives\"), (fp, \"False positives\"), (fn, \"False negatives\")]\n",
        "    for item in cm:\n",
        "        if len(item[0]):\n",
        "            print (f\"\\n=== {item[1]} ===\")\n",
        "            for i in item[0][:num_samples]:\n",
        "                print (f\"  {X_test_raw[i]}\")\n",
        "                print (f\"    true: {label_encoder.decode([y_test[i]])[0]}\")\n",
        "                print (f\"    pred: {label_encoder.decode([y_pred[i]])[0]}\\n\")"
      ],
      "execution_count": null,
      "outputs": [
        {
          "output_type": "display_data",
          "data": {
            "application/vnd.jupyter.widget-view+json": {
              "model_id": "fc152540571c45b798404dbef28995cf",
              "version_minor": 0,
              "version_major": 2
            },
            "text/plain": [
              "interactive(children=(Dropdown(description='tag', index=1, options=('International and Specific Audiences', 'F…"
            ]
          },
          "metadata": {}
        }
      ]
    },
    {
      "cell_type": "code",
      "metadata": {
        "id": "1zKhDV1lRBaU"
      },
      "source": [
        "from snorkel.slicing import PandasSFApplier\n",
        "from snorkel.slicing import slice_dataframe\n",
        "from snorkel.slicing import slicing_function"
      ],
      "execution_count": null,
      "outputs": []
    },
    {
      "cell_type": "code",
      "metadata": {
        "id": "3c8l6Id1RBXR"
      },
      "source": [
        "@slicing_function()\n",
        "def pytorch_transformers(x):\n",
        "    \"\"\"Projects with the `pytorch` and `transformers` tags.\"\"\"\n",
        "    return all(tag in x.category for tag in [\"First Party Collection/Use\", \"Third Party Sharing/Collection\"])"
      ],
      "execution_count": null,
      "outputs": []
    },
    {
      "cell_type": "code",
      "metadata": {
        "id": "AMx0Y9ASRBUD"
      },
      "source": [
        "@slicing_function()\n",
        "def short_text(x):\n",
        "    \"\"\"Projects with short titles and descriptions.\"\"\"\n",
        "    return len(x.segment_text.split()) < 7  # less than 7 words"
      ],
      "execution_count": null,
      "outputs": []
    },
    {
      "cell_type": "code",
      "metadata": {
        "colab": {
          "base_uri": "https://localhost:8080/",
          "height": 221
        },
        "id": "MUAB-YnGRMuF",
        "outputId": "14dca799-2d53-4f2c-9451-61c8cff5c61a"
      },
      "source": [
        "short_text_df = slice_dataframe(test_df, short_text)\n",
        "short_text_df[[\"segment_text\", \"category\"]].head()"
      ],
      "execution_count": null,
      "outputs": [
        {
          "output_type": "stream",
          "name": "stderr",
          "text": [
            "100%|██████████| 563/563 [00:00<00:00, 24909.74it/s]\n"
          ]
        },
        {
          "output_type": "execute_result",
          "data": {
            "text/html": [
              "<div>\n",
              "<style scoped>\n",
              "    .dataframe tbody tr th:only-of-type {\n",
              "        vertical-align: middle;\n",
              "    }\n",
              "\n",
              "    .dataframe tbody tr th {\n",
              "        vertical-align: top;\n",
              "    }\n",
              "\n",
              "    .dataframe thead th {\n",
              "        text-align: right;\n",
              "    }\n",
              "</style>\n",
              "<table border=\"1\" class=\"dataframe\">\n",
              "  <thead>\n",
              "    <tr style=\"text-align: right;\">\n",
              "      <th></th>\n",
              "      <th>segment_text</th>\n",
              "      <th>category</th>\n",
              "    </tr>\n",
              "  </thead>\n",
              "  <tbody>\n",
              "    <tr>\n",
              "      <th>5</th>\n",
              "      <td>redorbit inc privacy statement</td>\n",
              "      <td>[Introductory/Generic]</td>\n",
              "    </tr>\n",
              "    <tr>\n",
              "      <th>14</th>\n",
              "      <td>third party cookies</td>\n",
              "      <td>[Introductory/Generic]</td>\n",
              "    </tr>\n",
              "    <tr>\n",
              "      <th>112</th>\n",
              "      <td>privacy policy</td>\n",
              "      <td>[Introductory/Generic]</td>\n",
              "    </tr>\n",
              "    <tr>\n",
              "      <th>118</th>\n",
              "      <td>privacy policy</td>\n",
              "      <td>[Introductory/Generic]</td>\n",
              "    </tr>\n",
              "    <tr>\n",
              "      <th>124</th>\n",
              "      <td>document last revised 09292011</td>\n",
              "      <td>[Policy Change]</td>\n",
              "    </tr>\n",
              "  </tbody>\n",
              "</table>\n",
              "</div>"
            ],
            "text/plain": [
              "                       segment_text                category\n",
              "5    redorbit inc privacy statement  [Introductory/Generic]\n",
              "14              third party cookies  [Introductory/Generic]\n",
              "112                  privacy policy  [Introductory/Generic]\n",
              "118                  privacy policy  [Introductory/Generic]\n",
              "124  document last revised 09292011         [Policy Change]"
            ]
          },
          "metadata": {},
          "execution_count": 103
        }
      ]
    },
    {
      "cell_type": "code",
      "metadata": {
        "colab": {
          "base_uri": "https://localhost:8080/"
        },
        "id": "EZroZ7C9RMrT",
        "outputId": "fdcb5d34-02d9-472e-e8d0-a93ce58d43fa"
      },
      "source": [
        "# Slices\n",
        "slicing_functions = [pytorch_transformers, short_text]\n",
        "applier = PandasSFApplier(slicing_functions)\n",
        "slices = applier.apply(test_df)\n",
        "slices"
      ],
      "execution_count": null,
      "outputs": [
        {
          "output_type": "stream",
          "name": "stderr",
          "text": [
            "100%|██████████| 563/563 [00:00<00:00, 20157.35it/s]\n"
          ]
        },
        {
          "output_type": "execute_result",
          "data": {
            "text/plain": [
              "rec.array([(0, 0), (0, 0), (0, 0), (0, 0), (0, 0), (0, 1), (0, 0), (0, 0),\n",
              "           (0, 0), (0, 0), (0, 0), (0, 0), (0, 0), (0, 0), (0, 1), (0, 0),\n",
              "           (0, 0), (0, 0), (0, 0), (0, 0), (0, 0), (0, 0), (0, 0), (0, 0),\n",
              "           (0, 0), (0, 0), (0, 0), (0, 0), (0, 0), (1, 0), (0, 0), (0, 0),\n",
              "           (0, 0), (0, 0), (0, 0), (0, 0), (0, 0), (1, 0), (0, 0), (0, 0),\n",
              "           (0, 0), (1, 0), (1, 0), (0, 0), (0, 0), (0, 0), (0, 0), (0, 0),\n",
              "           (0, 0), (0, 0), (0, 0), (0, 0), (0, 0), (1, 0), (0, 0), (0, 0),\n",
              "           (0, 0), (0, 0), (0, 0), (1, 0), (0, 0), (0, 0), (0, 0), (0, 0),\n",
              "           (0, 0), (0, 0), (0, 0), (0, 0), (0, 0), (1, 0), (0, 0), (0, 0),\n",
              "           (0, 0), (1, 0), (0, 0), (0, 0), (0, 0), (0, 0), (0, 0), (0, 0),\n",
              "           (0, 0), (0, 0), (0, 0), (0, 0), (0, 0), (0, 0), (1, 0), (0, 0),\n",
              "           (0, 0), (0, 0), (0, 0), (0, 0), (0, 0), (0, 0), (0, 0), (0, 0),\n",
              "           (0, 0), (0, 0), (0, 0), (0, 0), (1, 0), (1, 0), (0, 0), (0, 0),\n",
              "           (0, 0), (0, 0), (0, 0), (0, 0), (0, 0), (1, 0), (0, 0), (0, 0),\n",
              "           (0, 1), (0, 0), (0, 0), (0, 0), (0, 0), (0, 0), (0, 1), (0, 0),\n",
              "           (0, 0), (0, 0), (0, 0), (0, 0), (0, 1), (0, 0), (0, 0), (1, 0),\n",
              "           (0, 0), (0, 0), (0, 0), (0, 0), (0, 0), (0, 0), (0, 0), (0, 0),\n",
              "           (0, 0), (0, 0), (0, 1), (0, 0), (0, 0), (0, 1), (0, 0), (0, 0),\n",
              "           (0, 0), (0, 1), (0, 0), (0, 1), (0, 0), (0, 0), (1, 0), (0, 0),\n",
              "           (0, 0), (0, 0), (0, 0), (0, 0), (0, 0), (0, 0), (0, 0), (0, 0),\n",
              "           (0, 0), (0, 1), (0, 1), (0, 0), (0, 0), (0, 0), (0, 0), (0, 0),\n",
              "           (0, 0), (0, 0), (0, 0), (0, 0), (0, 0), (0, 0), (1, 0), (0, 0),\n",
              "           (0, 0), (0, 0), (0, 0), (0, 0), (0, 0), (0, 0), (0, 0), (0, 1),\n",
              "           (0, 0), (0, 0), (1, 0), (0, 0), (0, 0), (0, 0), (0, 0), (0, 0),\n",
              "           (0, 0), (0, 0), (0, 0), (0, 0), (0, 0), (0, 0), (0, 0), (0, 0),\n",
              "           (0, 0), (0, 0), (0, 0), (0, 0), (0, 0), (0, 0), (0, 0), (0, 0),\n",
              "           (1, 0), (1, 0), (0, 0), (0, 0), (0, 0), (0, 0), (0, 0), (0, 0),\n",
              "           (0, 0), (0, 0), (0, 0), (0, 0), (0, 0), (0, 0), (0, 0), (0, 0),\n",
              "           (0, 0), (0, 0), (0, 0), (0, 0), (0, 0), (0, 0), (0, 0), (0, 0),\n",
              "           (0, 0), (0, 0), (0, 0), (1, 0), (1, 0), (0, 0), (0, 0), (0, 0),\n",
              "           (0, 0), (0, 0), (0, 0), (0, 0), (0, 0), (0, 0), (0, 0), (0, 0),\n",
              "           (0, 0), (0, 0), (0, 0), (0, 0), (0, 0), (0, 0), (0, 0), (0, 0),\n",
              "           (0, 0), (0, 0), (0, 0), (0, 0), (0, 0), (0, 0), (0, 0), (0, 0),\n",
              "           (0, 0), (0, 0), (0, 0), (1, 0), (0, 0), (0, 0), (0, 0), (1, 0),\n",
              "           (0, 0), (0, 0), (0, 0), (0, 1), (1, 0), (0, 0), (0, 0), (1, 0),\n",
              "           (1, 0), (0, 0), (0, 0), (0, 0), (0, 0), (0, 0), (0, 0), (1, 0),\n",
              "           (0, 0), (0, 0), (0, 0), (0, 0), (0, 0), (1, 0), (1, 0), (0, 0),\n",
              "           (0, 0), (0, 0), (0, 0), (0, 0), (0, 0), (0, 0), (0, 0), (0, 0),\n",
              "           (1, 0), (1, 0), (0, 0), (0, 0), (0, 0), (0, 0), (0, 0), (0, 0),\n",
              "           (1, 0), (0, 0), (0, 0), (0, 0), (0, 0), (0, 0), (1, 0), (0, 0),\n",
              "           (0, 0), (0, 0), (0, 0), (0, 0), (0, 0), (0, 0), (0, 0), (1, 0),\n",
              "           (1, 0), (0, 0), (0, 0), (0, 0), (1, 0), (0, 0), (0, 1), (1, 0),\n",
              "           (0, 0), (1, 0), (1, 0), (0, 0), (0, 0), (0, 0), (0, 0), (0, 0),\n",
              "           (0, 0), (0, 0), (1, 0), (0, 0), (0, 0), (1, 0), (0, 0), (0, 0),\n",
              "           (0, 0), (0, 0), (0, 0), (0, 1), (1, 0), (0, 0), (1, 0), (0, 0),\n",
              "           (0, 0), (0, 0), (0, 0), (0, 0), (0, 0), (0, 0), (0, 0), (0, 0),\n",
              "           (0, 0), (1, 0), (0, 0), (0, 0), (1, 0), (0, 0), (0, 0), (1, 0),\n",
              "           (0, 0), (0, 0), (0, 0), (1, 0), (1, 1), (1, 0), (0, 0), (0, 0),\n",
              "           (0, 0), (0, 0), (0, 0), (0, 0), (0, 0), (0, 0), (0, 0), (0, 0),\n",
              "           (0, 0), (0, 0), (0, 0), (0, 0), (0, 0), (0, 0), (0, 0), (1, 0),\n",
              "           (1, 0), (0, 0), (0, 0), (0, 0), (0, 0), (0, 0), (0, 0), (0, 0),\n",
              "           (0, 0), (0, 0), (0, 0), (0, 0), (0, 0), (0, 0), (0, 0), (0, 0),\n",
              "           (0, 0), (0, 0), (0, 0), (1, 0), (0, 0), (0, 0), (0, 0), (0, 0),\n",
              "           (0, 0), (0, 0), (0, 0), (0, 0), (0, 0), (0, 0), (0, 0), (0, 0),\n",
              "           (0, 0), (0, 0), (1, 0), (0, 0), (0, 0), (0, 0), (0, 0), (0, 0),\n",
              "           (0, 0), (0, 0), (0, 0), (1, 0), (0, 0), (0, 0), (1, 0), (0, 0),\n",
              "           (0, 0), (0, 0), (0, 0), (0, 0), (0, 0), (0, 0), (1, 0), (0, 0),\n",
              "           (0, 0), (0, 0), (0, 0), (0, 0), (0, 0), (0, 0), (0, 0), (0, 0),\n",
              "           (0, 0), (0, 0), (0, 0), (0, 0), (1, 0), (1, 0), (0, 0), (0, 0),\n",
              "           (1, 0), (0, 0), (0, 0), (0, 0), (1, 0), (0, 0), (1, 0), (0, 0),\n",
              "           (0, 0), (0, 0), (1, 0), (0, 0), (0, 0), (0, 0), (1, 0), (1, 0),\n",
              "           (0, 0), (0, 0), (0, 0), (0, 0), (0, 0), (0, 0), (0, 0), (0, 0),\n",
              "           (0, 0), (0, 0), (0, 0), (1, 0), (0, 0), (0, 0), (0, 0), (0, 0),\n",
              "           (1, 0), (0, 0), (0, 0), (1, 0), (0, 0), (0, 0), (0, 0), (0, 0),\n",
              "           (0, 0), (0, 0), (0, 0), (0, 0), (0, 0), (0, 0), (0, 0), (0, 0),\n",
              "           (0, 0), (0, 0), (1, 0), (0, 0), (0, 0), (0, 0), (0, 0), (0, 0),\n",
              "           (0, 0), (0, 0), (0, 0), (0, 0), (0, 0), (1, 0), (0, 0), (0, 0),\n",
              "           (0, 0), (0, 0), (0, 0), (0, 0), (0, 0), (0, 0), (0, 0), (1, 0),\n",
              "           (0, 0), (0, 0), (0, 0), (0, 0), (0, 0), (1, 0), (0, 0), (0, 0),\n",
              "           (0, 0), (0, 0), (0, 0), (0, 0), (0, 0), (0, 0), (0, 0), (0, 0),\n",
              "           (0, 0), (0, 0), (0, 0)],\n",
              "          dtype=[('pytorch_transformers', '<i8'), ('short_text', '<i8')])"
            ]
          },
          "metadata": {},
          "execution_count": 104
        }
      ]
    },
    {
      "cell_type": "code",
      "metadata": {
        "id": "aoPxL6ZeRMpl"
      },
      "source": [
        "# Score slices\n",
        "metrics[\"slices\"] = {}\n",
        "for slice_name in slices.dtype.names:\n",
        "    mask = slices[slice_name].astype(bool)\n",
        "    if sum(mask):  \n",
        "        slice_metrics = precision_recall_fscore_support(\n",
        "            y_test[mask], y_pred[mask], average=\"micro\"\n",
        "        )\n",
        "        metrics[\"slices\"][slice_name] = {}\n",
        "        metrics[\"slices\"][slice_name][\"precision\"] = slice_metrics[0]\n",
        "        metrics[\"slices\"][slice_name][\"recall\"] = slice_metrics[1]\n",
        "        metrics[\"slices\"][slice_name][\"f1\"] = slice_metrics[2]\n",
        "        metrics[\"slices\"][slice_name][\"num_samples\"] = len(y_true[mask])"
      ],
      "execution_count": null,
      "outputs": []
    },
    {
      "cell_type": "code",
      "metadata": {
        "colab": {
          "base_uri": "https://localhost:8080/"
        },
        "id": "edn-xVovRMk7",
        "outputId": "d2b6616c-3c4f-4f8d-e0f2-b6d00211caa2"
      },
      "source": [
        "print(json.dumps(metrics[\"slices\"], indent=2))"
      ],
      "execution_count": null,
      "outputs": [
        {
          "output_type": "stream",
          "name": "stdout",
          "text": [
            "{\n",
            "  \"pytorch_transformers\": {\n",
            "    \"precision\": 0.8602941176470589,\n",
            "    \"recall\": 0.6842105263157895,\n",
            "    \"f1\": 0.762214983713355,\n",
            "    \"num_samples\": 70\n",
            "  },\n",
            "  \"short_text\": {\n",
            "    \"precision\": 0.75,\n",
            "    \"recall\": 0.8571428571428571,\n",
            "    \"f1\": 0.7999999999999999,\n",
            "    \"num_samples\": 16\n",
            "  }\n",
            "}\n"
          ]
        }
      ]
    },
    {
      "cell_type": "code",
      "metadata": {
        "id": "9PvYyryqRMhv"
      },
      "source": [
        ""
      ],
      "execution_count": null,
      "outputs": []
    }
  ]
}