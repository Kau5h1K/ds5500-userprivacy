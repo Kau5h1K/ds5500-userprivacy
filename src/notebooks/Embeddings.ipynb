{
 "cells": [
  {
   "cell_type": "code",
   "execution_count": 54,
   "id": "170e3cf3",
   "metadata": {},
   "outputs": [],
   "source": [
    "import sys\n",
    "sys.path.insert(0, \"/Users/kaushik/MyStuff/Workspace/NEU/DS5500/Project/DS5500_CapstoneProject\")"
   ]
  },
  {
   "cell_type": "code",
   "execution_count": 55,
   "id": "57594055",
   "metadata": {},
   "outputs": [],
   "source": [
    "from src.config import cfg\n",
    "from src.data import prepOPPCorpus\n",
    "from src.data import preprocess\n",
    "\n",
    "from src.models import CNN\n",
    "import src.models\n",
    "\n",
    "from src.main import main\n",
    "from src.main import driver\n",
    "\n",
    "from src.utils import gen\n",
    "from src.utils import metrics\n",
    "\n",
    "import itertools\n",
    "import numpy as np\n",
    "import pandas as pd"
   ]
  },
  {
   "cell_type": "markdown",
   "id": "3fd3471b",
   "metadata": {},
   "source": [
    "# Process"
   ]
  },
  {
   "cell_type": "code",
   "execution_count": 56,
   "id": "a9ba3757",
   "metadata": {},
   "outputs": [],
   "source": [
    "gen.setSeeds(seed=2021)"
   ]
  },
  {
   "cell_type": "code",
   "execution_count": 57,
   "id": "13d4e21e",
   "metadata": {},
   "outputs": [
    {
     "name": "stdout",
     "output_type": "stream",
     "text": [
      "🟢 Dataset loaded!\n"
     ]
    },
    {
     "data": {
      "text/html": [
       "<div>\n",
       "<style scoped>\n",
       "    .dataframe tbody tr th:only-of-type {\n",
       "        vertical-align: middle;\n",
       "    }\n",
       "\n",
       "    .dataframe tbody tr th {\n",
       "        vertical-align: top;\n",
       "    }\n",
       "\n",
       "    .dataframe thead th {\n",
       "        text-align: right;\n",
       "    }\n",
       "</style>\n",
       "<table border=\"1\" class=\"dataframe\">\n",
       "  <thead>\n",
       "    <tr style=\"text-align: right;\">\n",
       "      <th></th>\n",
       "      <th>segment_text</th>\n",
       "      <th>category</th>\n",
       "    </tr>\n",
       "  </thead>\n",
       "  <tbody>\n",
       "    <tr>\n",
       "      <th>0</th>\n",
       "      <td>Privacy Policy   Sci-News.com is committed to ...</td>\n",
       "      <td>[Policy Change, Introductory/Generic]</td>\n",
       "    </tr>\n",
       "    <tr>\n",
       "      <th>1</th>\n",
       "      <td>Information that Sci-News.com May Collect Onli...</td>\n",
       "      <td>[First Party Collection/Use]</td>\n",
       "    </tr>\n",
       "    <tr>\n",
       "      <th>2</th>\n",
       "      <td>- if you contact us, we may keep a record of t...</td>\n",
       "      <td>[First Party Collection/Use, Data Retention]</td>\n",
       "    </tr>\n",
       "    <tr>\n",
       "      <th>3</th>\n",
       "      <td>- details of your visits to our site including...</td>\n",
       "      <td>[First Party Collection/Use]</td>\n",
       "    </tr>\n",
       "    <tr>\n",
       "      <th>4</th>\n",
       "      <td>Sci-News.com does not knowingly collect or sol...</td>\n",
       "      <td>[International and Specific Audiences, Privacy...</td>\n",
       "    </tr>\n",
       "    <tr>\n",
       "      <th>...</th>\n",
       "      <td>...</td>\n",
       "      <td>...</td>\n",
       "    </tr>\n",
       "    <tr>\n",
       "      <th>3771</th>\n",
       "      <td>Information Collected at Mohegan Sun   In addi...</td>\n",
       "      <td>[First Party Collection/Use, Third Party Shari...</td>\n",
       "    </tr>\n",
       "    <tr>\n",
       "      <th>3772</th>\n",
       "      <td>Management of User Information   Certain infor...</td>\n",
       "      <td>[User Access, Edit and Deletion, Privacy conta...</td>\n",
       "    </tr>\n",
       "    <tr>\n",
       "      <th>3773</th>\n",
       "      <td>Special Note About Children   This site is not...</td>\n",
       "      <td>[First Party Collection/Use, International and...</td>\n",
       "    </tr>\n",
       "    <tr>\n",
       "      <th>3774</th>\n",
       "      <td>If You Have a Question   If you have a questio...</td>\n",
       "      <td>[Privacy contact information]</td>\n",
       "    </tr>\n",
       "    <tr>\n",
       "      <th>3775</th>\n",
       "      <td>You may also contact us by mail using the addr...</td>\n",
       "      <td>[Privacy contact information]</td>\n",
       "    </tr>\n",
       "  </tbody>\n",
       "</table>\n",
       "<p>3776 rows × 2 columns</p>\n",
       "</div>"
      ],
      "text/plain": [
       "                                           segment_text  \\\n",
       "0     Privacy Policy   Sci-News.com is committed to ...   \n",
       "1     Information that Sci-News.com May Collect Onli...   \n",
       "2     - if you contact us, we may keep a record of t...   \n",
       "3     - details of your visits to our site including...   \n",
       "4     Sci-News.com does not knowingly collect or sol...   \n",
       "...                                                 ...   \n",
       "3771  Information Collected at Mohegan Sun   In addi...   \n",
       "3772  Management of User Information   Certain infor...   \n",
       "3773  Special Note About Children   This site is not...   \n",
       "3774  If You Have a Question   If you have a questio...   \n",
       "3775  You may also contact us by mail using the addr...   \n",
       "\n",
       "                                               category  \n",
       "0                 [Policy Change, Introductory/Generic]  \n",
       "1                          [First Party Collection/Use]  \n",
       "2          [First Party Collection/Use, Data Retention]  \n",
       "3                          [First Party Collection/Use]  \n",
       "4     [International and Specific Audiences, Privacy...  \n",
       "...                                                 ...  \n",
       "3771  [First Party Collection/Use, Third Party Shari...  \n",
       "3772  [User Access, Edit and Deletion, Privacy conta...  \n",
       "3773  [First Party Collection/Use, International and...  \n",
       "3774                      [Privacy contact information]  \n",
       "3775                      [Privacy contact information]  \n",
       "\n",
       "[3776 rows x 2 columns]"
      ]
     },
     "execution_count": 57,
     "metadata": {},
     "output_type": "execute_result"
    }
   ],
   "source": [
    "df = gen.loadDataset(cfg)\n",
    "df"
   ]
  },
  {
   "cell_type": "code",
   "execution_count": 58,
   "id": "9418da83",
   "metadata": {},
   "outputs": [
    {
     "data": {
      "text/plain": [
       "3776"
      ]
     },
     "execution_count": 58,
     "metadata": {},
     "output_type": "execute_result"
    }
   ],
   "source": [
    "num_samples = len(df)\n",
    "num_samples"
   ]
  },
  {
   "cell_type": "code",
   "execution_count": 59,
   "id": "0ddb6451",
   "metadata": {},
   "outputs": [
    {
     "data": {
      "text/plain": [
       "0       privacy policy sci news com is committed to pr...\n",
       "1       information that sci news com may collect onli...\n",
       "2       if you contact us we may keep a record of that...\n",
       "3       details of your visits to our site including b...\n",
       "4       sci news com does not knowingly collect or sol...\n",
       "                              ...                        \n",
       "3771    information collected at mohegan sun in additi...\n",
       "3772    management of user information certain informa...\n",
       "3773    special note about children this site is not i...\n",
       "3774    if you have a question if you have a question ...\n",
       "3775    you may also contact us by mail using the addr...\n",
       "Name: segment_text, Length: 3776, dtype: object"
      ]
     },
     "execution_count": 59,
     "metadata": {},
     "output_type": "execute_result"
    }
   ],
   "source": [
    "df.segment_text = df.segment_text.apply(preprocess.cleanText, lower=True, stem=False)\n",
    "df.segment_text"
   ]
  },
  {
   "cell_type": "code",
   "execution_count": 60,
   "id": "497e6e8d",
   "metadata": {},
   "outputs": [
    {
     "data": {
      "text/plain": [
       "array([[0, 0, 0, ..., 0, 0, 0],\n",
       "       [0, 0, 0, ..., 0, 0, 0],\n",
       "       [1, 0, 0, ..., 0, 0, 0],\n",
       "       ...,\n",
       "       [0, 0, 0, ..., 0, 0, 0],\n",
       "       [0, 0, 0, ..., 0, 0, 0],\n",
       "       [0, 0, 0, ..., 0, 0, 0]])"
      ]
     },
     "execution_count": 60,
     "metadata": {},
     "output_type": "execute_result"
    }
   ],
   "source": [
    "cats = df.category\n",
    "label_encoder = preprocess.LabelEncoder()\n",
    "label_encoder.fit(cats)\n",
    "y = label_encoder.encode(cats)\n",
    "y"
   ]
  },
  {
   "cell_type": "code",
   "execution_count": 61,
   "id": "8aae1f32",
   "metadata": {},
   "outputs": [
    {
     "data": {
      "text/plain": [
       "{0: 0.00641025641025641,\n",
       " 1: 0.0026666666666666666,\n",
       " 2: 0.03125,\n",
       " 3: 0.0006583278472679394,\n",
       " 4: 0.0028328611898017,\n",
       " 5: 0.0012300123001230013,\n",
       " 6: 0.005208333333333333,\n",
       " 7: 0.001557632398753894,\n",
       " 8: 0.0030959752321981426,\n",
       " 9: 0.0008431703204047217,\n",
       " 10: 0.004347826086956522,\n",
       " 11: 0.0015822784810126582}"
      ]
     },
     "execution_count": 61,
     "metadata": {},
     "output_type": "execute_result"
    }
   ],
   "source": [
    "cats_list = list(itertools.chain.from_iterable(cats.values))\n",
    "counts = np.bincount([label_encoder.class_to_index[cat_] for cat_ in cats_list])\n",
    "cat_weights = {i: 1.0 / count for i, count in enumerate(counts)}\n",
    "cat_weights"
   ]
  },
  {
   "cell_type": "code",
   "execution_count": 62,
   "id": "49ccf4c7",
   "metadata": {},
   "outputs": [],
   "source": [
    "gen.setSeeds(seed=2021)"
   ]
  },
  {
   "cell_type": "code",
   "execution_count": 63,
   "id": "e50cb4b0",
   "metadata": {},
   "outputs": [],
   "source": [
    "train_size = 0.7"
   ]
  },
  {
   "cell_type": "code",
   "execution_count": 64,
   "id": "cd6ad371",
   "metadata": {},
   "outputs": [],
   "source": [
    "X = df.segment_text.to_numpy()"
   ]
  },
  {
   "cell_type": "code",
   "execution_count": 65,
   "id": "58ec7a7c",
   "metadata": {},
   "outputs": [],
   "source": [
    "X_train, X_, y_train, y_ = preprocess.train_test_split_multilabel(\n",
    "    X=X, y=y, train_size=train_size\n",
    ")\n",
    "X_val, X_test, y_val, y_test = preprocess.train_test_split_multilabel(X=X_, y=y_, train_size=0.5)\n",
    "test_df = pd.DataFrame({\"segment_text\": X_test, \"category\": label_encoder.decode(y_test)})"
   ]
  },
  {
   "cell_type": "code",
   "execution_count": 66,
   "id": "cc751ac2",
   "metadata": {},
   "outputs": [
    {
     "name": "stdout",
     "output_type": "stream",
     "text": [
      "Successfully split the dataset into 70% train, 15% val and 15% test!\n",
      "Number of unique segments in total: 3776\n",
      "TRAIN SET\n",
      "Number of unique segments: 2645\n",
      "Percentage of segments containing each of the following categories:\n",
      "                                      Counts Percentage\n",
      "Data Retention                           109      2.41%\n",
      "Data Security                            262       5.8%\n",
      "Do Not Track                              22      0.49%\n",
      "First Party Collection/Use              1063     23.55%\n",
      "International and Specific Audiences     247      5.47%\n",
      "Introductory/Generic                     569     12.61%\n",
      "Policy Change                            134      2.97%\n",
      "Practice not covered                     449      9.95%\n",
      "Privacy contact information              226      5.01%\n",
      "Third Party Sharing/Collection           830     18.39%\n",
      "User Access, Edit and Deletion           161      3.57%\n",
      "User Choice/Control                      442      9.79%\n",
      "------------------------------------------------------------\n",
      "DEV SET\n",
      "Number of unique segments: 563\n",
      "Percentage of segments containing each of the following categories:\n",
      "                                      Counts Percentage\n",
      "Data Retention                            24      2.47%\n",
      "Data Security                             56      5.77%\n",
      "Do Not Track                               5      0.52%\n",
      "First Party Collection/Use               228     23.51%\n",
      "International and Specific Audiences      53      5.46%\n",
      "Introductory/Generic                     122     12.58%\n",
      "Policy Change                             29      2.99%\n",
      "Practice not covered                      96       9.9%\n",
      "Privacy contact information               49      5.05%\n",
      "Third Party Sharing/Collection           178     18.35%\n",
      "User Access, Edit and Deletion            35      3.61%\n",
      "User Choice/Control                       95      9.79%\n",
      "------------------------------------------------------------\n",
      "TEST SET\n",
      "Number of unique segments: 568\n",
      "Percentage of segments containing each of the following categories:\n",
      "                                      Counts Percentage\n",
      "Data Retention                            23      2.37%\n",
      "Data Security                             57      5.88%\n",
      "Do Not Track                               5      0.52%\n",
      "First Party Collection/Use               228     23.53%\n",
      "International and Specific Audiences      53      5.47%\n",
      "Introductory/Generic                     122     12.59%\n",
      "Policy Change                             29      2.99%\n",
      "Practice not covered                      97     10.01%\n",
      "Privacy contact information               48      4.95%\n",
      "Third Party Sharing/Collection           178     18.37%\n",
      "User Access, Edit and Deletion            34      3.51%\n",
      "User Choice/Control                       95       9.8%\n",
      "------------------------------------------------------------\n"
     ]
    }
   ],
   "source": [
    "print(\"Successfully split the dataset into {:g}% train, {:g}% val and {:g}% test!\".format((train_size)*100, (1-train_size)/2*100, (1-train_size)/2*100))\n",
    "print(\"Number of unique segments in total: {}\".format(X.shape[0]))\n",
    "metrics.splitStatistics(splitlist=[X_train, X_val, X_test, y_train, y_val, y_test])"
   ]
  },
  {
   "cell_type": "code",
   "execution_count": 67,
   "id": "158ca48f",
   "metadata": {},
   "outputs": [],
   "source": [
    "char_level = False"
   ]
  },
  {
   "cell_type": "code",
   "execution_count": 50,
   "id": "d691240c",
   "metadata": {},
   "outputs": [
    {
     "data": {
      "text/plain": [
       "<src.data.preprocess.Tokenizer at 0x7fc931eb2340>"
      ]
     },
     "execution_count": 50,
     "metadata": {},
     "output_type": "execute_result"
    }
   ],
   "source": [
    "tokenizer = preprocess.Tokenizer(char_level=char_level)\n",
    "\n",
    "tokenizer.fit_on_texts(texts=X_train)"
   ]
  },
  {
   "cell_type": "code",
   "execution_count": 68,
   "id": "fc6dba1b",
   "metadata": {},
   "outputs": [
    {
     "data": {
      "text/plain": [
       "<src.data.preprocess.Tokenizer at 0x7fc9612947f0>"
      ]
     },
     "execution_count": 68,
     "metadata": {},
     "output_type": "execute_result"
    }
   ],
   "source": [
    "tokenizer = preprocess.Tokenizer(char_level=char_level)\n",
    "\n",
    "tokenizer.fit_on_texts(texts=X)"
   ]
  },
  {
   "cell_type": "code",
   "execution_count": 69,
   "id": "cea14857",
   "metadata": {},
   "outputs": [],
   "source": [
    "X_train = np.array(tokenizer.texts_to_sequences(X_train), dtype=object)\n",
    "X_val = np.array(tokenizer.texts_to_sequences(X_val), dtype=object)\n",
    "X_test = np.array(tokenizer.texts_to_sequences(X_test), dtype=object)"
   ]
  },
  {
   "cell_type": "code",
   "execution_count": 72,
   "id": "87c67607",
   "metadata": {},
   "outputs": [
    {
     "data": {
      "text/plain": [
       "110"
      ]
     },
     "execution_count": 72,
     "metadata": {},
     "output_type": "execute_result"
    }
   ],
   "source": [
    "c = 0\n",
    "for lst in X_train:\n",
    "    if 1 in lst:\n",
    "        c+=1\n",
    "c"
   ]
  },
  {
   "cell_type": "code",
   "execution_count": null,
   "id": "ffc5e1f1",
   "metadata": {},
   "outputs": [],
   "source": []
  }
 ],
 "metadata": {
  "kernelspec": {
   "display_name": "DS5500CapstoneProject",
   "language": "python",
   "name": "ds5500capstoneproject"
  },
  "language_info": {
   "codemirror_mode": {
    "name": "ipython",
    "version": 3
   },
   "file_extension": ".py",
   "mimetype": "text/x-python",
   "name": "python",
   "nbconvert_exporter": "python",
   "pygments_lexer": "ipython3",
   "version": "3.8.12"
  }
 },
 "nbformat": 4,
 "nbformat_minor": 5
}
