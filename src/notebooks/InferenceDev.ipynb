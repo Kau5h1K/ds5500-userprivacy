{
 "cells": [
  {
   "cell_type": "code",
   "execution_count": 28,
   "id": "2ab6ff84",
   "metadata": {},
   "outputs": [
    {
     "name": "stderr",
     "output_type": "stream",
     "text": [
      "[nltk_data] Downloading package punkt to /Users/kaushik/nltk_data...\n",
      "[nltk_data]   Package punkt is already up-to-date!\n"
     ]
    }
   ],
   "source": [
    "import numpy as np\n",
    "import pandas as pd\n",
    "import scipy\n",
    "import skmultilearn\n",
    "import os\n",
    "import nltk\n",
    "from nltk.corpus import stopwords, twitter_samples\n",
    "from nltk.stem import PorterStemmer\n",
    "from nltk.tokenize import TweetTokenizer\n",
    "import re\n",
    "import gensim\n",
    "import glob\n",
    "from bs4 import BeautifulSoup\n",
    "from urllib.request import urlopen\n",
    "import urllib\n",
    "import random\n",
    "import torch\n",
    "import torch.nn as nn\n",
    "nltk.download(\"punkt\");\n",
    "from argparse import Namespace\n",
    "import json\n",
    "from numpyencoder import NumpyEncoder\n",
    "import pickle"
   ]
  },
  {
   "cell_type": "code",
   "execution_count": 29,
   "id": "aa57e6af",
   "metadata": {},
   "outputs": [],
   "source": [
    "import sys\n",
    "sys.path.insert(0, \"/Users/kaushik/MyStuff/Workspace/NEU/DS5500/Project/DS5500_CapstoneProject\")\n",
    "import os"
   ]
  },
  {
   "cell_type": "code",
   "execution_count": 30,
   "id": "ad967050",
   "metadata": {},
   "outputs": [],
   "source": [
    "from src.config import cfg\n",
    "from src.data import prepOPPCorpus\n",
    "from src.data import preprocess\n",
    "\n",
    "from src.models import CNN\n",
    "from src import models\n",
    "\n",
    "from src.main import main\n",
    "from src.main import driver\n",
    "\n",
    "from src.utils import gen\n",
    "from src.utils import metrics\n",
    "from src.utils import embeddings\n",
    "\n",
    "import itertools\n",
    "import numpy as np\n",
    "import pandas as pd"
   ]
  },
  {
   "cell_type": "code",
   "execution_count": 31,
   "id": "580f58d7",
   "metadata": {},
   "outputs": [],
   "source": [
    "# Define experiment name\n",
    "experiment_name = \"CNN_W_FE_U_MF5_50\"\n",
    "#experiment_name = \"CNN_W_FE_M\""
   ]
  },
  {
   "cell_type": "code",
   "execution_count": 32,
   "id": "f7494bf2",
   "metadata": {},
   "outputs": [],
   "source": [
    "experiment_dpath = os.path.join(cfg.PARAM.BEST_PARAM_DPATH, \"best_params_\" + experiment_name)\n",
    "run_id = gen.loadID(os.path.join(experiment_dpath, \"run_ID.txt\"))"
   ]
  },
  {
   "cell_type": "code",
   "execution_count": 33,
   "id": "a4221b7a",
   "metadata": {},
   "outputs": [],
   "source": [
    "param_dict = gen.loadParams(os.path.join(experiment_dpath, \"best_param_dict.json\"))\n",
    "params = Namespace(**param_dict)"
   ]
  },
  {
   "cell_type": "code",
   "execution_count": 34,
   "id": "43326656",
   "metadata": {},
   "outputs": [
    {
     "data": {
      "text/plain": [
       "'741d584255d04d6baa70b0c7839124aa'"
      ]
     },
     "execution_count": 34,
     "metadata": {},
     "output_type": "execute_result"
    }
   ],
   "source": [
    "run_id"
   ]
  },
  {
   "cell_type": "code",
   "execution_count": 35,
   "id": "4b3c9fa5",
   "metadata": {},
   "outputs": [],
   "source": [
    "text = [\"When You access the Service by or through a mobile device, We may collect certain information automatically, \" \\\n",
    "\"including, but not limited to, the type of mobile device You use, Your mobile device unique ID, the IP address of\" \\\n",
    "\" Your mobile device, Your mobile operating system, the type of mobile Internet browser You use, unique device identifiers \" \\\n",
    "\"and other diagnostic data.\", \"When You access the Service by or through a mobile device, We may collect certain information automatically, \" \\\n",
    "\"including, but not limited to, the type of mobile device You use, Your mobile device unique ID, the IP address of\" \\\n",
    "\" Your mobile device, Your mobile operating system, the type of mobile Internet browser You use, unique device identifiers \" \\\n",
    "\"and other diagnostic data.\", \"When You access the Service by or through a mobile device, We may collect certain information automatically, \" \\\n",
    "\"including, but not limited to, the type of mobile device You use, Your mobile device unique ID, the IP address of\" \\\n",
    "\" Your mobile device, Your mobile operating system, the type of mobile Internet browser You use, unique device identifiers \" \\\n",
    "\"and other diagnostic data.\"]"
   ]
  },
  {
   "cell_type": "code",
   "execution_count": 37,
   "id": "0477af70",
   "metadata": {},
   "outputs": [],
   "source": [
    "import mlflow"
   ]
  },
  {
   "cell_type": "code",
   "execution_count": 38,
   "id": "cc7d26bc",
   "metadata": {},
   "outputs": [],
   "source": [
    "experiment_id = mlflow.get_run(run_id=run_id).info.experiment_id\n",
    "artifacts_dir = os.path.join(cfg.MLFLOW.MODEL_REGISTRY, experiment_id, run_id, \"artifacts\")"
   ]
  },
  {
   "cell_type": "code",
   "execution_count": 39,
   "id": "e01d44c4",
   "metadata": {},
   "outputs": [
    {
     "data": {
      "text/plain": [
       "'/Users/kaushik/MyStuff/Workspace/NEU/DS5500/Project/DS5500_CapstoneProject/mlflow_registry/5/741d584255d04d6baa70b0c7839124aa/artifacts'"
      ]
     },
     "execution_count": 39,
     "metadata": {},
     "output_type": "execute_result"
    }
   ],
   "source": [
    "artifacts_dir"
   ]
  },
  {
   "cell_type": "markdown",
   "id": "6b311276",
   "metadata": {},
   "source": [
    "# Get optimal thresholds"
   ]
  },
  {
   "cell_type": "code",
   "execution_count": 9,
   "id": "0d37f68c",
   "metadata": {},
   "outputs": [],
   "source": [
    "artifacts = driver.loadRunArtifacts(run_id=run_id)"
   ]
  },
  {
   "cell_type": "code",
   "execution_count": 10,
   "id": "26fca382",
   "metadata": {},
   "outputs": [],
   "source": [
    "gen.setSeeds(seed=params.seed)"
   ]
  },
  {
   "cell_type": "code",
   "execution_count": 11,
   "id": "816f3960",
   "metadata": {},
   "outputs": [],
   "source": [
    "device = gen.setDevice(cuda=params.cuda)"
   ]
  },
  {
   "cell_type": "code",
   "execution_count": 12,
   "id": "144b3023",
   "metadata": {},
   "outputs": [],
   "source": [
    "params = artifacts[\"params\"]\n",
    "model = artifacts[\"model\"]\n",
    "tokenizer = artifacts[\"tokenizer\"]\n",
    "label_encoder = artifacts[\"label_encoder\"]\n",
    "model = model.to(device)\n",
    "classes = label_encoder.classes"
   ]
  },
  {
   "cell_type": "code",
   "execution_count": 13,
   "id": "cf411969",
   "metadata": {},
   "outputs": [
    {
     "name": "stdout",
     "output_type": "stream",
     "text": [
      "🟢 Dataset loaded!\n"
     ]
    }
   ],
   "source": [
    "df = gen.loadDataset(cfg)"
   ]
  },
  {
   "cell_type": "code",
   "execution_count": 14,
   "id": "c057ba7c",
   "metadata": {},
   "outputs": [],
   "source": [
    "df.segment_text = df.segment_text.apply(preprocess.cleanText, lower=params.lower, stem=params.stem)"
   ]
  },
  {
   "cell_type": "code",
   "execution_count": 15,
   "id": "3c5829df",
   "metadata": {},
   "outputs": [],
   "source": [
    "cats = df.category\n",
    "y = label_encoder.encode(df.category)"
   ]
  },
  {
   "cell_type": "code",
   "execution_count": 16,
   "id": "e2834213",
   "metadata": {},
   "outputs": [],
   "source": [
    "cats_list = list(itertools.chain.from_iterable(cats.values))\n",
    "counts = np.bincount([label_encoder.class_to_index[cat_] for cat_ in cats_list])\n",
    "cat_weights = {i: 1.0 / count for i, count in enumerate(counts)}"
   ]
  },
  {
   "cell_type": "code",
   "execution_count": 17,
   "id": "8a48f987",
   "metadata": {},
   "outputs": [],
   "source": [
    "gen.setSeeds(seed=params.seed)"
   ]
  },
  {
   "cell_type": "code",
   "execution_count": 18,
   "id": "f7d3c5a7",
   "metadata": {},
   "outputs": [],
   "source": [
    "X = df.segment_text.to_numpy()\n",
    "X_train, X_, y_train, y_ = preprocess.train_test_split_multilabel(\n",
    "X=X, y=y, train_size=params.train_size\n",
    ")\n",
    "X_val, X_test, y_val, y_test = preprocess.train_test_split_multilabel(X=X_, y=y_, train_size=0.5)\n",
    "test_df = pd.DataFrame({\"segment_text\": X_test, \"category\": label_encoder.decode(y_test)})"
   ]
  },
  {
   "cell_type": "code",
   "execution_count": 19,
   "id": "53f32fbf",
   "metadata": {},
   "outputs": [
    {
     "name": "stdout",
     "output_type": "stream",
     "text": [
      "------------------------------------------------------------\n",
      "Successfully split the dataset into 70% train, 15% val and 15% test!\n",
      "Number of unique segments in total: 3471\n",
      "TRAIN SET\n",
      "Number of unique segments: 2422\n",
      "Percentage of segments containing each of the following categories:\n",
      "                                      Counts Percentage\n",
      "Data Retention                            55      1.91%\n",
      "Data Security                            147       5.1%\n",
      "Do Not Track                              22      0.76%\n",
      "First Party Collection/Use               845      29.3%\n",
      "International and Specific Audiences     211      7.32%\n",
      "Introductory/Generic                     273      9.47%\n",
      "Policy Change                             83      2.88%\n",
      "Practice not covered                      90      3.12%\n",
      "Privacy contact information              142      4.92%\n",
      "Third Party Sharing/Collection           661     22.92%\n",
      "User Access, Edit and Deletion           104      3.61%\n",
      "User Choice/Control                      251       8.7%\n",
      "------------------------------------------------------------\n",
      "DEV SET\n",
      "Number of unique segments: 522\n",
      "Percentage of segments containing each of the following categories:\n",
      "                                      Counts Percentage\n",
      "Data Retention                            11      1.79%\n",
      "Data Security                             32      5.19%\n",
      "Do Not Track                               4      0.65%\n",
      "First Party Collection/Use               181     29.38%\n",
      "International and Specific Audiences      45      7.31%\n",
      "Introductory/Generic                      58      9.42%\n",
      "Policy Change                             18      2.92%\n",
      "Practice not covered                      19      3.08%\n",
      "Privacy contact information               31      5.03%\n",
      "Third Party Sharing/Collection           142     23.05%\n",
      "User Access, Edit and Deletion            22      3.57%\n",
      "User Choice/Control                       53       8.6%\n",
      "------------------------------------------------------------\n",
      "TEST SET\n",
      "Number of unique segments: 527\n",
      "Percentage of segments containing each of the following categories:\n",
      "                                      Counts Percentage\n",
      "Data Retention                            12      1.94%\n",
      "Data Security                             31       5.0%\n",
      "Do Not Track                               5      0.81%\n",
      "First Party Collection/Use               181     29.19%\n",
      "International and Specific Audiences      45      7.26%\n",
      "Introductory/Generic                      59      9.52%\n",
      "Policy Change                             18       2.9%\n",
      "Practice not covered                      20      3.23%\n",
      "Privacy contact information               30      4.84%\n",
      "Third Party Sharing/Collection           142      22.9%\n",
      "User Access, Edit and Deletion            23      3.71%\n",
      "User Choice/Control                       54      8.71%\n",
      "------------------------------------------------------------\n"
     ]
    }
   ],
   "source": [
    "print(\"-\" * 60)\n",
    "print(\"Successfully split the dataset into {:g}% train, {:g}% val and {:g}% test!\".format((params.train_size)*100, (1-params.train_size)/2*100, (1-params.train_size)/2*100))\n",
    "print(\"Number of unique segments in total: {}\".format(X.shape[0]))\n",
    "metrics.splitStatistics(splitlist=[X_train, X_val, X_test, y_train, y_val, y_test])"
   ]
  },
  {
   "cell_type": "code",
   "execution_count": 20,
   "id": "1cc07450",
   "metadata": {},
   "outputs": [],
   "source": [
    "X_train = np.array(tokenizer.texts_to_sequences(X_train), dtype=object)\n",
    "X_val = np.array(tokenizer.texts_to_sequences(X_val), dtype=object)\n",
    "X_test = np.array(tokenizer.texts_to_sequences(X_test), dtype=object)"
   ]
  },
  {
   "cell_type": "code",
   "execution_count": 21,
   "id": "e3b2f80e",
   "metadata": {},
   "outputs": [],
   "source": [
    "train_dataset = CNN.CNNDataset(X=X_train, y=y_train, max_filter_size=params.max_filter_size)\n",
    "val_dataset = CNN.CNNDataset(X=X_val, y=y_val, max_filter_size=params.max_filter_size)\n",
    "train_dataloader = train_dataset.create_dataloader(batch_size=params.batch_size)\n",
    "val_dataloader = val_dataset.create_dataloader(batch_size=params.batch_size)"
   ]
  },
  {
   "cell_type": "code",
   "execution_count": 22,
   "id": "d4a0ee81",
   "metadata": {},
   "outputs": [
    {
     "name": "stdout",
     "output_type": "stream",
     "text": [
      "Parameters: {\n",
      "  \"dataset\": \"majority\",\n",
      "  \"seed\": 2021,\n",
      "  \"cuda\": true,\n",
      "  \"lower\": true,\n",
      "  \"stem\": false,\n",
      "  \"train_size\": 0.7,\n",
      "  \"char_level\": false,\n",
      "  \"max_filter_size\": 5,\n",
      "  \"batch_size\": 128,\n",
      "  \"embedding_dim\": 204,\n",
      "  \"num_filters\": 209,\n",
      "  \"hidden_dim\": 484,\n",
      "  \"dropout_p\": 0.7482758802337606,\n",
      "  \"lr\": 0.0003189955986529326,\n",
      "  \"num_epochs\": 200,\n",
      "  \"embed\": null,\n",
      "  \"freeze_embed\": false,\n",
      "  \"patience\": 10,\n",
      "  \"threshold\": 0.4383414089679718,\n",
      "  \"num_samples\": 3471\n",
      "}\n"
     ]
    }
   ],
   "source": [
    "print(f\"Parameters: {json.dumps(params.__dict__, indent=2, cls=NumpyEncoder)}\")\n",
    "cat_weights_tensor = torch.Tensor(np.array(list(cat_weights.values())))\n",
    "loss_fn = nn.BCEWithLogitsLoss(weight=cat_weights_tensor)\n",
    "optimizer = torch.optim.Adam(model.parameters(), lr=params.lr)\n",
    "scheduler = torch.optim.lr_scheduler.ReduceLROnPlateau(optimizer, mode=\"min\", factor=0.05, patience=5)"
   ]
  },
  {
   "cell_type": "code",
   "execution_count": 23,
   "id": "8020f4fa",
   "metadata": {},
   "outputs": [],
   "source": [
    "trainer = models.Trainer(model=model, device=device, loss_fn=loss_fn, optimizer=optimizer, scheduler=scheduler, trial=None)"
   ]
  },
  {
   "cell_type": "code",
   "execution_count": 24,
   "id": "4da4c262",
   "metadata": {},
   "outputs": [],
   "source": [
    "_, y_true, y_prob = trainer.eval_step(dataloader=train_dataloader)"
   ]
  },
  {
   "cell_type": "code",
   "execution_count": 25,
   "id": "6e548f17",
   "metadata": {},
   "outputs": [],
   "source": [
    "thresholds, multi_thresholds = metrics.getOptimalTreshold(y_true=y_true, y_prob=y_prob)"
   ]
  },
  {
   "cell_type": "code",
   "execution_count": 26,
   "id": "9e92a83f",
   "metadata": {},
   "outputs": [
    {
     "data": {
      "text/plain": [
       "[0.3721136,\n",
       " 0.39934087,\n",
       " 0.74468327,\n",
       " 0.3627222,\n",
       " 0.27153248,\n",
       " 0.19452152,\n",
       " 0.15533948,\n",
       " 0.09685168,\n",
       " 0.1824223,\n",
       " 0.2859817,\n",
       " 0.42126584,\n",
       " 0.24379988]"
      ]
     },
     "execution_count": 26,
     "metadata": {},
     "output_type": "execute_result"
    }
   ],
   "source": [
    "multi_thresholds"
   ]
  },
  {
   "cell_type": "code",
   "execution_count": 27,
   "id": "6f84bccf",
   "metadata": {},
   "outputs": [],
   "source": [
    "with open(\"{}.pkl\".format(experiment_name), \"wb\") as f:\n",
    "    pickle.dump(multi_thresholds, f)"
   ]
  },
  {
   "cell_type": "code",
   "execution_count": 44,
   "id": "acbdb3f7",
   "metadata": {},
   "outputs": [],
   "source": [
    "segments_processed = [\"If you use a Microsoft product with an account provided by an organization you are affiliated with, such as your work or school account, that organization can\",\n",
    "\"Control and administer your Microsoft product and product account, including controlling privacy-related settings of the product or product account.\",\n",
    "\"Access and process your data, including the interaction data, diagnostic data, and the contents of your communications and files associated with your Microsoft product and product accounts.\",\n",
    "\"If you lose access to your work or school account (in event of change of employment, for example), you may lose access to products and the content associated with those products, including those you acquired on your own behalf, if you used your work or school account to sign in to such products.\",\n",
    "\"Many Microsoft products are intended for use by organizations, such as schools and businesses. Please see the Enterprise and developer products section of this privacy statement. If your organization provides you with access to Microsoft products, your use of the Microsoft products is subject to your organization's policies, if any. You should direct your privacy inquiries, including any requests to exercise your data protection rights, to your organization’s administrator. When you use social features in Microsoft products, other users in your network may see some of your activity. To learn more about the social features and other functionality, please review documentation or help content specific to the Microsoft product. Microsoft is not responsible for the privacy or security practices of our customers, which may differ from those set forth in this privacy statement.\",\n",
    "\"When you use a Microsoft product provided by your organization, Microsoft’s processing of your personal data in connection with that product is governed by a contract between Microsoft and your organization. Microsoft processes your personal data to provide the product to your organization and you, and in some cases for Microsoft’s business operations related to providing the product as described in the Enterprise and developer products section. As mentioned above, if you have questions about Microsoft’s processing of your personal data in connection with providing products to your organization, please contact your organization. If you have questions about Microsoft’s business operations in connection with providing products to your organization as provided in the Product Terms, please contact Microsoft as described in the How to contact us section. For more information on our business operations, please see the Enterprise and developer products section.\",\"For Microsoft products provided by your K-12 school, including Microsoft 365 Education, Microsoft will:\"]"
   ]
  },
  {
   "cell_type": "code",
   "execution_count": 45,
   "id": "d779ea0a",
   "metadata": {},
   "outputs": [
    {
     "ename": "IndexError",
     "evalue": "index 7 is out of bounds for axis 0 with size 7",
     "output_type": "error",
     "traceback": [
      "\u001B[0;31m---------------------------------------------------------------------------\u001B[0m",
      "\u001B[0;31mIndexError\u001B[0m                                Traceback (most recent call last)",
      "\u001B[0;32m/var/folders/2f/q69b6fl55lvg59_5t400qn1w0000gn/T/ipykernel_86210/308368506.py\u001B[0m in \u001B[0;36m<module>\u001B[0;34m\u001B[0m\n\u001B[0;32m----> 1\u001B[0;31m \u001B[0mdriver\u001B[0m\u001B[0;34m.\u001B[0m\u001B[0mproductionPredict\u001B[0m\u001B[0;34m(\u001B[0m\u001B[0msegments_processed\u001B[0m\u001B[0;34m,\u001B[0m \u001B[0mrun_id\u001B[0m\u001B[0;34m,\u001B[0m \u001B[0mmulti_threshold\u001B[0m \u001B[0;34m=\u001B[0m \u001B[0;32mTrue\u001B[0m\u001B[0;34m)\u001B[0m\u001B[0;34m\u001B[0m\u001B[0;34m\u001B[0m\u001B[0m\n\u001B[0m",
      "\u001B[0;32m~/MyStuff/Workspace/NEU/DS5500/Project/DS5500_CapstoneProject/src/main/driver.py\u001B[0m in \u001B[0;36mproductionPredict\u001B[0;34m(segments, run_id, multi_threshold)\u001B[0m\n\u001B[1;32m    195\u001B[0m     \u001B[0mcategories\u001B[0m \u001B[0;34m=\u001B[0m \u001B[0mlabel_encoder\u001B[0m\u001B[0;34m.\u001B[0m\u001B[0mdecode\u001B[0m\u001B[0;34m(\u001B[0m\u001B[0my_pred\u001B[0m\u001B[0;34m)\u001B[0m\u001B[0;34m\u001B[0m\u001B[0;34m\u001B[0m\u001B[0m\n\u001B[1;32m    196\u001B[0m     \u001B[0mpredictions\u001B[0m \u001B[0;34m=\u001B[0m \u001B[0;34m[\u001B[0m\u001B[0;34m{\u001B[0m\u001B[0;34m\"input_text\"\u001B[0m\u001B[0;34m:\u001B[0m \u001B[0msegments\u001B[0m\u001B[0;34m[\u001B[0m\u001B[0mi\u001B[0m\u001B[0;34m]\u001B[0m\u001B[0;34m,\u001B[0m \u001B[0;34m\"preprocessed_text\"\u001B[0m\u001B[0;34m:\u001B[0m \u001B[0mpreprocessed_segments\u001B[0m\u001B[0;34m[\u001B[0m\u001B[0mi\u001B[0m\u001B[0;34m]\u001B[0m\u001B[0;34m,\u001B[0m \u001B[0;34m\"predicted_tags\"\u001B[0m\u001B[0;34m:\u001B[0m \u001B[0mcategories\u001B[0m\u001B[0;34m[\u001B[0m\u001B[0mi\u001B[0m\u001B[0;34m]\u001B[0m\u001B[0;34m}\u001B[0m \u001B[0;32mfor\u001B[0m \u001B[0mi\u001B[0m \u001B[0;32min\u001B[0m \u001B[0mrange\u001B[0m\u001B[0;34m(\u001B[0m\u001B[0mlen\u001B[0m\u001B[0;34m(\u001B[0m\u001B[0mcategories\u001B[0m\u001B[0;34m)\u001B[0m\u001B[0;34m)\u001B[0m\u001B[0;34m]\u001B[0m\u001B[0;34m\u001B[0m\u001B[0;34m\u001B[0m\u001B[0m\n\u001B[0;32m--> 197\u001B[0;31m \u001B[0;34m\u001B[0m\u001B[0m\n\u001B[0m\u001B[1;32m    198\u001B[0m     \u001B[0;32mreturn\u001B[0m \u001B[0mpredictions\u001B[0m\u001B[0;34m\u001B[0m\u001B[0;34m\u001B[0m\u001B[0m\n\u001B[1;32m    199\u001B[0m \u001B[0;34m\u001B[0m\u001B[0m\n",
      "\u001B[0;31mIndexError\u001B[0m: index 7 is out of bounds for axis 0 with size 7"
     ]
    }
   ],
   "source": [
    "driver.productionPredict(segments_processed, run_id, multi_threshold = True)"
   ]
  },
  {
   "cell_type": "code",
   "execution_count": null,
   "id": "766b33a3",
   "metadata": {},
   "outputs": [],
   "source": []
  }
 ],
 "metadata": {
  "kernelspec": {
   "display_name": "DS5500CapstoneProject",
   "language": "python",
   "name": "ds5500capstoneproject"
  },
  "language_info": {
   "codemirror_mode": {
    "name": "ipython",
    "version": 3
   },
   "file_extension": ".py",
   "mimetype": "text/x-python",
   "name": "python",
   "nbconvert_exporter": "python",
   "pygments_lexer": "ipython3",
   "version": "3.8.12"
  }
 },
 "nbformat": 4,
 "nbformat_minor": 5
}