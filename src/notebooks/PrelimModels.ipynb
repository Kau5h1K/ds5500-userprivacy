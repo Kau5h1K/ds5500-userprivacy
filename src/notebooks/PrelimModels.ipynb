{
 "cells": [
  {
   "cell_type": "code",
   "execution_count": 1,
   "id": "e4e6caee",
   "metadata": {},
   "outputs": [],
   "source": [
    "import numpy as np\n",
    "import pandas as pd\n",
    "import scipy\n",
    "import skmultilearn\n",
    "import os\n",
    "import nltk\n",
    "from nltk.corpus import stopwords, twitter_samples\n",
    "from nltk.stem import PorterStemmer\n",
    "from nltk.tokenize import TweetTokenizer\n",
    "import re\n",
    "import gensim"
   ]
  },
  {
   "cell_type": "markdown",
   "id": "dddb2d38",
   "metadata": {},
   "source": [
    "# Path variables"
   ]
  },
  {
   "cell_type": "code",
   "execution_count": null,
   "id": "2813437d",
   "metadata": {},
   "outputs": [],
   "source": [
    "data_root_dpath = os.path.join(\"..\", \"data\", \"OPP-115\")\n",
    "\n",
    "processed_data_dpath = os.path.join(data_root_dpath, \"processed_data\")\n",
    "\n",
    "majority_dataset_fpath = os.path.join(processed_data_dpath, \"master_catmodel_dataset_majority.csv\")\n",
    "\n",
    "union_dataset_fpath = os.path.join(processed_data_dpath, \"master_catmodel_dataset_union.csv\")"
   ]
  },
  {
   "cell_type": "markdown",
   "id": "963a1f24",
   "metadata": {},
   "source": [
    "# Modeling"
   ]
  },
  {
   "cell_type": "code",
   "execution_count": null,
   "id": "f52c4a18",
   "metadata": {},
   "outputs": [],
   "source": [
    "df = pd.read_csv(union_dataset_fpath)\n",
    "df"
   ]
  },
  {
   "cell_type": "code",
   "execution_count": null,
   "id": "a37d50f0",
   "metadata": {},
   "outputs": [],
   "source": [
    "clean = True"
   ]
  },
  {
   "cell_type": "code",
   "execution_count": null,
   "id": "dffe10c2",
   "metadata": {},
   "outputs": [],
   "source": [
    "def cleanText(t):\n",
    "    encoded_string = t.encode(\"ascii\", \"ignore\")\n",
    "    t = encoded_string.decode()\n",
    "    t = re.sub(r'(www).*[\\s]*', '', t)\n",
    "    t = re.sub(r\"[^A-Za-z0-9,!?*.;’´'\\/]\", \" \", t)\n",
    "    t = re.sub(r\",\", \" \", t)\n",
    "    t = re.sub(r\"’\", \"'\", t)\n",
    "    t = re.sub(r\"´\", \"'\", t)\n",
    "    t = re.sub(r\"\\.\", \" \", t)\n",
    "    t = re.sub(r\"!\", \" ! \", t)\n",
    "    t = re.sub(r\"\\?\", \" ? \", t)\n",
    "    t = re.sub(r\"\\/\", \" \", t)\n",
    "    return t"
   ]
  },
  {
   "cell_type": "code",
   "execution_count": null,
   "id": "e336d57c",
   "metadata": {},
   "outputs": [],
   "source": [
    "token_set = set()\n",
    "for i, r in df.iterrows():\n",
    "    segment = df.iloc[i,0]\n",
    "    if clean:\n",
    "        segment = cleanText(segment)\n",
    "    token_set = token_set.union({token.lower() for token in nltk.word_tokenize(segment)})\n",
    "    \n",
    "token_list = sorted(token_set)"
   ]
  },
  {
   "cell_type": "code",
   "execution_count": null,
   "id": "22a4caf0",
   "metadata": {},
   "outputs": [],
   "source": [
    "len(token_list)"
   ]
  },
  {
   "cell_type": "code",
   "execution_count": 21,
   "id": "be242f93",
   "metadata": {},
   "outputs": [],
   "source": [
    "import fasttext"
   ]
  },
  {
   "cell_type": "code",
   "execution_count": 22,
   "id": "134e5846",
   "metadata": {},
   "outputs": [],
   "source": [
    "model = fasttext.train_unsupervised('data/fil9')"
   ]
  },
  {
   "cell_type": "code",
   "execution_count": 24,
   "id": "fb00041c",
   "metadata": {},
   "outputs": [
    {
     "data": {
      "text/plain": [
       "218316"
      ]
     },
     "execution_count": 24,
     "metadata": {},
     "output_type": "execute_result"
    }
   ],
   "source": [
    "len(model.words)"
   ]
  },
  {
   "cell_type": "code",
   "execution_count": 30,
   "id": "cf2facdc",
   "metadata": {},
   "outputs": [
    {
     "data": {
      "text/plain": [
       "array([ 0.3016216 ,  0.00220708,  0.19186229, -0.09905607,  0.08785073,\n",
       "       -0.16982554, -0.26141062, -0.09019196, -0.14420591, -0.14717713,\n",
       "        0.20135514, -0.06699482, -0.10681131,  0.07166425,  0.2616634 ,\n",
       "       -0.24704322, -0.0750203 ,  0.16574906,  0.1485363 , -0.09897815,\n",
       "        0.06365103,  0.14255174, -0.01181096, -0.11140592, -0.30140436,\n",
       "       -0.11738931, -0.01761233,  0.0210337 ,  0.20763715,  0.17419857,\n",
       "        0.02008746,  0.03113924,  0.03273365,  0.11395948,  0.01066347,\n",
       "       -0.10845307, -0.18639882,  0.06211843,  0.23877648,  0.13536777,\n",
       "        0.09951109,  0.31129295,  0.10295922, -0.02762417,  0.26927844,\n",
       "       -0.18940763,  0.15832663, -0.06475009,  0.06934265,  0.15929562,\n",
       "        0.23463763, -0.11603487,  0.33812785, -0.05832513,  0.0094994 ,\n",
       "        0.07557459,  0.01194069, -0.285297  ,  0.1574349 , -0.04169886,\n",
       "       -0.13651597,  0.02645457,  0.10800501, -0.0328869 ,  0.18263406,\n",
       "        0.25584716,  0.04620138, -0.04927906, -0.10382138,  0.03012486,\n",
       "        0.04515726, -0.03853643,  0.32269457,  0.04638012, -0.13256516,\n",
       "        0.12472739,  0.15765384, -0.20801146,  0.02941178, -0.2203698 ,\n",
       "       -0.27025992, -0.13999234, -0.01663388, -0.01542834, -0.21566562,\n",
       "        0.10557389,  0.09315254, -0.22761096, -0.14767404, -0.08453948,\n",
       "       -0.05361356,  0.04536203, -0.00301283, -0.08886879,  0.0555778 ,\n",
       "       -0.11847299, -0.08893326,  0.20657477,  0.24335429,  0.12892413],\n",
       "      dtype=float32)"
      ]
     },
     "execution_count": 30,
     "metadata": {},
     "output_type": "execute_result"
    }
   ],
   "source": [
    "model.get_word_vector(\"theatresssdf535fdgds\")"
   ]
  },
  {
   "cell_type": "code",
   "execution_count": null,
   "id": "fe157604",
   "metadata": {},
   "outputs": [],
   "source": []
  }
 ],
 "metadata": {
  "kernelspec": {
   "display_name": "master-env",
   "language": "python",
   "name": "master-env"
  },
  "language_info": {
   "codemirror_mode": {
    "name": "ipython",
    "version": 3
   },
   "file_extension": ".py",
   "mimetype": "text/x-python",
   "name": "python",
   "nbconvert_exporter": "python",
   "pygments_lexer": "ipython3",
   "version": "3.8.8"
  }
 },
 "nbformat": 4,
 "nbformat_minor": 5
}
