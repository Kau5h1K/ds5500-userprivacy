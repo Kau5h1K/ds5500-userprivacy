{
 "cells": [
  {
   "cell_type": "code",
   "execution_count": 73,
   "id": "5fa78115",
   "metadata": {},
   "outputs": [
    {
     "name": "stderr",
     "output_type": "stream",
     "text": [
      "[nltk_data] Downloading package punkt to /Users/kaushik/nltk_data...\n",
      "[nltk_data]   Package punkt is already up-to-date!\n"
     ]
    }
   ],
   "source": [
    "import numpy as np\n",
    "import pandas as pd\n",
    "import scipy\n",
    "import skmultilearn\n",
    "import os\n",
    "import nltk\n",
    "from nltk.corpus import stopwords, twitter_samples\n",
    "from nltk.stem import PorterStemmer\n",
    "from nltk.tokenize import TweetTokenizer\n",
    "import re\n",
    "import gensim\n",
    "import glob\n",
    "from bs4 import BeautifulSoup\n",
    "from urllib.request import urlopen\n",
    "import urllib\n",
    "import random\n",
    "import torch\n",
    "import torch.nn as nn\n",
    "nltk.download(\"punkt\");"
   ]
  },
  {
   "cell_type": "markdown",
   "id": "46810c27",
   "metadata": {},
   "source": [
    "# Path variables"
   ]
  },
  {
   "cell_type": "code",
   "execution_count": 78,
   "id": "4c44f22f",
   "metadata": {},
   "outputs": [],
   "source": [
    "data_root_dpath = os.path.join(\"..\",\"..\", \"OPP-115\")\n",
    "\n",
    "processed_data_dpath = os.path.join(data_root_dpath, \"processed_data\")\n",
    "\n",
    "majority_dataset_fpath = os.path.join(processed_data_dpath, \"master_catmodel_dataset_majority.csv\")\n",
    "\n",
    "union_dataset_fpath = os.path.join(processed_data_dpath, \"master_catmodel_dataset_union.csv\")"
   ]
  },
  {
   "cell_type": "markdown",
   "id": "9af26297",
   "metadata": {},
   "source": [
    "# Embeddings"
   ]
  },
  {
   "cell_type": "code",
   "execution_count": 79,
   "id": "fabf5ab1",
   "metadata": {},
   "outputs": [
    {
     "data": {
      "text/html": [
       "<div>\n",
       "<style scoped>\n",
       "    .dataframe tbody tr th:only-of-type {\n",
       "        vertical-align: middle;\n",
       "    }\n",
       "\n",
       "    .dataframe tbody tr th {\n",
       "        vertical-align: top;\n",
       "    }\n",
       "\n",
       "    .dataframe thead th {\n",
       "        text-align: right;\n",
       "    }\n",
       "</style>\n",
       "<table border=\"1\" class=\"dataframe\">\n",
       "  <thead>\n",
       "    <tr style=\"text-align: right;\">\n",
       "      <th></th>\n",
       "      <th>segment_text</th>\n",
       "      <th>category</th>\n",
       "    </tr>\n",
       "  </thead>\n",
       "  <tbody>\n",
       "    <tr>\n",
       "      <th>0</th>\n",
       "      <td>Privacy Policy   Sci-News.com is committed to ...</td>\n",
       "      <td>[0. 0. 0. 0. 0. 0. 0. 0. 0. 1. 0. 0.]</td>\n",
       "    </tr>\n",
       "    <tr>\n",
       "      <th>1</th>\n",
       "      <td>Information that Sci-News.com May Collect Onli...</td>\n",
       "      <td>[1. 0. 0. 0. 0. 0. 0. 0. 0. 0. 0. 0.]</td>\n",
       "    </tr>\n",
       "    <tr>\n",
       "      <th>2</th>\n",
       "      <td>- if you contact us, we may keep a record of t...</td>\n",
       "      <td>[0. 0. 0. 1. 0. 0. 0. 0. 0. 0. 0. 0.]</td>\n",
       "    </tr>\n",
       "    <tr>\n",
       "      <th>3</th>\n",
       "      <td>- details of your visits to our site including...</td>\n",
       "      <td>[1. 0. 0. 0. 0. 0. 0. 0. 0. 0. 0. 0.]</td>\n",
       "    </tr>\n",
       "    <tr>\n",
       "      <th>4</th>\n",
       "      <td>Sci-News.com does not knowingly collect or sol...</td>\n",
       "      <td>[0. 0. 0. 0. 0. 1. 0. 0. 0. 0. 0. 1.]</td>\n",
       "    </tr>\n",
       "    <tr>\n",
       "      <th>...</th>\n",
       "      <td>...</td>\n",
       "      <td>...</td>\n",
       "    </tr>\n",
       "    <tr>\n",
       "      <th>3466</th>\n",
       "      <td>Information Collected at Mohegan Sun   In addi...</td>\n",
       "      <td>[1. 1. 0. 0. 0. 0. 0. 0. 0. 0. 0. 0.]</td>\n",
       "    </tr>\n",
       "    <tr>\n",
       "      <th>3467</th>\n",
       "      <td>Management of User Information   Certain infor...</td>\n",
       "      <td>[0. 0. 1. 0. 0. 0. 0. 0. 0. 0. 0. 0.]</td>\n",
       "    </tr>\n",
       "    <tr>\n",
       "      <th>3468</th>\n",
       "      <td>Special Note About Children   This site is not...</td>\n",
       "      <td>[0. 0. 0. 0. 0. 1. 0. 0. 0. 0. 0. 0.]</td>\n",
       "    </tr>\n",
       "    <tr>\n",
       "      <th>3469</th>\n",
       "      <td>If You Have a Question   If you have a questio...</td>\n",
       "      <td>[0. 0. 0. 0. 0. 0. 0. 0. 0. 0. 0. 1.]</td>\n",
       "    </tr>\n",
       "    <tr>\n",
       "      <th>3470</th>\n",
       "      <td>You may also contact us by mail using the addr...</td>\n",
       "      <td>[0. 0. 0. 0. 0. 0. 0. 0. 0. 0. 0. 1.]</td>\n",
       "    </tr>\n",
       "  </tbody>\n",
       "</table>\n",
       "<p>3471 rows × 2 columns</p>\n",
       "</div>"
      ],
      "text/plain": [
       "                                           segment_text  \\\n",
       "0     Privacy Policy   Sci-News.com is committed to ...   \n",
       "1     Information that Sci-News.com May Collect Onli...   \n",
       "2     - if you contact us, we may keep a record of t...   \n",
       "3     - details of your visits to our site including...   \n",
       "4     Sci-News.com does not knowingly collect or sol...   \n",
       "...                                                 ...   \n",
       "3466  Information Collected at Mohegan Sun   In addi...   \n",
       "3467  Management of User Information   Certain infor...   \n",
       "3468  Special Note About Children   This site is not...   \n",
       "3469  If You Have a Question   If you have a questio...   \n",
       "3470  You may also contact us by mail using the addr...   \n",
       "\n",
       "                                   category  \n",
       "0     [0. 0. 0. 0. 0. 0. 0. 0. 0. 1. 0. 0.]  \n",
       "1     [1. 0. 0. 0. 0. 0. 0. 0. 0. 0. 0. 0.]  \n",
       "2     [0. 0. 0. 1. 0. 0. 0. 0. 0. 0. 0. 0.]  \n",
       "3     [1. 0. 0. 0. 0. 0. 0. 0. 0. 0. 0. 0.]  \n",
       "4     [0. 0. 0. 0. 0. 1. 0. 0. 0. 0. 0. 1.]  \n",
       "...                                     ...  \n",
       "3466  [1. 1. 0. 0. 0. 0. 0. 0. 0. 0. 0. 0.]  \n",
       "3467  [0. 0. 1. 0. 0. 0. 0. 0. 0. 0. 0. 0.]  \n",
       "3468  [0. 0. 0. 0. 0. 1. 0. 0. 0. 0. 0. 0.]  \n",
       "3469  [0. 0. 0. 0. 0. 0. 0. 0. 0. 0. 0. 1.]  \n",
       "3470  [0. 0. 0. 0. 0. 0. 0. 0. 0. 0. 0. 1.]  \n",
       "\n",
       "[3471 rows x 2 columns]"
      ]
     },
     "execution_count": 79,
     "metadata": {},
     "output_type": "execute_result"
    }
   ],
   "source": [
    "df = pd.read_csv(majority_dataset_fpath)\n",
    "df"
   ]
  },
  {
   "cell_type": "code",
   "execution_count": 80,
   "id": "833d34e7",
   "metadata": {},
   "outputs": [],
   "source": [
    "import nltk\n",
    "from nltk.corpus import stopwords\n",
    "from nltk.stem import PorterStemmer\n",
    "import re"
   ]
  },
  {
   "cell_type": "code",
   "execution_count": 81,
   "id": "5725903c",
   "metadata": {},
   "outputs": [
    {
     "name": "stdout",
     "output_type": "stream",
     "text": [
      "['i', 'me', 'my', 'myself', 'we']\n"
     ]
    },
    {
     "name": "stderr",
     "output_type": "stream",
     "text": [
      "[nltk_data] Downloading package stopwords to\n",
      "[nltk_data]     /Users/kaushik/nltk_data...\n",
      "[nltk_data]   Package stopwords is already up-to-date!\n"
     ]
    }
   ],
   "source": [
    "nltk.download(\"stopwords\")\n",
    "STOPWORDS = stopwords.words(\"english\")\n",
    "print (STOPWORDS[:5])\n",
    "porter = PorterStemmer()"
   ]
  },
  {
   "cell_type": "code",
   "execution_count": 125,
   "id": "17785108",
   "metadata": {},
   "outputs": [],
   "source": [
    "def preprocess(text, stopwords=STOPWORDS):\n",
    "    \"\"\"\n",
    "        Clean input text\n",
    "        :param: text: text string\n",
    "        :return: cleaned text\n",
    "    \"\"\"\n",
    "    # Lower\n",
    "    text = text.lower()\n",
    "\n",
    "    # Remove stopwords\n",
    "    #pattern = re.compile(r\"\\b(\" + r\"|\".join(stopwords) + r\")\\b\\s*\")\n",
    "    #text = pattern.sub(\"\", text)\n",
    "\n",
    "    # Remove words in paranthesis\n",
    "    #text = re.sub(r\"\\([^)]*\\)\", \"\", text)\n",
    "\n",
    "    # Spacing and filters\n",
    "    #text = re.sub(r\"([-;;.,!?<=>])\", r\" \\1 \", text)\n",
    "    #text = re.sub(\"[^A-Za-z0-9]+\", \" \", text) # remove non alphanumeric chars\n",
    "    #encoded_string = t.encode(\"ascii\", \"ignore\")\n",
    "    #t = encoded_string.decode()\n",
    "    text = re.sub(\" +\", \" \", text)  # remove multiple spaces\n",
    "    text = re.sub(r'//.*', '', text)\n",
    "    text = text.strip()\n",
    "\n",
    "    return text"
   ]
  },
  {
   "cell_type": "code",
   "execution_count": 126,
   "id": "29aab2bc",
   "metadata": {},
   "outputs": [
    {
     "name": "stdout",
     "output_type": "stream",
     "text": [
      "Privacy Policy   Sci-News.com is committed to protecting and respecting your privacy. To better inform you of our policy concerning user privacy, we have adopted the following terms. Please note that these terms are subject to change, and any such changes will be included on this page.  \n",
      "\n",
      "privacy policy sci-news.com is committed to protecting and respecting your privacy. to better inform you of our policy concerning user privacy, we have adopted the following terms. please note that these terms are subject to change, and any such changes will be included on this page.\n"
     ]
    }
   ],
   "source": [
    "preprocessed_df = df.copy()\n",
    "preprocessed_df.segment_text = preprocessed_df.segment_text.apply(preprocess)\n",
    "print (f\"{df.segment_text.values[0]}\\n\\n{preprocessed_df.segment_text.values[0]}\")"
   ]
  },
  {
   "cell_type": "code",
   "execution_count": 127,
   "id": "eb2c3135",
   "metadata": {},
   "outputs": [],
   "source": [
    "def Corpus2Tokens(corpus_df, clean = False):\n",
    "    \"\"\"\n",
    "        Convert OPP-115 corpus into a dictionary of tokens with indices\n",
    "        :param: cfg: config variable\n",
    "        :param: read_pickle: read from saved pickle object\n",
    "        :return: dictionary with keys and values as words and indices\n",
    "    \"\"\"\n",
    "    token_set = set()\n",
    "    for i, r in corpus_df.iterrows():\n",
    "        segment = corpus_df.iloc[i,0]\n",
    "        token_set = token_set.union({token.lower() for token in nltk.word_tokenize(segment)})\n",
    "\n",
    "    token_list = sorted(token_set)\n",
    "\n",
    "    corpus_tokens_idx = {None: 0}\n",
    "\n",
    "    for idx, token in enumerate(token_list,1):\n",
    "\n",
    "        corpus_tokens_idx[token] = idx\n",
    "\n",
    "    return corpus_tokens_idx"
   ]
  },
  {
   "cell_type": "code",
   "execution_count": 128,
   "id": "99c1f57d",
   "metadata": {},
   "outputs": [
    {
     "data": {
      "text/plain": [
       "6461"
      ]
     },
     "execution_count": 128,
     "metadata": {},
     "output_type": "execute_result"
    }
   ],
   "source": [
    "len(Corpus2Tokens(preprocessed_df))"
   ]
  },
  {
   "cell_type": "code",
   "execution_count": 130,
   "id": "1474879b",
   "metadata": {},
   "outputs": [],
   "source": [
    "a = {'v' : None}"
   ]
  },
  {
   "cell_type": "code",
   "execution_count": 131,
   "id": "17a0d777",
   "metadata": {},
   "outputs": [
    {
     "data": {
      "text/plain": [
       "{'v': None}"
      ]
     },
     "execution_count": 131,
     "metadata": {},
     "output_type": "execute_result"
    }
   ],
   "source": [
    "a"
   ]
  },
  {
   "cell_type": "code",
   "execution_count": 132,
   "id": "40ecda78",
   "metadata": {},
   "outputs": [],
   "source": [
    "a['v'] = 3"
   ]
  },
  {
   "cell_type": "code",
   "execution_count": 133,
   "id": "077ff797",
   "metadata": {},
   "outputs": [
    {
     "data": {
      "text/plain": [
       "{'v': 3}"
      ]
     },
     "execution_count": 133,
     "metadata": {},
     "output_type": "execute_result"
    }
   ],
   "source": [
    "a"
   ]
  },
  {
   "cell_type": "code",
   "execution_count": null,
   "id": "cbd38f12",
   "metadata": {},
   "outputs": [],
   "source": []
  }
 ],
 "metadata": {
  "kernelspec": {
   "display_name": "master-env",
   "language": "python",
   "name": "master-env"
  },
  "language_info": {
   "codemirror_mode": {
    "name": "ipython",
    "version": 3
   },
   "file_extension": ".py",
   "mimetype": "text/x-python",
   "name": "python",
   "nbconvert_exporter": "python",
   "pygments_lexer": "ipython3",
   "version": "3.8.8"
  }
 },
 "nbformat": 4,
 "nbformat_minor": 5
}
