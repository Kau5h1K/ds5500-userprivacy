{
 "cells": [
  {
   "cell_type": "markdown",
   "metadata": {},
   "source": [
    "#### Clustering Operation exposed as a Service\n",
    "\n",
    "This file does the following:\n",
    "* Creates a model with k-means clustering\n",
    "* Predicts the label and returns it"
   ]
  },
  {
   "cell_type": "code",
   "execution_count": null,
   "metadata": {},
   "outputs": [],
   "source": [
    "# imports\n",
    "from bottle import route, run"
   ]
  },
  {
   "cell_type": "code",
   "execution_count": null,
   "metadata": {},
   "outputs": [],
   "source": [
    "import numpy as np\n",
    "import matplotlib.pyplot as plt\n",
    "from matplotlib import style\n",
    "style.use(\"ggplot\")\n",
    "%matplotlib inline\n",
    "from sklearn.cluster import KMeans\n",
    "import pandas as pd\n",
    "from sklearn.preprocessing import StandardScaler\n",
    "import pickle"
   ]
  },
  {
   "cell_type": "code",
   "execution_count": null,
   "metadata": {},
   "outputs": [],
   "source": [
    "kmeans = None\n",
    "labels = None"
   ]
  },
  {
   "cell_type": "markdown",
   "metadata": {},
   "source": [
    "Method to load the csv file and perform k-means clustering"
   ]
  },
  {
   "cell_type": "code",
   "execution_count": null,
   "metadata": {},
   "outputs": [],
   "source": [
    "def perform_clustering(path='/Users/kaushik/Desktop/runasdus/src/com/lab/libraries/features.csv', n_clusters=2, sep='|'):\n",
    "    \"\"\"\n",
    "    Loads the csv file passed in the path argument and perform k-means clustering\n",
    "    By default - columns named X1 and X2 will be used as features\n",
    "    \"\"\"\n",
    "    df = pd.read_csv(path, sep=sep)\n",
    "    X = np.array(df[['X1','X2']])\n",
    "    \n",
    "    kmeans = KMeans(n_clusters=n_clusters)\n",
    "    kmeans.fit(X)\n",
    "    \n",
    "    labels = kmeans.labels_\n",
    "    centroids = kmeans.cluster_centers_\n",
    "    \n",
    "    #colors = [\"g.\",\"r.\",\"c.\",\"y.\",\"b.\"]\n",
    "\n",
    "    #for i in range(len(X)):\n",
    "        #print(\"coordinate:\",X[i], \"label:\", labels[i])\n",
    "        #plt.plot(X[i][0], X[i][1], colors[labels[i]], markersize = 10)\n",
    "\n",
    "\n",
    "    #plt.scatter(centroids[:, 0],centroids[:, 1], marker = \"x\", s=150, linewidths = 5, zorder = 10)\n",
    "    \n",
    "    # dump the model\n",
    "    pickle.dump(kmeans, open('temp.pkl', 'wb'))"
   ]
  },
  {
   "cell_type": "markdown",
   "metadata": {},
   "source": [
    "Method to predict the label of the inputs passed"
   ]
  },
  {
   "cell_type": "code",
   "execution_count": null,
   "metadata": {},
   "outputs": [],
   "source": [
    "def predict_label(X1=5, X2=0):\n",
    "    \"\"\"\n",
    "    Predict and return the label of the parameters passed.\n",
    "    Default X1=5, X2=0 (To get most confident label)\n",
    "    \"\"\"\n",
    "    model = pickle.load(open('temp.pkl', 'rb'))\n",
    "    test_values = np.array([[X1, X2]])\n",
    "    return model.predict(X=test_values)[0]"
   ]
  },
  {
   "cell_type": "markdown",
   "metadata": {},
   "source": [
    "#### Web Service Part Start"
   ]
  },
  {
   "cell_type": "markdown",
   "metadata": {},
   "source": [
    "Get Request to perform k-means and store the model"
   ]
  },
  {
   "cell_type": "code",
   "execution_count": null,
   "metadata": {},
   "outputs": [],
   "source": [
    "@route('/hello')\n",
    "def hello():\n",
    "    return \"Hello World!\""
   ]
  },
  {
   "cell_type": "code",
   "execution_count": null,
   "metadata": {},
   "outputs": [],
   "source": [
    "@route('/kmeans')\n",
    "def invokeKMeans():\n",
    "    \"\"\"\n",
    "    Exposed method to perform clustering invoked using - http://localhost:port/kmeans\n",
    "    \"\"\"\n",
    "    try:\n",
    "        perform_clustering()\n",
    "        return '1'\n",
    "    except:\n",
    "        return '0'\n"
   ]
  },
  {
   "cell_type": "code",
   "execution_count": null,
   "metadata": {},
   "outputs": [],
   "source": [
    "@route('/predict/<values:re:.*>')\n",
    "def predict(values):\n",
    "    \"\"\"\n",
    "    Exposed method to get the label of the values passed.\n",
    "    Values should be passed in the form - http://localhost:port/predict/X1|X2\n",
    "    \"\"\"\n",
    "    if(len(values) > 0):\n",
    "        values = str(values)\n",
    "        X1 = values.split('|')[0]\n",
    "        X2 = values.split('|')[1]\n",
    "       \n",
    "        prediction = predict_label(X1=X1, X2=X2)\n",
    "        \n",
    "    \n",
    "    prediction =  predict_label()\n",
    "    \n",
    "    return str(prediction)"
   ]
  },
  {
   "cell_type": "code",
   "execution_count": null,
   "metadata": {},
   "outputs": [],
   "source": [
    "run(host='localhost', port=12007, debug=False)"
   ]
  },
  {
   "cell_type": "code",
   "execution_count": null,
   "metadata": {},
   "outputs": [],
   "source": []
  },
  {
   "cell_type": "code",
   "execution_count": null,
   "metadata": {},
   "outputs": [],
   "source": []
  }
 ],
 "metadata": {
  "kernelspec": {
   "display_name": "DS5500CapstoneProject",
   "language": "python",
   "name": "ds5500capstoneproject"
  },
  "language_info": {
   "codemirror_mode": {
    "name": "ipython",
    "version": 3
   },
   "file_extension": ".py",
   "mimetype": "text/x-python",
   "name": "python",
   "nbconvert_exporter": "python",
   "pygments_lexer": "ipython3",
   "version": "3.8.12"
  }
 },
 "nbformat": 4,
 "nbformat_minor": 4
}
